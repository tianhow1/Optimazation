{
 "cells": [
  {
   "cell_type": "markdown",
   "id": "ecd39f73",
   "metadata": {},
   "source": [
    "## Math110A HW4\n",
    "<p>Name: Tianhong Wang</p>\n",
    "<p>UCIID:92807178</p>\n",
    "<p>Date: 2022/3/12</p>"
   ]
  },
  {
   "cell_type": "code",
   "execution_count": 1,
   "id": "893d5714",
   "metadata": {},
   "outputs": [],
   "source": [
    "import numpy as np  # arrays\n",
    "import matplotlib.pyplot as plt  # 2d plotting\n",
    "from numpy.linalg import norm\n",
    "from sklearn.linear_model import LinearRegression\n",
    "from sklearn.metrics import mean_squared_error\n",
    "from sklearn.preprocessing import PolynomialFeatures"
   ]
  },
  {
   "cell_type": "markdown",
   "id": "e3650602",
   "metadata": {},
   "source": [
    "## Question 1"
   ]
  },
  {
   "cell_type": "code",
   "execution_count": 2,
   "id": "05b26aa0",
   "metadata": {},
   "outputs": [],
   "source": [
    "def QObjFunc(x): # f\n",
    "    return (100*(x[1]-x[0]**2)**2+(1-x[0])**2)\n",
    "def QGradObjFunc(x): # gradient of f\n",
    "    return np.array([-400*x[0]*x[1]+400*x[0]**3+2*x[0]-2,200*(x[1]-x[0]**2)])"
   ]
  },
  {
   "cell_type": "code",
   "execution_count": 3,
   "id": "b0647326",
   "metadata": {},
   "outputs": [],
   "source": [
    "def heavyBall(objFunc, gradObjFunc, x0, tol, maxIter):\n",
    "    path = [x0]\n",
    "    k = 0\n",
    "    xk = x0 \n",
    "    pk = -gradObjFunc(xk)\n",
    "    # Compute the first step separately. \n",
    "    if norm(pk) < tol:\n",
    "        return xk, 0, path\n",
    "    else:\n",
    "        k = k + 1\n",
    "        xk = xk + alpha * pk \n",
    "        path.append(xk)\n",
    "# The rest of iterations\n",
    "    pk = -gradObjFunc(xk)\n",
    "\n",
    "    while norm(pk) > tol and k <= maxIter: \n",
    "    # use path[-2] since path[-1] is the xk\n",
    "        xk = xk + alpha * pk + beta * (xk - path[-2])\n",
    "        pk = -gradObjFunc(xk)\n",
    "        k = k + 1\n",
    "        path.append(xk)\n",
    "    path = np.array(path) # convert to array\n",
    "    if norm(pk) <= tol:\n",
    "        print(\"Found the minimizer at {x} with {iter} iterations successfully, gradient's norm is {nrm}.\".format(x=xk,iter=k,nrm=norm(pk)))\n",
    "    else:\n",
    "        print(\"Unable to locate minimizer within maximum iterations, last position is at {x}, gradient's norm is {nrm}\".format(x=xk,nrm=norm(pk)))\n",
    "    return xk, k, path"
   ]
  },
  {
   "cell_type": "code",
   "execution_count": 4,
   "id": "831b0396",
   "metadata": {},
   "outputs": [],
   "source": [
    "d2f= lambda x,y: np.array([[-400*y+2+1200*x**2,-400*x],[-400*x,200]])"
   ]
  },
  {
   "cell_type": "code",
   "execution_count": 5,
   "id": "c4e1dd8e",
   "metadata": {},
   "outputs": [
    {
     "name": "stdout",
     "output_type": "stream",
     "text": [
      "[3.99360767e-01 1.00160064e+03]\n",
      "alpha =  0.0038387715930902127\n",
      "beta =  0.9232245681381966\n"
     ]
    }
   ],
   "source": [
    "eigs, _ = np.linalg.eigh(d2f(1,1))\n",
    "print(eigs)\n",
    "print('alpha = ',4/(np.sqrt(eigs[0])+np.sqrt(eigs[1]))**2)\n",
    "print('beta = ',(np.sqrt(eigs[1])-np.sqrt(eigs[0]))**2/(np.sqrt(eigs[1])+np.sqrt(eigs[0]))**2)"
   ]
  },
  {
   "cell_type": "code",
   "execution_count": 6,
   "id": "6842378b",
   "metadata": {},
   "outputs": [
    {
     "ename": "NameError",
     "evalue": "name 'x0' is not defined",
     "output_type": "error",
     "traceback": [
      "\u001b[0;31m---------------------------------------------------------------------------\u001b[0m",
      "\u001b[0;31mNameError\u001b[0m                                 Traceback (most recent call last)",
      "\u001b[0;32m<ipython-input-6-bcc66500dc7b>\u001b[0m in \u001b[0;36m<module>\u001b[0;34m\u001b[0m\n\u001b[1;32m      1\u001b[0m \u001b[0malpha\u001b[0m\u001b[0;34m=\u001b[0m\u001b[0;36m0.0035\u001b[0m\u001b[0;34m\u001b[0m\u001b[0;34m\u001b[0m\u001b[0m\n\u001b[1;32m      2\u001b[0m \u001b[0mbeta\u001b[0m\u001b[0;34m=\u001b[0m\u001b[0;36m0.924\u001b[0m\u001b[0;34m\u001b[0m\u001b[0;34m\u001b[0m\u001b[0m\n\u001b[0;32m----> 3\u001b[0;31m \u001b[0mx_1\u001b[0m\u001b[0;34m,\u001b[0m \u001b[0miter_1\u001b[0m\u001b[0;34m,\u001b[0m \u001b[0mpath_1\u001b[0m \u001b[0;34m=\u001b[0m \u001b[0mheavyBall\u001b[0m\u001b[0;34m(\u001b[0m\u001b[0mQObjFunc\u001b[0m\u001b[0;34m,\u001b[0m \u001b[0mQGradObjFunc\u001b[0m\u001b[0;34m,\u001b[0m\u001b[0mx0\u001b[0m\u001b[0;34m,\u001b[0m \u001b[0mtol\u001b[0m\u001b[0;34m,\u001b[0m \u001b[0mmaxIter\u001b[0m\u001b[0;34m)\u001b[0m\u001b[0;34m\u001b[0m\u001b[0;34m\u001b[0m\u001b[0m\n\u001b[0m",
      "\u001b[0;31mNameError\u001b[0m: name 'x0' is not defined"
     ]
    }
   ],
   "source": [
    "alpha=0.0035\n",
    "beta=0.924\n",
    "x_1, iter_1, path_1 = heavyBall(QObjFunc, QGradObjFunc,x0, tol, maxIter)"
   ]
  },
  {
   "cell_type": "code",
   "execution_count": null,
   "id": "fc3f10eb",
   "metadata": {},
   "outputs": [],
   "source": [
    "Npath=[]\n",
    "for i in range(len(path_1)):\n",
    "    Npath.append(np.linalg.norm(QGradObjFunc(path_1[i])))\n",
    "plt.plot(np.log(Npath))\n",
    "plt.title(\"the norm of gradient on log scale vs. iteration numbers\")"
   ]
  },
  {
   "cell_type": "markdown",
   "id": "c196246c",
   "metadata": {},
   "source": [
    "## Question 2 Linear"
   ]
  },
  {
   "cell_type": "code",
   "execution_count": 7,
   "id": "835abd28",
   "metadata": {},
   "outputs": [],
   "source": [
    "data = np.loadtxt(\"CaCovidInfMarch24toMidJuly.txt\").reshape(-1,1)\n",
    "date = np.arange(1, len(data) + 1).reshape(-1,1)"
   ]
  },
  {
   "cell_type": "code",
   "execution_count": 8,
   "id": "fc81d57e",
   "metadata": {
    "scrolled": true
   },
   "outputs": [
    {
     "data": {
      "text/plain": [
       "[<matplotlib.lines.Line2D at 0x7fbd1624b5f8>]"
      ]
     },
     "execution_count": 8,
     "metadata": {},
     "output_type": "execute_result"
    },
    {
     "data": {
      "image/png": "[encoded data removed]",
      "text/plain": [
       "<Figure size 432x288 with 1 Axes>"
      ]
     },
     "metadata": {
      "needs_background": "light"
     },
     "output_type": "display_data"
    }
   ],
   "source": [
    "plt.plot(date,data,\".\")"
   ]
  },
  {
   "cell_type": "markdown",
   "id": "2403e846",
   "metadata": {},
   "source": [
    "### a) normal line"
   ]
  },
  {
   "cell_type": "code",
   "execution_count": 9,
   "id": "c598c062",
   "metadata": {},
   "outputs": [
    {
     "data": {
      "text/plain": [
       "(array([613.31244327]), array([[30.17059661]]))"
      ]
     },
     "execution_count": 9,
     "metadata": {},
     "output_type": "execute_result"
    }
   ],
   "source": [
    "#training data\n",
    "x_t=date[0:90]\n",
    "y_t=data[0:90]\n",
    "#validation data\n",
    "x_val=date[90:120]\n",
    "model = LinearRegression()\n",
    "model.fit(x_t, y_t) \n",
    "model.intercept_, model.coef_"
   ]
  },
  {
   "cell_type": "markdown",
   "id": "ed5ec290",
   "metadata": {},
   "source": [
    "### b) full batch gradient descent;"
   ]
  },
  {
   "cell_type": "code",
   "execution_count": 10,
   "id": "67ede2ce",
   "metadata": {},
   "outputs": [],
   "source": [
    "def gradient_descent(X_b, y, n_iterations,sz, eta=4e-9):\n",
    "    # n_iterations: total epochs\n",
    "    # eta: fixed learning rate (step size)\n",
    "    # X: for plotting purposes\n",
    "    theta_path_bgd = []\n",
    "    theta = np.random.randn(sz,1) #random start\n",
    "    for iteration in range(n_iterations):\n",
    "        gradients = X_b.T.dot(X_b.dot(theta) - y)\n",
    "        theta = theta - eta * gradients\n",
    "        theta_path_bgd.append(theta)\n",
    "    return theta_path_bgd, theta"
   ]
  },
  {
   "cell_type": "code",
   "execution_count": 11,
   "id": "51bc42e0",
   "metadata": {},
   "outputs": [],
   "source": [
    "X_b1 = np.c_[np.ones((90, 1)), x_t] # add x0 = 1 to each instance"
   ]
  },
  {
   "cell_type": "code",
   "execution_count": 12,
   "id": "5b5f3b65",
   "metadata": {
    "scrolled": true
   },
   "outputs": [
    {
     "data": {
      "text/plain": [
       "array([[18.76032746],\n",
       "       [40.02593397]])"
      ]
     },
     "execution_count": 12,
     "metadata": {},
     "output_type": "execute_result"
    }
   ],
   "source": [
    "theta_path_bgd1, theta1= gradient_descent(X_b1, y_t,300000,sz=2)\n",
    "theta1"
   ]
  },
  {
   "cell_type": "markdown",
   "id": "6852ec58",
   "metadata": {},
   "source": [
    "### c) mini-batch (size 10) stochastic gradient descent"
   ]
  },
  {
   "cell_type": "code",
   "execution_count": 13,
   "id": "9c2d778a",
   "metadata": {},
   "outputs": [],
   "source": [
    "def minibatch_gradient_descent(X_b, y, n_iterations, minibatch_size,sz, t0=500, t1=500):\n",
    "    theta_path_mgd = []\n",
    "    np.random.seed(42)\n",
    "    m = len(X_b)\n",
    "    theta = np.random.randn(sz,1) # random initialization\n",
    "    def learning_schedule(t): # Learning rate\n",
    "        return t0 / (t + t1)\n",
    "    t = 0\n",
    "    for epoch in range(n_iterations):\n",
    "        shuffled_indices = np.random.permutation(m)\n",
    "        X_b_shuffled = X_b[shuffled_indices]\n",
    "        # shuffle/randomize indices towards iid samples\n",
    "        # to improve settling down towards convergence\n",
    "        y_shuffled = y[shuffled_indices]\n",
    "        for i in range(0, m, minibatch_size):\n",
    "            t += 1\n",
    "            xi = X_b_shuffled[i:i+minibatch_size]\n",
    "            yi = y_shuffled[i:i+minibatch_size]\n",
    "            gradients = 2/minibatch_size * xi.T.dot(xi.dot(theta) - yi)\n",
    "            eta = learning_schedule(t)\n",
    "            theta = theta - eta * gradients\n",
    "            theta_path_mgd.append(theta)\n",
    "    return theta_path_mgd, theta"
   ]
  },
  {
   "cell_type": "code",
   "execution_count": 14,
   "id": "e7895dff",
   "metadata": {},
   "outputs": [
    {
     "data": {
      "text/plain": [
       "array([[52.5641798 ],\n",
       "       [39.45844027]])"
      ]
     },
     "execution_count": 14,
     "metadata": {},
     "output_type": "execute_result"
    }
   ],
   "source": [
    "theta_path_mgd, theta1_m= minibatch_gradient_descent(X_b1, y_t,10000,10,sz=2, t0=10, t1=5000000)\n",
    "theta1_m"
   ]
  },
  {
   "cell_type": "markdown",
   "id": "92b3146e",
   "metadata": {},
   "source": [
    "### d) compute training and prediction mean square errors"
   ]
  },
  {
   "cell_type": "markdown",
   "id": "e04d2606",
   "metadata": {},
   "source": [
    "#### normal line"
   ]
  },
  {
   "cell_type": "code",
   "execution_count": 15,
   "id": "de4237f4",
   "metadata": {},
   "outputs": [
    {
     "data": {
      "text/plain": [
       "2162.0575098036675"
      ]
     },
     "execution_count": 15,
     "metadata": {},
     "output_type": "execute_result"
    }
   ],
   "source": [
    "np.sqrt(mean_squared_error(data, model.predict(date)))"
   ]
  },
  {
   "cell_type": "code",
   "execution_count": 16,
   "id": "fd4a872d",
   "metadata": {
    "scrolled": true
   },
   "outputs": [
    {
     "ename": "NameError",
     "evalue": "name 'Xcovid' is not defined",
     "output_type": "error",
     "traceback": [
      "\u001b[0;31m---------------------------------------------------------------------------\u001b[0m",
      "\u001b[0;31mNameError\u001b[0m                                 Traceback (most recent call last)",
      "\u001b[0;32m<ipython-input-16-751ac1c16d25>\u001b[0m in \u001b[0;36m<module>\u001b[0;34m\u001b[0m\n\u001b[0;32m----> 1\u001b[0;31m \u001b[0mplt\u001b[0m\u001b[0;34m.\u001b[0m\u001b[0mplot\u001b[0m\u001b[0;34m(\u001b[0m\u001b[0mXcovid\u001b[0m\u001b[0;34m,\u001b[0m\u001b[0mdata\u001b[0m\u001b[0;34m,\u001b[0m\u001b[0;34m\".\"\u001b[0m\u001b[0;34m)\u001b[0m\u001b[0;34m\u001b[0m\u001b[0;34m\u001b[0m\u001b[0m\n\u001b[0m\u001b[1;32m      2\u001b[0m \u001b[0mplt\u001b[0m\u001b[0;34m.\u001b[0m\u001b[0mplot\u001b[0m\u001b[0;34m(\u001b[0m\u001b[0mx_t\u001b[0m\u001b[0;34m,\u001b[0m \u001b[0mmodel\u001b[0m\u001b[0;34m.\u001b[0m\u001b[0mpredict\u001b[0m\u001b[0;34m(\u001b[0m\u001b[0mx_t\u001b[0m\u001b[0;34m)\u001b[0m\u001b[0;34m,\u001b[0m \u001b[0;34m\"r\"\u001b[0m\u001b[0;34m)\u001b[0m\u001b[0;34m\u001b[0m\u001b[0;34m\u001b[0m\u001b[0m\n\u001b[1;32m      3\u001b[0m \u001b[0mplt\u001b[0m\u001b[0;34m.\u001b[0m\u001b[0mplot\u001b[0m\u001b[0;34m(\u001b[0m\u001b[0mx_val\u001b[0m\u001b[0;34m,\u001b[0m \u001b[0mmodel\u001b[0m\u001b[0;34m.\u001b[0m\u001b[0mpredict\u001b[0m\u001b[0;34m(\u001b[0m\u001b[0mx_val\u001b[0m\u001b[0;34m)\u001b[0m\u001b[0;34m,\u001b[0m \u001b[0;34m\"g\"\u001b[0m\u001b[0;34m)\u001b[0m\u001b[0;34m\u001b[0m\u001b[0;34m\u001b[0m\u001b[0m\n",
      "\u001b[0;31mNameError\u001b[0m: name 'Xcovid' is not defined"
     ]
    }
   ],
   "source": [
    "plt.plot(Xcovid,data,\".\")\n",
    "plt.plot(x_t, model.predict(x_t), \"r\")\n",
    "plt.plot(x_val, model.predict(x_val), \"g\")"
   ]
  },
  {
   "cell_type": "markdown",
   "id": "87bdaf98",
   "metadata": {},
   "source": [
    "#### full batch"
   ]
  },
  {
   "cell_type": "code",
   "execution_count": 17,
   "id": "aaa6448c",
   "metadata": {},
   "outputs": [
    {
     "data": {
      "text/plain": [
       "1963.3351730066483"
      ]
     },
     "execution_count": 17,
     "metadata": {},
     "output_type": "execute_result"
    }
   ],
   "source": [
    "np.sqrt(mean_squared_error(data,theta1[0] + theta1[1]*date))"
   ]
  },
  {
   "cell_type": "code",
   "execution_count": 18,
   "id": "77e8fd7b",
   "metadata": {},
   "outputs": [
    {
     "data": {
      "image/png": "[encoded data removed]",
      "text/plain": [
       "<Figure size 432x288 with 1 Axes>"
      ]
     },
     "metadata": {
      "needs_background": "light"
     },
     "output_type": "display_data"
    }
   ],
   "source": [
    "plt.plot(date, data, \"b.\")\n",
    "plt.plot(x_t, theta1[0] + theta1[1]*x_t,\"r\")\n",
    "plt.plot(x_val, theta1[0] + theta1[1]*x_val,\"g\")\n",
    "plt.show()"
   ]
  },
  {
   "cell_type": "markdown",
   "id": "73f500d8",
   "metadata": {},
   "source": [
    "### mini batch"
   ]
  },
  {
   "cell_type": "code",
   "execution_count": 19,
   "id": "04fc32d9",
   "metadata": {},
   "outputs": [
    {
     "data": {
      "text/plain": [
       "1973.9384868253676"
      ]
     },
     "execution_count": 19,
     "metadata": {},
     "output_type": "execute_result"
    }
   ],
   "source": [
    "np.sqrt(mean_squared_error(data,theta1_m[0] + theta1_m[1]*date))"
   ]
  },
  {
   "cell_type": "code",
   "execution_count": 20,
   "id": "99e58012",
   "metadata": {},
   "outputs": [
    {
     "data": {
      "image/png": "[encoded data removed]",
      "text/plain": [
       "<Figure size 432x288 with 1 Axes>"
      ]
     },
     "metadata": {
      "needs_background": "light"
     },
     "output_type": "display_data"
    }
   ],
   "source": [
    "plt.plot(date, data, \"b.\")\n",
    "plt.plot(x_t, theta1[0] + theta1[1]*x_t,\"r\")\n",
    "plt.plot(x_val, theta1[0] + theta1[1]*x_val,\"g\")\n",
    "plt.show()"
   ]
  },
  {
   "cell_type": "markdown",
   "id": "f7a35dfb",
   "metadata": {},
   "source": [
    "## Q3 quadratic polynomial"
   ]
  },
  {
   "cell_type": "markdown",
   "id": "c3008836",
   "metadata": {},
   "source": [
    "### a) normal line"
   ]
  },
  {
   "cell_type": "code",
   "execution_count": 21,
   "id": "896588e8",
   "metadata": {},
   "outputs": [],
   "source": [
    "poly_features = PolynomialFeatures(degree=2, include_bias=False)\n",
    "X_poly = poly_features.fit_transform(date)"
   ]
  },
  {
   "cell_type": "code",
   "execution_count": 22,
   "id": "710b3262",
   "metadata": {
    "scrolled": true
   },
   "outputs": [
    {
     "data": {
      "text/plain": [
       "(array([1001.09376488]), array([[4.88051042, 0.27791304]]))"
      ]
     },
     "execution_count": 22,
     "metadata": {},
     "output_type": "execute_result"
    }
   ],
   "source": [
    "x_t2=X_poly[0:90]\n",
    "x_val2=X_poly[90:120]\n",
    "model2= LinearRegression()\n",
    "model2.fit(x_t2, y_t)\n",
    "model2.intercept_, model2.coef_"
   ]
  },
  {
   "cell_type": "markdown",
   "id": "1837016b",
   "metadata": {},
   "source": [
    "## b) full batch"
   ]
  },
  {
   "cell_type": "code",
   "execution_count": 23,
   "id": "8b90cc06",
   "metadata": {},
   "outputs": [],
   "source": [
    "X_b2 = np.c_[np.ones((90, 1)), x_t2] # add x0 = 1 to each instance"
   ]
  },
  {
   "cell_type": "code",
   "execution_count": 24,
   "id": "d7e46e68",
   "metadata": {},
   "outputs": [],
   "source": [
    "theta_path_bgd2, theta2= gradient_descent(X_b2, y_t, 300000,sz=3,eta=3e-11)"
   ]
  },
  {
   "cell_type": "code",
   "execution_count": 25,
   "id": "6503a180",
   "metadata": {},
   "outputs": [
    {
     "name": "stdout",
     "output_type": "stream",
     "text": [
      "[[0.8227465 ]\n",
      " [6.60891413]\n",
      " [0.45761019]]\n"
     ]
    }
   ],
   "source": [
    "print(theta2)"
   ]
  },
  {
   "cell_type": "markdown",
   "id": "8e4f2ab3",
   "metadata": {},
   "source": [
    "### c) mini batch"
   ]
  },
  {
   "cell_type": "code",
   "execution_count": 26,
   "id": "a0976c0e",
   "metadata": {},
   "outputs": [
    {
     "data": {
      "text/plain": [
       "array([[0.6704804 ],\n",
       "       [2.89961118],\n",
       "       [0.50883403]])"
      ]
     },
     "execution_count": 26,
     "metadata": {},
     "output_type": "execute_result"
    }
   ],
   "source": [
    "theta_path_mgd2, theta2_m= minibatch_gradient_descent(X_b2, y_t, 30000, 10, sz=3,t0=0.0001, t1=5e4)\n",
    "theta2_m"
   ]
  },
  {
   "cell_type": "markdown",
   "id": "337d46dd",
   "metadata": {},
   "source": [
    "### d) compute training and prediction mean square errors"
   ]
  },
  {
   "cell_type": "markdown",
   "id": "41f88470",
   "metadata": {},
   "source": [
    "#### normal line"
   ]
  },
  {
   "cell_type": "code",
   "execution_count": 27,
   "id": "4051c490",
   "metadata": {},
   "outputs": [
    {
     "data": {
      "text/plain": [
       "1741.6430953006652"
      ]
     },
     "execution_count": 27,
     "metadata": {},
     "output_type": "execute_result"
    }
   ],
   "source": [
    "np.sqrt(mean_squared_error(data, model2.predict(X_poly)))"
   ]
  },
  {
   "cell_type": "code",
   "execution_count": 28,
   "id": "5714c696",
   "metadata": {
    "scrolled": false
   },
   "outputs": [
    {
     "data": {
      "text/plain": [
       "[<matplotlib.lines.Line2D at 0x7fbcfc11e320>]"
      ]
     },
     "execution_count": 28,
     "metadata": {},
     "output_type": "execute_result"
    },
    {
     "data": {
      "image/png": "[encoded data removed]",
      "text/plain": [
       "<Figure size 432x288 with 1 Axes>"
      ]
     },
     "metadata": {
      "needs_background": "light"
     },
     "output_type": "display_data"
    }
   ],
   "source": [
    "plt.plot(date,data,\".\")\n",
    "plt.plot(x_t, model2.predict(x_t2), \"r\")\n",
    "plt.plot(x_val, model2.predict(x_val2), \"g\")"
   ]
  },
  {
   "cell_type": "markdown",
   "id": "d3ef5787",
   "metadata": {},
   "source": [
    "#### full batch"
   ]
  },
  {
   "cell_type": "code",
   "execution_count": 29,
   "id": "6422da98",
   "metadata": {},
   "outputs": [
    {
     "data": {
      "text/plain": [
       "1307.9396762998845"
      ]
     },
     "execution_count": 29,
     "metadata": {},
     "output_type": "execute_result"
    }
   ],
   "source": [
    "np.sqrt(mean_squared_error(data,theta2[0] + theta2[1]*date+theta2[2]*date**2))"
   ]
  },
  {
   "cell_type": "code",
   "execution_count": 30,
   "id": "63e1213f",
   "metadata": {},
   "outputs": [
    {
     "data": {
      "image/png": "[encoded data removed]",
      "text/plain": [
       "<Figure size 432x288 with 1 Axes>"
      ]
     },
     "metadata": {
      "needs_background": "light"
     },
     "output_type": "display_data"
    }
   ],
   "source": [
    "plt.plot(date, data, \"b.\")\n",
    "FQ1=theta2[0] + theta2[1]*x_t+theta2[2]*x_t**2\n",
    "FQ2=theta2[0] + theta2[1]*x_val+theta2[2]*x_val**2\n",
    "plt.plot(x_t,FQ1,\"r\")\n",
    "plt.plot(x_val,FQ2,\"g\")\n",
    "plt.show()"
   ]
  },
  {
   "cell_type": "markdown",
   "id": "356e9ef1",
   "metadata": {},
   "source": [
    "### mini batch"
   ]
  },
  {
   "cell_type": "code",
   "execution_count": 31,
   "id": "ba7a6ea8",
   "metadata": {},
   "outputs": [
    {
     "data": {
      "text/plain": [
       "1253.2306352430776"
      ]
     },
     "execution_count": 31,
     "metadata": {},
     "output_type": "execute_result"
    }
   ],
   "source": [
    "np.sqrt(mean_squared_error(data,theta2_m[0] + theta2_m[1]*date+theta2_m[2]*date**2))"
   ]
  },
  {
   "cell_type": "code",
   "execution_count": 32,
   "id": "ae3b82e4",
   "metadata": {},
   "outputs": [
    {
     "data": {
      "image/png": "[encoded data removed]",
      "text/plain": [
       "<Figure size 432x288 with 1 Axes>"
      ]
     },
     "metadata": {
      "needs_background": "light"
     },
     "output_type": "display_data"
    }
   ],
   "source": [
    "plt.plot(date, data, \"b.\")\n",
    "MFQ1=theta2_m[0] + theta2_m[1]*x_t+theta2_m[2]*x_t**2\n",
    "MFQ2=theta2_m[0] + theta2_m[1]*x_val+theta2_m[2]*x_val**2\n",
    "plt.plot(x_t,MFQ1,\"r\")\n",
    "plt.plot(x_val,MFQ2,\"g\")\n",
    "plt.show()"
   ]
  },
  {
   "cell_type": "markdown",
   "id": "28ab7151",
   "metadata": {},
   "source": [
    "## Q4 cubic polynomial"
   ]
  },
  {
   "cell_type": "markdown",
   "id": "1901fc01",
   "metadata": {},
   "source": [
    "### a) normal line"
   ]
  },
  {
   "cell_type": "code",
   "execution_count": 33,
   "id": "70fa2c1a",
   "metadata": {},
   "outputs": [],
   "source": [
    "poly_features2 = PolynomialFeatures(degree=3, include_bias=False)\n",
    "X_poly2 = poly_features2.fit_transform(date)"
   ]
  },
  {
   "cell_type": "code",
   "execution_count": 34,
   "id": "fd4a4e4e",
   "metadata": {},
   "outputs": [
    {
     "data": {
      "text/plain": [
       "(array([653.08781856]),\n",
       " array([[ 4.95422479e+01, -9.42304168e-01,  8.93932017e-03]]))"
      ]
     },
     "execution_count": 34,
     "metadata": {},
     "output_type": "execute_result"
    }
   ],
   "source": [
    "x_t3=X_poly2[0:90]\n",
    "x_val3=X_poly2[90:120]\n",
    "model3= LinearRegression()\n",
    "model3.fit(x_t3, y_t)\n",
    "model3.intercept_, model3.coef_"
   ]
  },
  {
   "cell_type": "markdown",
   "id": "a9ec3c94",
   "metadata": {},
   "source": [
    "### b) full batch"
   ]
  },
  {
   "cell_type": "code",
   "execution_count": 35,
   "id": "7985faf3",
   "metadata": {},
   "outputs": [],
   "source": [
    "X_b3 = np.c_[np.ones((90, 1)), x_t3] # add x0 = 1 to each instance"
   ]
  },
  {
   "cell_type": "code",
   "execution_count": 43,
   "id": "dfa8bc63",
   "metadata": {},
   "outputs": [
    {
     "name": "stdout",
     "output_type": "stream",
     "text": [
      "[[7.28924299e-01]\n",
      " [1.77795903e+00]\n",
      " [4.92367052e-01]\n",
      " [1.49337707e-04]]\n"
     ]
    }
   ],
   "source": [
    "theta_path_bgd3, theta3= gradient_descent(X_b3, y_t,  10000,sz=4,eta=4e-14)\n",
    "print(theta3)"
   ]
  },
  {
   "cell_type": "markdown",
   "id": "eb173680",
   "metadata": {},
   "source": [
    "### mini batch"
   ]
  },
  {
   "cell_type": "code",
   "execution_count": 44,
   "id": "a0be49e7",
   "metadata": {},
   "outputs": [
    {
     "data": {
      "text/plain": [
       "array([[ 0.49672411],\n",
       "       [-0.13822395],\n",
       "       [ 0.63480143],\n",
       "       [-0.0013573 ]])"
      ]
     },
     "execution_count": 44,
     "metadata": {},
     "output_type": "execute_result"
    }
   ],
   "source": [
    "theta_path_mgd3, theta3_m= minibatch_gradient_descent(X_b3, y_t, 8000, 10, sz=4,t0=0.0000001, t1=5e5)\n",
    "theta3_m"
   ]
  },
  {
   "cell_type": "markdown",
   "id": "ef794287",
   "metadata": {},
   "source": [
    "### d) compute training and prediction mean square errors"
   ]
  },
  {
   "cell_type": "markdown",
   "id": "a46dfc7a",
   "metadata": {},
   "source": [
    "#### normal line"
   ]
  },
  {
   "cell_type": "code",
   "execution_count": 45,
   "id": "f6696e17",
   "metadata": {},
   "outputs": [
    {
     "data": {
      "text/plain": [
       "1086.3586813992654"
      ]
     },
     "execution_count": 45,
     "metadata": {},
     "output_type": "execute_result"
    }
   ],
   "source": [
    "np.sqrt(mean_squared_error(data, model3.predict(X_poly2)))"
   ]
  },
  {
   "cell_type": "code",
   "execution_count": 46,
   "id": "424296d5",
   "metadata": {},
   "outputs": [
    {
     "data": {
      "text/plain": [
       "[<matplotlib.lines.Line2D at 0x7fbcfc933f28>]"
      ]
     },
     "execution_count": 46,
     "metadata": {},
     "output_type": "execute_result"
    },
    {
     "data": {
      "image/png": "[encoded data removed]",
      "text/plain": [
       "<Figure size 432x288 with 1 Axes>"
      ]
     },
     "metadata": {
      "needs_background": "light"
     },
     "output_type": "display_data"
    }
   ],
   "source": [
    "plt.plot(date,data,\".\")\n",
    "plt.plot(x_t, model3.predict(x_t3), \"r\")\n",
    "plt.plot(x_val, model3.predict(x_val3), \"g\")"
   ]
  },
  {
   "cell_type": "markdown",
   "id": "97e30b70",
   "metadata": {},
   "source": [
    "#### full batch"
   ]
  },
  {
   "cell_type": "code",
   "execution_count": 47,
   "id": "3fc65d23",
   "metadata": {},
   "outputs": [
    {
     "data": {
      "text/plain": [
       "1307.1163539073425"
      ]
     },
     "execution_count": 47,
     "metadata": {},
     "output_type": "execute_result"
    }
   ],
   "source": [
    "np.sqrt(mean_squared_error(data,theta3[0]+theta3[1]*date+theta3[2]*date**2+theta3[3]*date**3))"
   ]
  },
  {
   "cell_type": "code",
   "execution_count": 48,
   "id": "4bb6c8e3",
   "metadata": {},
   "outputs": [
    {
     "data": {
      "image/png": "[encoded data removed]",
      "text/plain": [
       "<Figure size 432x288 with 1 Axes>"
      ]
     },
     "metadata": {
      "needs_background": "light"
     },
     "output_type": "display_data"
    }
   ],
   "source": [
    "plt.plot(date, data, \"b.\")\n",
    "FC3=theta3[0] + theta3[1]*x_t+theta3[2]*x_t**2+theta3[3]*x_t**3\n",
    "FC4=theta3[0] + theta3[1]*x_val+theta3[2]*x_val**2+theta3[3]*x_val**3\n",
    "plt.plot(x_t,FC3,\"r\")\n",
    "plt.plot(x_val,FC4,\"g\")\n",
    "plt.show()"
   ]
  },
  {
   "cell_type": "markdown",
   "id": "cc71ed43",
   "metadata": {},
   "source": [
    "### mini batch"
   ]
  },
  {
   "cell_type": "code",
   "execution_count": 49,
   "id": "b57e16d7",
   "metadata": {},
   "outputs": [
    {
     "data": {
      "text/plain": [
       "1469.2924430864073"
      ]
     },
     "execution_count": 49,
     "metadata": {},
     "output_type": "execute_result"
    }
   ],
   "source": [
    "np.sqrt(mean_squared_error(data,theta3_m[0]+theta3_m[1]*date+theta3_m[2]*date**2+theta3_m[3]*date**3))"
   ]
  },
  {
   "cell_type": "code",
   "execution_count": 50,
   "id": "5b1d0e72",
   "metadata": {},
   "outputs": [
    {
     "data": {
      "image/png": "[encoded data removed]",
      "text/plain": [
       "<Figure size 432x288 with 1 Axes>"
      ]
     },
     "metadata": {
      "needs_background": "light"
     },
     "output_type": "display_data"
    }
   ],
   "source": [
    "plt.plot(date, data, \"b.\")\n",
    "MFC3=theta3_m[0] + theta3_m[1]*x_t+theta3_m[2]*x_t**2+theta3_m[3]*x_t**3\n",
    "MFC4=theta3_m[0] + theta3_m[1]*x_val+theta3_m[2]*x_val**2+theta3_m[3]*x_val**3\n",
    "plt.plot(x_t,MFC3,\"r\")\n",
    "plt.plot(x_val,MFC4,\"g\")\n",
    "plt.show()"
   ]
  },
  {
   "cell_type": "markdown",
   "id": "fcbcef45",
   "metadata": {},
   "source": [
    "## Question 5"
   ]
  },
  {
   "cell_type": "markdown",
   "id": "d010d842",
   "metadata": {},
   "source": [
    "From the data, it already shows it's not linear. \n",
    "Mini batch for 2nd and 3rd order methods are easy to overfitting. \n",
    "The full batch method is more easy to be over fitting, but from least equare error anaylsis, it didn't shows it's benefits.\n",
    "The regression model looks a little bit under fitting. \n",
    "In my opinion, the best method is compute optimal solution by solving normal third order polynomial equation. It shows the best result. I also believe that with some modification, the minibatch can also shows its benefit in prediction. But it I didn't get a good premeter to satisfy this model. Thus I choose third order polynomial regression model."
   ]
  },
  {
   "cell_type": "code",
   "execution_count": null,
   "id": "de1dd0b9",
   "metadata": {},
   "outputs": [],
   "source": []
  }
 ],
 "metadata": {
  "kernelspec": {
   "display_name": "Python 3",
   "language": "python",
   "name": "python3"
  },
  "language_info": {
   "codemirror_mode": {
    "name": "ipython",
    "version": 3
   },
   "file_extension": ".py",
   "mimetype": "text/x-python",
   "name": "python",
   "nbconvert_exporter": "python",
   "pygments_lexer": "ipython3",
   "version": "3.6.13"
  }
 },
 "nbformat": 4,
 "nbformat_minor": 5
}
