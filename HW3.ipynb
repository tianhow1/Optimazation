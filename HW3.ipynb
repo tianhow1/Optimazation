{
 "cells": [
  {
   "cell_type": "code",
   "execution_count": 348,
   "id": "00c0e081",
   "metadata": {},
   "outputs": [],
   "source": [
    "a,b = 1,100   # parameters for Rosenbrock function\n",
    "f = lambda x,y: (a-x)**2+b*(y-x**2)**2\n",
    "Df = lambda x,y: np.array([2*(x-a)-4*b*x*(y-x**2),\n",
    "                           2*b*(y-x**2)])\n",
    "\n",
    "x0,y0 = 1.2,1.2    # initial point for all methods"
   ]
  },
  {
   "cell_type": "code",
   "execution_count": 349,
   "id": "01ae4c4e",
   "metadata": {},
   "outputs": [],
   "source": [
    "import numpy as np\n",
    "from numpy.linalg import norm, solve, multi_dot\n",
    "import matplotlib.pyplot as plt\n",
    "from scipy.optimize import minimize_scalar"
   ]
  },
  {
   "cell_type": "code",
   "execution_count": 350,
   "id": "7c4ffc6e",
   "metadata": {},
   "outputs": [],
   "source": [
    "def PR_beta(Dfk,Dfk1, pk): #doesn't use pk, just including the parameter since other beta methods use pk\n",
    "    return ((Dfk1-Dfk)@Dfk1) / (Dfk@Dfk)"
   ]
  },
  {
   "cell_type": "code",
   "execution_count": 351,
   "id": "5003d4bb",
   "metadata": {},
   "outputs": [],
   "source": [
    "def FR_beta(Dfk,Dfk1, pk): #doesn't use pk\n",
    "    return (Dfk1@Dfk1) / (Dfk@Dfk)"
   ]
  },
  {
   "cell_type": "code",
   "execution_count": 352,
   "id": "84da0ef2",
   "metadata": {},
   "outputs": [],
   "source": [
    "def nonlinear_exact_line_search_CG(x0, y0, f, Df, beta, restart=False, restart_itr=2 , tol=1e-8, max_steps=10000):\n",
    "    x,y = x0,y0\n",
    "    path = [[x,y]]\n",
    "    i=0 # iteration count\n",
    "    dx = Df(x,y)          # current gradient\n",
    "    pk = -dx\n",
    "    while np.linalg.norm(dx)>tol and i<max_steps:    \n",
    "        def subproblem1D(alpha):                  # exact line search\n",
    "            return f(x + alpha*pk[0], y + alpha*pk[1])\n",
    "        \n",
    "        res = minimize_scalar(subproblem1D)\n",
    "        alpha= res.x      \n",
    "        xnew,ynew = x + alpha*pk[0], y + alpha*pk[1]\n",
    "        \n",
    "        dx1 = Df(xnew,ynew)      # Df_{k+1}\n",
    "        bk = beta(dx,dx1,pk)  # beta_k\n",
    "        if restart and i%restart_itr == 0:\n",
    "            bk=0\n",
    "        pk = -dx1 + bk*pk\n",
    "        path.append([xnew,ynew])\n",
    "        x,y = xnew,ynew\n",
    "        dx = dx1\n",
    "        i += 1\n",
    "    return np.array(path), i, x, y"
   ]
  },
  {
   "cell_type": "code",
   "execution_count": 353,
   "id": "aef67f11",
   "metadata": {},
   "outputs": [],
   "source": [
    "def plot_path(path, func, title, window=[0,3,0,3], numContours=50, skip=1):\n",
    "    '''Plots path defined in (N,2) array \"path\" on a contour plot of \"func\" in window \"window\"'''\n",
    "    plt.figure(figsize=(10,10))\n",
    "    X = np.linspace(window[0],window[1],300)\n",
    "    Y = np.linspace(window[2],window[3],300)\n",
    "    Xmesh, Ymesh = np.meshgrid(X,Y)\n",
    "    Z = func(Xmesh,Ymesh)\n",
    "    CS = plt.contour(Xmesh, Ymesh, Z, numContours, cmap='jet')\n",
    "    plt.clabel(CS,inline_spacing=0,fmt='%d')\n",
    "    plt.axis(window)\n",
    "    plt.xlabel('x')\n",
    "    plt.ylabel('y')\n",
    "    plt.title(title)\n",
    "\n",
    "    for i in range(path.shape[0]-1): # iterate through steps\n",
    "        if i%skip==0:\n",
    "            # only plot arrows every \"skip\" iterations\n",
    "            plt.arrow(path[i,0],path[i,1],path[i+1,0]-path[i,0],path[i+1,1]-path[i,1],\n",
    "                      color='k',length_includes_head=True)\n",
    "    plt.show()"
   ]
  },
  {
   "cell_type": "code",
   "execution_count": 354,
   "id": "08004458",
   "metadata": {},
   "outputs": [],
   "source": [
    "def approx_convergence_rate1(path):\n",
    "    '''Given a path defined by an iteration and a known minimizer, approximates convergence rate'''\n",
    "    p=np.log(np.linalg.norm(np.array(path[-1])-np.array(path[-2])\n",
    "                           )/(np.linalg.norm(np.array(path[-2])-np.array(path[-3])))\n",
    "            )/(np.log(np.linalg.norm(np.array(path[-2])-np.array(path[-3])\n",
    "                                     )/(np.linalg.norm(np.array(path[-3])\n",
    "                                                       -np.array(path[-4])))))\n",
    "    return p"
   ]
  },
  {
   "cell_type": "code",
   "execution_count": 355,
   "id": "2ec1a6aa",
   "metadata": {},
   "outputs": [],
   "source": [
    "def approx_convergence_rate2(path, minimizer, numToAvg=10,showPlot=True):\n",
    "    '''Given a path defined by an iteration and a known minimizer, approximates convergence rate'''\n",
    "    path=list(path)\n",
    "    path1=path[1:-1]\n",
    "    path2=path[0:-2]\n",
    "    path1=np.array(path1)\n",
    "    path2=np.array(path2)\n",
    "    err = np.linalg.norm(path1-path2,axis=1) # ||x_k-x*||=e_k\n",
    "    \n",
    "    # if converged in very few steps, return infinite order\n",
    "    if len(err)<=3:\n",
    "        return np.inf\n",
    "    \n",
    "    pp = np.zeros(len(err)-3)\n",
    "    for i in range(len(err)-3):\n",
    "        pp[i] = np.log(err[i+2]/err[i+1])/np.log(err[i+1]/err[i])\n",
    "    \n",
    "    if numToAvg>len(pp):\n",
    "        # if not enough iterations to average, just average all\n",
    "        p=np.mean(pp)\n",
    "    else:\n",
    "        # return mean of last few iterations\n",
    "        p=np.mean(pp[-numToAvg:])\n",
    "        \n",
    "    # plot\n",
    "    if showPlot:\n",
    "        plt.plot(pp)\n",
    "        plt.plot(pp*0+p)\n",
    "        plt.xlabel('k')\n",
    "        plt.ylabel('p')\n",
    "        plt.title(f'p={p}')\n",
    "        plt.show()\n",
    "        \n",
    "    return p"
   ]
  },
  {
   "cell_type": "code",
   "execution_count": 356,
   "id": "be3435b3",
   "metadata": {},
   "outputs": [],
   "source": [
    "def approx_convergence_rate(path, minimizer, numToAvg=3, showPlot=True):\n",
    "    '''Given a path defined by an iteration and a known minimizer, approximates convergence rate'''\n",
    "    err = np.linalg.norm(path-np.array(minimizer),axis=1) # ||x_k-x*||=e_k\n",
    "    \n",
    "    # if converged in very few steps, return infinite order\n",
    "    if len(err)<=3:\n",
    "        return np.inf\n",
    "    \n",
    "    pp = np.zeros(len(err)-3)\n",
    "    for i in range(len(err)-3):\n",
    "        pp[i] = np.log(err[i+2]/err[i+1])/np.log(err[i+1]/err[i])\n",
    "    \n",
    "    if numToAvg>len(pp):\n",
    "        # if not enough iterations to average, just average all\n",
    "        p=np.mean(pp)\n",
    "    else:\n",
    "        # return mean of last few iterations\n",
    "        p=np.mean(pp[-numToAvg:])\n",
    "        \n",
    "    # plot\n",
    "    if showPlot:\n",
    "        plt.plot(pp)\n",
    "        plt.plot(pp*0+p)\n",
    "        plt.xlabel('k')\n",
    "        plt.ylabel('p')\n",
    "        plt.title(f'p={p}')\n",
    "        plt.show()\n",
    "        \n",
    "    return p"
   ]
  },
  {
   "cell_type": "code",
   "execution_count": 357,
   "id": "eb2cabcb",
   "metadata": {},
   "outputs": [],
   "source": [
    "def linear_convergent_check(path,minimizer):\n",
    "    con=(np.linalg.norm(path[-1]-minimizer))/(np.linalg.norm(path[-2]-minimizer))\n",
    "    return con"
   ]
  },
  {
   "cell_type": "code",
   "execution_count": 358,
   "id": "d0962fb8",
   "metadata": {},
   "outputs": [],
   "source": [
    "def approx_convergence_rate3(path, minimizer):\n",
    "    '''Given a path defined by an iteration and a known minimizer, approximates convergence rate'''\n",
    "    p=np.log(np.linalg.norm(np.array(path[-1])-minimizer\n",
    "                           )/(np.linalg.norm(np.array(path[-2])-minimizer))\n",
    "            )/(np.log(np.linalg.norm(np.array(path[-2])-minimizer\n",
    "    )/(np.linalg.norm(np.array(path[-3])-minimizer))))\n",
    "    return p"
   ]
  },
  {
   "cell_type": "markdown",
   "id": "4506a60d",
   "metadata": {},
   "source": [
    "## A with initial point (1.2,1.2), study convergence with no restart"
   ]
  },
  {
   "cell_type": "code",
   "execution_count": 389,
   "id": "1f1637ed",
   "metadata": {},
   "outputs": [],
   "source": [
    "x0,y0 = 1.2,1.2    # initial point for all methods"
   ]
  },
  {
   "cell_type": "code",
   "execution_count": 390,
   "id": "03da6d19",
   "metadata": {},
   "outputs": [
    {
     "name": "stdout",
     "output_type": "stream",
     "text": [
      "After 10 iterations, approximate minimum is 1.1088426099012847e-28 at (1.0000000000000095, 1.0000000000000195)\n"
     ]
    }
   ],
   "source": [
    "path_PR, i, x, y = nonlinear_exact_line_search_CG(x0, y0, f, Df, PR_beta, False)\n",
    "print(f'After {i} iterations, approximate minimum is {f(x,y)} at {x,y}')"
   ]
  },
  {
   "cell_type": "code",
   "execution_count": 391,
   "id": "18e9ebff",
   "metadata": {},
   "outputs": [
    {
     "name": "stdout",
     "output_type": "stream",
     "text": [
      "After 30 iterations, approximate minimum is 3.7186327915733286e-17 at (1.0000000060888288, 1.0000000122111974)\n"
     ]
    }
   ],
   "source": [
    "path_FR, i, x, y=nonlinear_exact_line_search_CG(x0, y0, f, Df, FR_beta, False)\n",
    "print(f'After {i} iterations, approximate minimum is {f(x,y)} at {x,y}')"
   ]
  },
  {
   "cell_type": "code",
   "execution_count": 392,
   "id": "8231d11c",
   "metadata": {},
   "outputs": [
    {
     "data": {
      "image/png": "[encoded data removed]",
      "text/plain": [
       "<Figure size 432x288 with 1 Axes>"
      ]
     },
     "metadata": {
      "needs_background": "light"
     },
     "output_type": "display_data"
    },
    {
     "data": {
      "text/plain": [
       "7.198957742812498"
      ]
     },
     "execution_count": 392,
     "metadata": {},
     "output_type": "execute_result"
    }
   ],
   "source": [
    "approx_convergence_rate(path_PR, [1,1], numToAvg=100,showPlot=True)"
   ]
  },
  {
   "cell_type": "code",
   "execution_count": 393,
   "id": "76958a83",
   "metadata": {},
   "outputs": [
    {
     "data": {
      "text/plain": [
       "2.039313748875837"
      ]
     },
     "execution_count": 393,
     "metadata": {},
     "output_type": "execute_result"
    }
   ],
   "source": [
    "approx_convergence_rate1(path_PR)"
   ]
  },
  {
   "cell_type": "code",
   "execution_count": 394,
   "id": "ff402117",
   "metadata": {},
   "outputs": [
    {
     "data": {
      "image/png": "[encoded data removed]",
      "text/plain": [
       "<Figure size 432x288 with 1 Axes>"
      ]
     },
     "metadata": {
      "needs_background": "light"
     },
     "output_type": "display_data"
    },
    {
     "data": {
      "text/plain": [
       "35.517545913250615"
      ]
     },
     "execution_count": 394,
     "metadata": {},
     "output_type": "execute_result"
    }
   ],
   "source": [
    "approx_convergence_rate(path_FR, (1,1), numToAvg=100,showPlot=True)"
   ]
  },
  {
   "cell_type": "code",
   "execution_count": 395,
   "id": "c90f32a2",
   "metadata": {},
   "outputs": [
    {
     "data": {
      "text/plain": [
       "1.8162934057305442"
      ]
     },
     "execution_count": 395,
     "metadata": {},
     "output_type": "execute_result"
    }
   ],
   "source": [
    "approx_convergence_rate1(path_FR)"
   ]
  },
  {
   "cell_type": "markdown",
   "id": "017ef47c",
   "metadata": {},
   "source": [
    "#### From above analysis, we can see that PR method is superlinear with 2.04 convergence rate, and FR method is also superlinear with 1.82 convergence rate, when norm of gradient is very low. If considering the all iterations, both mehods are convergent superlinear."
   ]
  },
  {
   "cell_type": "markdown",
   "id": "e2abe256",
   "metadata": {},
   "source": [
    "## With restart every 3 iterations"
   ]
  },
  {
   "cell_type": "code",
   "execution_count": 396,
   "id": "76d038d8",
   "metadata": {},
   "outputs": [
    {
     "name": "stdout",
     "output_type": "stream",
     "text": [
      "After 12 iterations, approximate minimum is 2.820299792639095e-20 at (1.0000000000018956, 0.9999999999869985)\n"
     ]
    }
   ],
   "source": [
    "path_PR, i, x, y = nonlinear_exact_line_search_CG(x0, y0, f, Df, PR_beta, True,3)\n",
    "print(f'After {i} iterations, approximate minimum is {f(x,y)} at {x,y}')"
   ]
  },
  {
   "cell_type": "code",
   "execution_count": 397,
   "id": "ad929370",
   "metadata": {},
   "outputs": [
    {
     "name": "stdout",
     "output_type": "stream",
     "text": [
      "After 10 iterations, approximate minimum is 6.296760414157414e-21 at (1.000000000079289, 1.0000000001588945)\n"
     ]
    }
   ],
   "source": [
    "path_FR, i, x, y = nonlinear_exact_line_search_CG(x0, y0, f, Df, FR_beta, True,3)\n",
    "print(f'After {i} iterations, approximate minimum is {f(x,y)} at {x,y}')"
   ]
  },
  {
   "cell_type": "code",
   "execution_count": 398,
   "id": "b138de21",
   "metadata": {},
   "outputs": [
    {
     "data": {
      "text/plain": [
       "-0.9353759255910976"
      ]
     },
     "execution_count": 398,
     "metadata": {},
     "output_type": "execute_result"
    }
   ],
   "source": [
    "approx_convergence_rate1(path_PR)"
   ]
  },
  {
   "cell_type": "code",
   "execution_count": 399,
   "id": "3c83ffc9",
   "metadata": {},
   "outputs": [
    {
     "data": {
      "image/png": "[encoded data removed]",
      "text/plain": [
       "<Figure size 432x288 with 1 Axes>"
      ]
     },
     "metadata": {
      "needs_background": "light"
     },
     "output_type": "display_data"
    },
    {
     "data": {
      "text/plain": [
       "2284.7241572253733"
      ]
     },
     "execution_count": 399,
     "metadata": {},
     "output_type": "execute_result"
    }
   ],
   "source": [
    "approx_convergence_rate(path_PR, (1,1), numToAvg=100,showPlot=True)"
   ]
  },
  {
   "cell_type": "code",
   "execution_count": 400,
   "id": "9c74665e",
   "metadata": {},
   "outputs": [
    {
     "data": {
      "text/plain": [
       "-1.6720674367636008"
      ]
     },
     "execution_count": 400,
     "metadata": {},
     "output_type": "execute_result"
    }
   ],
   "source": [
    "approx_convergence_rate1(path_FR)"
   ]
  },
  {
   "cell_type": "code",
   "execution_count": 401,
   "id": "9228511b",
   "metadata": {},
   "outputs": [
    {
     "data": {
      "image/png": "[encoded data removed]",
      "text/plain": [
       "<Figure size 432x288 with 1 Axes>"
      ]
     },
     "metadata": {
      "needs_background": "light"
     },
     "output_type": "display_data"
    },
    {
     "data": {
      "text/plain": [
       "3757.1199597742184"
      ]
     },
     "execution_count": 401,
     "metadata": {},
     "output_type": "execute_result"
    }
   ],
   "source": [
    "approx_convergence_rate(path_FR, (1,1), numToAvg=100,showPlot=True)"
   ]
  },
  {
   "cell_type": "markdown",
   "id": "ee7a2bfc",
   "metadata": {},
   "source": [
    "#### From above analysis we can see that, when tol is very small, the usually the the convergence can be linear and superlinear. But, if considering the all the iterations, the whole process converge superlinear."
   ]
  },
  {
   "cell_type": "markdown",
   "id": "39dc0d14",
   "metadata": {},
   "source": [
    "## With initial condition x0=-1.2, y0=1"
   ]
  },
  {
   "cell_type": "code",
   "execution_count": 406,
   "id": "d9db6b24",
   "metadata": {},
   "outputs": [],
   "source": [
    "x0=-1.2\n",
    "y0=1"
   ]
  },
  {
   "cell_type": "code",
   "execution_count": 407,
   "id": "657065bb",
   "metadata": {},
   "outputs": [
    {
     "name": "stdout",
     "output_type": "stream",
     "text": [
      "After 18 iterations, approximate minimum is 4.6340944995991903e-20 at (0.999999999954214, 0.9999999999294623)\n"
     ]
    }
   ],
   "source": [
    "path_PR, i, x, y = nonlinear_exact_line_search_CG(x0, y0, f, Df, PR_beta, False,3)\n",
    "print(f'After {i} iterations, approximate minimum is {f(x,y)} at {x,y}')"
   ]
  },
  {
   "cell_type": "code",
   "execution_count": 408,
   "id": "6a0f7f02",
   "metadata": {},
   "outputs": [
    {
     "name": "stdout",
     "output_type": "stream",
     "text": [
      "After 217 iterations, approximate minimum is 1.7028073158123337e-17 at (1.0000000041264765, 1.0000000082513254)\n"
     ]
    }
   ],
   "source": [
    "path_FR, i, x, y = nonlinear_exact_line_search_CG(x0, y0, f, Df, FR_beta, False,3)\n",
    "print(f'After {i} iterations, approximate minimum is {f(x,y)} at {x,y}')"
   ]
  },
  {
   "cell_type": "code",
   "execution_count": 409,
   "id": "337bef91",
   "metadata": {},
   "outputs": [
    {
     "data": {
      "text/plain": [
       "0.30703079300148184"
      ]
     },
     "execution_count": 409,
     "metadata": {},
     "output_type": "execute_result"
    }
   ],
   "source": [
    "approx_convergence_rate1(path_PR)"
   ]
  },
  {
   "cell_type": "code",
   "execution_count": 410,
   "id": "a3bbf19a",
   "metadata": {},
   "outputs": [
    {
     "data": {
      "image/png": "[encoded data removed]",
      "text/plain": [
       "<Figure size 432x288 with 1 Axes>"
      ]
     },
     "metadata": {
      "needs_background": "light"
     },
     "output_type": "display_data"
    },
    {
     "data": {
      "text/plain": [
       "-6.312446884078709"
      ]
     },
     "execution_count": 410,
     "metadata": {},
     "output_type": "execute_result"
    }
   ],
   "source": [
    "approx_convergence_rate(path_PR, (1,1), numToAvg=100,showPlot=True)"
   ]
  },
  {
   "cell_type": "code",
   "execution_count": 411,
   "id": "3d33f8f5",
   "metadata": {},
   "outputs": [
    {
     "data": {
      "text/plain": [
       "0.6833668354302425"
      ]
     },
     "execution_count": 411,
     "metadata": {},
     "output_type": "execute_result"
    }
   ],
   "source": [
    "approx_convergence_rate1(path_FR)"
   ]
  },
  {
   "cell_type": "code",
   "execution_count": 412,
   "id": "1a34da92",
   "metadata": {},
   "outputs": [
    {
     "data": {
      "image/png": "[encoded data removed]",
      "text/plain": [
       "<Figure size 432x288 with 1 Axes>"
      ]
     },
     "metadata": {
      "needs_background": "light"
     },
     "output_type": "display_data"
    },
    {
     "data": {
      "text/plain": [
       "1.7432933656827252"
      ]
     },
     "execution_count": 412,
     "metadata": {},
     "output_type": "execute_result"
    }
   ],
   "source": [
    "approx_convergence_rate(path_FR, (1,1), numToAvg=100,showPlot=True)"
   ]
  },
  {
   "cell_type": "markdown",
   "id": "1c42cc2b",
   "metadata": {},
   "source": [
    "#### If consider the norm of gradient very slow, both method convergent sublinear. If consider the whole process, the FR method converges superlinear, but PR isn't since one extreme diverge iteration. "
   ]
  },
  {
   "cell_type": "markdown",
   "id": "81177250",
   "metadata": {},
   "source": [
    "## with restart for every 3 iterations."
   ]
  },
  {
   "cell_type": "code",
   "execution_count": 413,
   "id": "d722f04e",
   "metadata": {},
   "outputs": [
    {
     "name": "stdout",
     "output_type": "stream",
     "text": [
      "After 27 iterations, approximate minimum is 6.113486633150115e-25 at (0.9999999999999374, 0.9999999999999527)\n"
     ]
    }
   ],
   "source": [
    "path_PR, i, x, y = nonlinear_exact_line_search_CG(x0, y0, f, Df, PR_beta, True,3)\n",
    "print(f'After {i} iterations, approximate minimum is {f(x,y)} at {x,y}')"
   ]
  },
  {
   "cell_type": "code",
   "execution_count": 414,
   "id": "cd13d836",
   "metadata": {},
   "outputs": [
    {
     "name": "stdout",
     "output_type": "stream",
     "text": [
      "After 19 iterations, approximate minimum is 3.2868744030716063e-17 at (1.0000000057258882, 1.0000000114805772)\n"
     ]
    }
   ],
   "source": [
    "path_FR, i, x, y = nonlinear_exact_line_search_CG(x0, y0, f, Df, FR_beta, True,3)\n",
    "print(f'After {i} iterations, approximate minimum is {f(x,y)} at {x,y}')"
   ]
  },
  {
   "cell_type": "code",
   "execution_count": 415,
   "id": "fc4865bc",
   "metadata": {},
   "outputs": [
    {
     "data": {
      "text/plain": [
       "-0.8560935802301486"
      ]
     },
     "execution_count": 415,
     "metadata": {},
     "output_type": "execute_result"
    }
   ],
   "source": [
    "approx_convergence_rate1(path_PR)"
   ]
  },
  {
   "cell_type": "code",
   "execution_count": 419,
   "id": "dd879691",
   "metadata": {},
   "outputs": [
    {
     "data": {
      "image/png": "[encoded data removed]",
      "text/plain": [
       "<Figure size 432x288 with 1 Axes>"
      ]
     },
     "metadata": {
      "needs_background": "light"
     },
     "output_type": "display_data"
    },
    {
     "data": {
      "text/plain": [
       "954.6435729932792"
      ]
     },
     "execution_count": 419,
     "metadata": {},
     "output_type": "execute_result"
    }
   ],
   "source": [
    "approx_convergence_rate(path_PR, (1,1), numToAvg=100,showPlot=True)"
   ]
  },
  {
   "cell_type": "code",
   "execution_count": 420,
   "id": "6ae9e155",
   "metadata": {},
   "outputs": [
    {
     "data": {
      "text/plain": [
       "-46.827373803631566"
      ]
     },
     "execution_count": 420,
     "metadata": {},
     "output_type": "execute_result"
    }
   ],
   "source": [
    "approx_convergence_rate1(path_FR)"
   ]
  },
  {
   "cell_type": "code",
   "execution_count": 421,
   "id": "f81ef163",
   "metadata": {
    "scrolled": true
   },
   "outputs": [
    {
     "data": {
      "image/png": "[encoded data removed]",
      "text/plain": [
       "<Figure size 432x288 with 1 Axes>"
      ]
     },
     "metadata": {
      "needs_background": "light"
     },
     "output_type": "display_data"
    },
    {
     "data": {
      "text/plain": [
       "166.23604153277932"
      ]
     },
     "execution_count": 421,
     "metadata": {},
     "output_type": "execute_result"
    }
   ],
   "source": [
    "approx_convergence_rate(path_FR, (1,1), numToAvg=100,showPlot=True)"
   ]
  },
  {
   "cell_type": "markdown",
   "id": "56aef52f",
   "metadata": {},
   "source": [
    "#### If consider the whole process , both method are super-linear converges. If study the small norm of gradient condition, they might not converge at all."
   ]
  },
  {
   "cell_type": "code",
   "execution_count": null,
   "id": "302a9b34",
   "metadata": {},
   "outputs": [],
   "source": []
  }
 ],
 "metadata": {
  "kernelspec": {
   "display_name": "Python 3",
   "language": "python",
   "name": "python3"
  },
  "language_info": {
   "codemirror_mode": {
    "name": "ipython",
    "version": 3
   },
   "file_extension": ".py",
   "mimetype": "text/x-python",
   "name": "python",
   "nbconvert_exporter": "python",
   "pygments_lexer": "ipython3",
   "version": "3.6.13"
  }
 },
 "nbformat": 4,
 "nbformat_minor": 5
}
