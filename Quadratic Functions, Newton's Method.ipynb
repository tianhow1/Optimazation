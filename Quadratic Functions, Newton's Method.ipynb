{
 "cells": [
  {
   "cell_type": "markdown",
   "metadata": {},
   "source": [
    "# Discussion 5: Quadratic Functions, Newton's Method\n",
    "\n",
    "In this discussion, we will talk about:\n",
    "* Rate of convergence for steepest descent on quadratic functions\n",
    "* Newton's method"
   ]
  },
  {
   "cell_type": "markdown",
   "metadata": {},
   "source": [
    "---"
   ]
  },
  {
   "cell_type": "markdown",
   "metadata": {},
   "source": [
    "## Rate of Convergence\n",
    "\n",
    "* Rate of convergence $p\\ge1$ is defined as the value such that\n",
    "\n",
    "$$ 0< \\lim_{k\\to\\infty} \\frac{\\|\\mathbf{x}_{k+1}-\\mathbf{x}^*\\|}{\\|\\mathbf{x}_k-\\mathbf{x}^*\\|^p} \\equiv L < \\infty $$\n",
    "\n",
    "where $\\mathbf{x}^*$ is the known minimizer, i.e. the terminal point satisfying $\\nabla f(\\mathbf{x}^*)=\\mathbf{0}$. If $p=1$ and $L=1$, we say the convergence is **sub-linear**. If $p=1$ and $L<1$, we say the convergence is **linear**. If $p>1$, we say the convergence is **super-linear**. If the limit is equal to 0 for all $p\\ge1$, we say the order of convergence is $\\infty$.\n",
    "\n",
    "* If we're given the steps $\\{x_k\\}$ of an iteration, we can determine $p$ empirically by\n",
    "\n",
    "$$ p\\approx \\frac{\\ln\\left(\\frac{\\|\\mathbf{x}_{k+1}-\\mathbf{x}_k\\|}{\\|\\mathbf{x}_k-\\mathbf{x}_{k-1}\\|}\\right)}{\\ln\\left(\\frac{\\|\\mathbf{x}_{k}-\\mathbf{x}_{k-1}\\|}{\\|\\mathbf{x}_{k-1}-\\mathbf{x}_{k-2}\\|}\\right)} $$\n",
    "as $k\\to\\infty$."
   ]
  },
  {
   "cell_type": "markdown",
   "metadata": {},
   "source": [
    "### Quadratic Functions"
   ]
  },
  {
   "cell_type": "markdown",
   "metadata": {},
   "source": [
    "We've shown some nice analytic results for a special class of functions called **quadratic functions**, i.e. those of the form\n",
    "\n",
    "$$ f(\\mathbf{x}) = \\frac{1}{2}\\mathbf{x}^TQ\\mathbf{x}-\\mathbf{b}^T\\mathbf{x} $$\n",
    "\n",
    "for $\\mathbf{b}\\in\\mathbb{R}^d$, $Q$ a symmetric positive definite $d\\times d$ matrix. Most of the example functions we have used to this point have been functions of this type."
   ]
  },
  {
   "cell_type": "markdown",
   "metadata": {},
   "source": [
    "### Example: Quadratic function\n",
    "\n",
    "Note that if $\\mathbf{x}\\in\\mathbb{R}^2$, we have\n",
    "$$ \\begin{align*}\n",
    "    \\frac{1}{2}\\mathbf{x}^TQ\\mathbf{x}-\\mathbf{b}^T\\mathbf{x} &= \\frac{1}{2}\\begin{pmatrix} x_1 & x_2 \\end{pmatrix}\n",
    "    \\begin{pmatrix}\n",
    "        Q_{1,1} & Q_{1,2} \\\\\n",
    "        Q_{1,2} & Q_{2,2}\n",
    "    \\end{pmatrix}\\begin{pmatrix} x_1 \\\\ x_2\\end{pmatrix} - \\begin{pmatrix} b_1 & b_2\\end{pmatrix}\\begin{pmatrix} x_1 \\\\x_2 \\end{pmatrix} \\\\\n",
    "    & = \\frac{1}{2}Q_{1,1}x_1^2 + \\frac{1}{2}Q_{2,2}x_2^2 + Q_{1,2}x_1x_2 - b_1x_1 - b_2x_2\n",
    "\\end{align*}$$\n",
    "so, using the example function\n",
    "\n",
    "$$ g(x,y) = (x-1)^2+(2y-1)^2 = x^2+4y^2 - 2x - 4y + 2 $$\n",
    "\n",
    "we can identify\n",
    "$$ Q=\\begin{pmatrix} 2 & 0 \\\\ 0 & 8 \\end{pmatrix},\\quad \\mathbf{b}=\\begin{pmatrix} 2 \\\\ 4 \\end{pmatrix} $$\n",
    "\n",
    "with the minimization of the function $f(x,y)\\equiv g(x,y)-2$. Note that the subtraction of a constant will not affect the location of the minimizer, $\\mathbf{x}^*=(1,1/2)$. "
   ]
  },
  {
   "cell_type": "markdown",
   "metadata": {},
   "source": [
    "### Steepest Descent on Quadratic Functions\n",
    "\n",
    "Thanks to the nice form of quadratic functions, there are some reasonably straightforward theoretical convergence results that can be shown. Since we have the simple expression $\\nabla f(\\mathbf{x}) = Q\\mathbf{x}-\\mathbf{b}$, one step of steepest descent is given by\n",
    "\n",
    "$$ \\mathbf{x}_{k+1} = \\mathbf{x}_k - \\alpha_k\\nabla f_k = \\mathbf{x}_k - \\alpha_k(Q\\mathbf{x}_k-\\mathbf{b}) $$\n",
    "\n",
    "Then the optimal value of $\\alpha_k$ is easily determined by taking a derivative of $\\phi(\\alpha)=f(\\mathbf{x}_k -\\alpha\\nabla f_k)$ and setting it equal to zero, giving\n",
    "\n",
    "$$ \\begin{align*}\n",
    "    0 &= -\\nabla f_k^T\\big(Q(\\mathbf{x}_k-\\alpha\\nabla f_k)-\\mathbf{b}\\big) \\\\\n",
    "    &= -\\nabla f_k^T(Q\\mathbf{x}_k-\\mathbf{b}) + \\alpha\\nabla f_k^TQ\\nabla f_k \\\\\n",
    "    &= -\\nabla f_k^T\\nabla f_k + \\alpha\\nabla f_k^TQ\\nabla f_k \\\\\n",
    "    \\implies &\\alpha_k = \\frac{\\|\\nabla f_k\\|^2}{\\|\\nabla f_k\\|_Q^2} = \\frac{(Q\\mathbf{x}_k-\\mathbf{b})^T(Q\\mathbf{x}_k-\\mathbf{b})}{(Q\\mathbf{x}_k-\\mathbf{b})^TQ(Q\\mathbf{x}_k-\\mathbf{b})}\n",
    "\\end{align*}$$\n",
    "\n",
    "where $\\|\\mathbf{u}\\|_Q^2 = \\mathbf{u}^TQ\\mathbf{u}$. "
   ]
  },
  {
   "cell_type": "markdown",
   "metadata": {},
   "source": [
    "Now, concerning rate of convergence, we need to find the ratio between the error in successive iterations,\n",
    "\n",
    "$$ \\frac{\\|\\mathbf{x}_{k+1}-\\mathbf{x}^*\\|}{\\|\\mathbf{x}_{k}-\\mathbf{x}^*\\|} $$\n",
    "\n",
    "Noting that $Q\\mathbf{x}^*=\\mathbf{b}$ by design (i.e. $\\nabla f(\\mathbf{x}^*)=\\mathbf{0}$), we can rewrite one iteration of steepest descent as\n",
    "\n",
    "$$ \\begin{align*}\n",
    "    \\mathbf{x}_{k+1} &= \\mathbf{x}_k - \\alpha_k(Q\\mathbf{x}_k-Q\\mathbf{x}^*) \\\\\n",
    "    \\implies \\mathbf{x}_{k+1}-\\mathbf{x}^* &= \\mathbf{x}_k -\\mathbf{x}^*- \\alpha_kQ(\\mathbf{x}_k-\\mathbf{x}^*) \\\\\n",
    "            &= (I-\\alpha_kQ)(\\mathbf{x}_k-\\mathbf{x}^*) \\\\\n",
    "    \\implies \\|\\mathbf{x}_{k+1}-\\mathbf{x}^*\\|^2 &= (\\mathbf{x}_{k+1}-\\mathbf{x}^*)^T(I-\\alpha_kQ)(\\mathbf{x}_k-\\mathbf{x}^*) \\\\\n",
    "            &=(\\mathbf{x}_k-\\mathbf{x}^*)^T(I-\\alpha_kQ)^2(\\mathbf{x}_k-\\mathbf{x}^*) \\\\\n",
    "    \\implies \\frac{\\|\\mathbf{x}_{k+1}-\\mathbf{x}^*\\|^2}{\\|\\mathbf{x}_{k}-\\mathbf{x}^*\\|^2} &\\le \\lambda_{max}\\big((I-\\alpha_kQ)^2\\big)\n",
    "\\end{align*}$$\n",
    "\n",
    "where the last inequality uses the fact that $\\|\\mathbf{u}\\|_Q\\le\\lambda_{max}(Q)\\|\\mathbf{u}\\|$. "
   ]
  },
  {
   "cell_type": "markdown",
   "metadata": {},
   "source": [
    "### The main points from the lecture on Quadratic Functions:\n",
    "\n",
    "* **Optimal step size** is found as \n",
    "\n",
    "$$ \\alpha_k = \\frac{2}{\\lambda_{max}(Q) + \\lambda_{min}(Q)} $$\n",
    "\n",
    "which is independent of $\\mathbf{x}_k$ and thus is a good choice for fixed step size steepest descent for quadratic functions. \n",
    "\n",
    "* **Bound on order of convergence:**\n",
    "If we substitute this value of $\\alpha$ in, we get the inequality\n",
    "$$ \\frac{\\|\\mathbf{x}_{k+1}-\\mathbf{x}^*\\|^2}{\\|\\mathbf{x}_{k}-\\mathbf{x}^*\\|^2} \\le \\left(\\frac{\\lambda_{max}-\\lambda_{min}}{\\lambda_{max}+\\lambda_{min}}\\right)^2 \\equiv \\left(\\frac{\\kappa-1}{\\kappa+1}\\right)^2 $$\n",
    "\n",
    "where $\\kappa\\equiv \\lambda_{max}/\\lambda_{min}$ is called the **condition number** of $Q$. Note that (the square root of) this inequality tells us steepest descent with this choice of $\\alpha$ convergens **linearly at worst** ($p=1$, $L<1$).\n",
    "\n",
    "* **Special Case**: IF $\\lambda_{\\max} = \\lambda_{\\min}$, then $\\kappa = 1$, so the iteration converges in a single step.\n",
    "\n",
    "Indeed though this seems like a very special type of function, the above result can be extended to any function $f$, not necessarily quadratic, so long as $H\\equiv \\nabla^2 f(\\mathbf{x}^*)$ is symmetric positive definite at the minimizer, with the substitution $\\kappa\\to\\kappa_H$, where $\\kappa_H$ is the condition number of $H$."
   ]
  },
  {
   "cell_type": "markdown",
   "metadata": {},
   "source": [
    "### Example: Fixed step steepest descent\n",
    "\n",
    "Perform fixed step steepest descent on the function $f(x,y)=x^2 + 2y^2 + 4x + y + 6$ starting from an initial guess of $\\mathbf{x}_0=(3,-2)$ and choosing $\\alpha_k$ to be the constant defined above.\n",
    "\n",
    "**Solution:** First, note that this is a quadratic function with\n",
    "$$ Q=\\begin{pmatrix}\n",
    "    2 & 0 \\\\\n",
    "    0 & 4\n",
    "\\end{pmatrix},\\quad \\mathbf{b}=\\begin{pmatrix} -4 \\\\ -1\\end{pmatrix} $$\n",
    "\n",
    "Then $\\lambda_{max}(Q)=4$, $\\lambda_{min}(Q)=2$, and thus $\\alpha_k=2/(4+2)=1/3$ should provide adequately fast convergence."
   ]
  },
  {
   "cell_type": "code",
   "execution_count": 2,
   "metadata": {},
   "outputs": [],
   "source": [
    "import numpy as np\n",
    "import matplotlib.pyplot as plt"
   ]
  },
  {
   "cell_type": "code",
   "execution_count": 8,
   "metadata": {},
   "outputs": [
    {
     "name": "stdout",
     "output_type": "stream",
     "text": [
      "Initial x=[ 3 -2]\n",
      "After 21 iterations, approximate minimum is 1.875 at [-2.   -0.25]\n"
     ]
    }
   ],
   "source": [
    "# function and gradient\n",
    "f = lambda x: x[0]**2 + 2*x[1]**2 + 4*x[0] + x[1] + 6\n",
    "Df = lambda x: np.array([2*x[0]+4, 4*x[1]+1])\n",
    "\n",
    "x = np.array([3,-2])  # initial point\n",
    "path = [x]\n",
    "print(f'Initial x={x}')\n",
    "alpha = 1/3           # step size\n",
    "tol = 1e-8            # stop when gradient is smaller than this amount\n",
    "max_steps = 1000      # Maximum number of steps to run the iteration\n",
    "i=0                   # iteration count\n",
    "dx = Df(x)            # current gradient\n",
    "while np.linalg.norm(dx)>tol and i<max_steps:\n",
    "    xnew = x - alpha*dx\n",
    "    path.append(xnew)\n",
    "    x = xnew\n",
    "    dx = Df(x)\n",
    "    i += 1\n",
    "\n",
    "path=np.array(path)\n",
    "print(f'After {i} iterations, approximate minimum is {f(x)} at {x}')"
   ]
  },
  {
   "cell_type": "markdown",
   "metadata": {},
   "source": [
    "**Exercise:** Investigate what happens for values of $\\alpha$ slightly larger or slightly smaller than the \"optimal\" fixed value of $1/3$. You should see that convergence takes more iterations in each case."
   ]
  },
  {
   "cell_type": "code",
   "execution_count": 14,
   "metadata": {},
   "outputs": [
    {
     "data": {
      "text/plain": [
       "Text(0.5, 1.0, 'Number of iterations for convergence based on various alpha')"
      ]
     },
     "execution_count": 14,
     "metadata": {},
     "output_type": "execute_result"
    },
    {
     "data": {
      "image/png": "[encoded data removed]",
      "text/plain": [
       "<Figure size 432x288 with 1 Axes>"
      ]
     },
     "metadata": {
      "needs_background": "light"
     },
     "output_type": "display_data"
    }
   ],
   "source": [
    "eps = np.linspace(-1/4,1/4,100)\n",
    "iterations = []\n",
    "for e in eps:\n",
    "    x = np.array([3,-2])  # initial point\n",
    "    alpha = 1/3 + e       # step size\n",
    "    tol = 1e-8            # stop when gradient is smaller than this amount\n",
    "    max_steps = 1000      # Maximum number of steps to run the iteration\n",
    "    i=0                   # iteration count\n",
    "    dx = Df(x)            # current gradient\n",
    "    while np.linalg.norm(dx)>tol and i<max_steps:\n",
    "        xnew = x - alpha*dx\n",
    "        x = xnew\n",
    "        dx = Df(x)\n",
    "        i += 1\n",
    "    iterations.append((1/3 + e, i))\n",
    "plt.plot(*zip(*iterations))\n",
    "plt.title('Number of iterations for convergence based on various alpha')"
   ]
  },
  {
   "cell_type": "code",
   "execution_count": 15,
   "metadata": {},
   "outputs": [
    {
     "name": "stdout",
     "output_type": "stream",
     "text": [
      "0.3729286924429989\n"
     ]
    }
   ],
   "source": [
    "err = np.linalg.norm(path-np.array([-2,-1/4]),axis=1) # ||x_k - x*||\n",
    "print(err[-1]/err[-2])   # limiting convergence bound, should be ≤ 1/3 = (K-1)/(K+1)"
   ]
  },
  {
   "cell_type": "markdown",
   "metadata": {},
   "source": [
    "---"
   ]
  },
  {
   "cell_type": "markdown",
   "metadata": {},
   "source": [
    "## Newton's Method\n",
    "\n",
    "* Steepest descent gradient descent gives linear convergence. **Newton's method** has quadratic ($p=2$) convergence, which is better than Steepest Descent.\n"
   ]
  },
  {
   "cell_type": "markdown",
   "metadata": {},
   "source": [
    "In the 1-D case, [Newton's method](https://en.wikipedia.org/wiki/Newton's_method) is an often taught method for finding the zeros of a single-variable, nonlinear function, i.e. an $x^*$ such that $f(x^*)=0$. The iteration is given by\n",
    "$$ x_{k+1} = x_k - \\frac{f(x_k)}{f'(x_k)} $$\n",
    "\n",
    "and can be interpreted geometrically as constructing a tangent line to $f$ at $x_k$, finding where the tangent line crosses the $x$-axis, and repeating, as shown in the image below:\n",
    "\n",
    "<img src=\"https://upload.wikimedia.org/wikipedia/commons/thumb/2/22/Newton_method_scheme.svg/992px-Newton_method_scheme.svg.png\" width=30% />"
   ]
  },
  {
   "cell_type": "markdown",
   "metadata": {},
   "source": [
    "In **optimization**, we're usually searching for a point where $f'(x)=0$, not $f(x)=0$, so simply replacing $f\\to f'$ yields an algorithm for finding a minimum, albeit requiring information about the second derivative $f''(x)$. We have for [Newton's method in optimization](https://en.wikipedia.org/wiki/Newton%27s_method_in_optimization),\n",
    "\n",
    "$$ x_{k+1} = x_k - \\frac{f'(x_k)}{f''(x_k)} $$\n",
    "or the straightforward generalization to multiple dimensions\n",
    "$$ \\mathbf{x}_{k+1} = \\mathbf{x}_k - \\left[\\nabla^2 f_k\\right]^{-1}\\nabla f_k $$\n",
    "\n",
    "It should be easy to see that this does indeed correspond to a line search algorithm with $\\mathbf{p}_k = -\\left[\\nabla^2 f_k\\right]^{-1}$, called the **Newton direction**, and $\\alpha_k=1$."
   ]
  },
  {
   "cell_type": "markdown",
   "metadata": {},
   "source": [
    "## Implementation\n",
    "\n",
    "When you're dealing with a matrix $H$, you don't actually invert the matrix. Instead, there are methods to solve $Hx = b$ for $x$.\n",
    "\n",
    "So rather than finding $-[\\nabla^2 f_k]^{-1} \\nabla f_k$, we solve $\\nabla^2 f_k p_k = \\nabla f_k$ then do $x_{k+1} = x_k - p_k$."
   ]
  },
  {
   "cell_type": "markdown",
   "metadata": {},
   "source": [
    "Let's now apply Newton's method to the example function $f(x,y)=x^2+2y^2+4x+y+6$ defined above:"
   ]
  },
  {
   "cell_type": "code",
   "execution_count": 17,
   "metadata": {},
   "outputs": [
    {
     "name": "stdout",
     "output_type": "stream",
     "text": [
      "Initial x=[ 3 -2]\n",
      "After 1 iterations, approximate minimum is 1.875 at [-2.   -0.25]\n"
     ]
    }
   ],
   "source": [
    "# function, gradient, and now HESSIAN\n",
    "f = lambda x: x[0]**2 + 2*x[1]**2 + 4*x[0] + x[1] + 6\n",
    "Df = lambda x: np.array([2*x[0]+4, 4*x[1]+1])\n",
    "D2f = lambda x: np.array([[2,0],[0,4]])\n",
    "\n",
    "x = np.array([3,-2])  # initial point\n",
    "path = [x]\n",
    "print(f'Initial x={x}')\n",
    "alpha = 1             # step size is 1 in Newton's method\n",
    "tol = 1e-8            # stop when gradient is smaller than this amount\n",
    "max_steps = 1000      # Maximum number of steps to run the iteration\n",
    "i=0                   # iteration count\n",
    "dx = Df(x)            # current gradient\n",
    "while np.linalg.norm(dx)>tol and i<max_steps:\n",
    "    pk = np.linalg.solve(D2f(x),dx)  # faster to solve a system than manually invert\n",
    "    xnew = x - pk\n",
    "    path.append(xnew)\n",
    "    x = xnew\n",
    "    dx = Df(x)\n",
    "    i += 1\n",
    "\n",
    "path=np.array(path)\n",
    "print(f'After {i} iterations, approximate minimum is {f(x)} at {x}')"
   ]
  },
  {
   "cell_type": "markdown",
   "metadata": {},
   "source": [
    "Newton's method converged in a single iteration.\n",
    "\n",
    "For Quadratic functions, Newton's method will always converge immediately.\n",
    "\n",
    "For a quadratic function $f(x) = \\frac{1}{2}x^T Q x - b^T x$:\n",
    "\n",
    "* $\\nabla f = Qx - b$\n",
    "\n",
    "* $\\nabla^2 f = Q$\n",
    "\n",
    "Since for any quadratic function $\\nabla^2 f = Q$, a single iteration sets\n",
    "\n",
    "$$ \\mathbf{x}_1 = \\mathbf{x}_0 - Q^{-1}\\nabla f_0 = \\mathbf{x}_0 - Q^{-1}(Q\\mathbf{x}_0-\\mathbf{b}) = \\mathbf{x}_0 - \\mathbf{x}_0 + Q^{-1}\\mathbf{b} = \\mathbf{x}^* $$\n",
    "\n",
    "since $\\nabla f = Q\\mathbf{x}-\\mathbf{b}$ and thus $Q\\mathbf{x}^*=\\mathbf{b}$. The result is that Newton's method **converges in one iteration** for quadratic functions!"
   ]
  },
  {
   "cell_type": "markdown",
   "metadata": {},
   "source": [
    "Indeed, by a similar argument to the above for steepest descent, it can be shown that the ratio of errors goes to zero, showing that Newton's method **converges quadratically** at worst for any function with $\\nabla^2 f(\\mathbf{x}^*)$ SPD."
   ]
  },
  {
   "cell_type": "code",
   "execution_count": 18,
   "metadata": {},
   "outputs": [
    {
     "name": "stdout",
     "output_type": "stream",
     "text": [
      "0.0\n"
     ]
    }
   ],
   "source": [
    "err = np.linalg.norm(path-np.array([-2,-1/4]),axis=1) # ||x_k - x*||\n",
    "print(err[-1]/err[-2])   # limiting convergence bound, should be ≤ 1/3 = (K-1)/(K+1)"
   ]
  },
  {
   "cell_type": "markdown",
   "metadata": {},
   "source": [
    "## Convergence properties\n",
    "\n",
    "* If $\\nabla^2 f$ is invertible and $\\nabla f(x_0) \\ne 0$, and the starting point $x_0$ is close enough to $x^*$, then Newton's method converges quadratically.\n",
    "\n",
    "* For Newton's method to be a descent direction, we need $\\nabla^2 f(x_k)$ to be positive definite: This way $-([\\nabla^2 f(x_k)]^{-1})^T \\nabla f(x_k) < 0$\n",
    "\n",
    "### Counterexample\n",
    "\n",
    "Consider $f(x) = \\frac{1}{4}x^4 - x^2 + 2x$. The true minimum occurs at $x = -1.769$."
   ]
  },
  {
   "cell_type": "code",
   "execution_count": 52,
   "metadata": {},
   "outputs": [
    {
     "name": "stdout",
     "output_type": "stream",
     "text": [
      "Initial x=0\n",
      "After 1000 iterations, approximate minimum is 0.0 at 0.0\n"
     ]
    },
    {
     "data": {
      "text/plain": [
       "Text(0.5, 1.0, 'Path of x')"
      ]
     },
     "execution_count": 52,
     "metadata": {},
     "output_type": "execute_result"
    },
    {
     "data": {
      "image/png": "[encoded data removed]",
      "text/plain": [
       "<Figure size 432x288 with 1 Axes>"
      ]
     },
     "metadata": {
      "needs_background": "light"
     },
     "output_type": "display_data"
    }
   ],
   "source": [
    "# function, gradient, and now HESSIAN\n",
    "f = lambda x: 1/4 * x**4 - x**2 + 2*x\n",
    "Df = lambda x: x**3 - 2*x+2\n",
    "D2f = lambda x: 3*x**2 - 2\n",
    "\n",
    "x = 0  # initial point\n",
    "path = [x]\n",
    "print(f'Initial x={x}')\n",
    "alpha = 1             # step size is 1 in Newton's method\n",
    "tol = 1e-8            # stop when gradient is smaller than this amount\n",
    "max_steps = 1000      # Maximum number of steps to run the iteration\n",
    "i=0                   # iteration count\n",
    "dx = Df(x)            # current gradient\n",
    "while np.linalg.norm(dx)>tol and i<max_steps:\n",
    "    pk = Df(x) / D2f(x)\n",
    "    xnew = x - pk\n",
    "    path.append(xnew)\n",
    "    x = xnew\n",
    "    dx = Df(x)\n",
    "    i += 1\n",
    "\n",
    "path=np.array(path)\n",
    "print(f'After {i} iterations, approximate minimum is {f(x)} at {x}')\n",
    "plt.plot(path[0:10])\n",
    "plt.title(\"Path of x\")"
   ]
  },
  {
   "cell_type": "markdown",
   "metadata": {},
   "source": [
    "In this example, Newton's method isn't a descent direction:"
   ]
  },
  {
   "cell_type": "code",
   "execution_count": 44,
   "metadata": {},
   "outputs": [
    {
     "name": "stdout",
     "output_type": "stream",
     "text": [
      "f(0) is 0.0\n",
      "f(1) is 1.25\n"
     ]
    }
   ],
   "source": [
    "print(\"f(0) is {}\".format(f(0)))\n",
    "print(\"f(1) is {}\".format(f(1)))"
   ]
  },
  {
   "cell_type": "markdown",
   "metadata": {},
   "source": [
    "### Drawbacks of Newton's method\n",
    "\n",
    "Although Newton's method does converge more quickly than steepest descent, there are a few drawbacks:\n",
    "\n",
    "1. **Calculation of the gradient and Hessian**: By hand, we need to calculate $\\nabla f$ and $\\nabla^2 f$.\n",
    "2. **Inversion of the Hessian**: Even if we can find a way to numerically calculate the Hessian, Newton's method also requires inverting the Hessian (or, more efficiently, solving a linear system) during each iteration, which can be costly, especially for high-dimensional functions.\n",
    "3. **Only locally convergent**: The Hessian may even be singular far away from the minimizer (though it can be shown the Hessian is nonsingular at least in a neighborhood of $\\mathbf{x}^*$), so Newton's method cannot even be defined globally; it is only **locally** convergent.\n",
    "4. **Lack of guaranteed descent direction**: Even if the Hessian is nonsingular at each point on the iteration, the Newton direction may not be a descent direction in general.\n",
    "\n",
    "We will talk next time about modifications to Newton's method which attempt to remedy all of the above, called **Quasi-Newton methods**."
   ]
  }
 ],
 "metadata": {
  "kernelspec": {
   "display_name": "Python 3",
   "language": "python",
   "name": "python3"
  },
  "language_info": {
   "codemirror_mode": {
    "name": "ipython",
    "version": 3
   },
   "file_extension": ".py",
   "mimetype": "text/x-python",
   "name": "python",
   "nbconvert_exporter": "python",
   "pygments_lexer": "ipython3",
   "version": "3.6.13"
  }
 },
 "nbformat": 4,
 "nbformat_minor": 4
}
