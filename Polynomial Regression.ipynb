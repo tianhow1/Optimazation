{
 "cells": [
  {
   "cell_type": "markdown",
   "metadata": {},
   "source": [
    "# Least Squares Problems\n",
    "\n",
    "We're still dealing with least squares problems: You want to find a model which minimizes the sum of squared **residuals** given a collection of data points.\n",
    "\n",
    "![Least Squares Regression](https://i.imgur.com/pfWN159.png)\n",
    "\n",
    "Previously, we performed **linear regression**: we fit a linear model to the data. We can also perform **polynomial regression** to fit a polynomial model to the data.\n",
    "\n",
    "\n",
    "## Linear Model:\n",
    "\n",
    "$$ y = c_0 + c_1 t$$\n",
    "\n",
    "## Quadratic Model:\n",
    "\n",
    "$$ y = c_0 + c_1 t + c_2 t^2$$\n",
    "\n",
    "## n-degree Polynomial\n",
    "\n",
    "$$ y = c_0 + c_1 t + c_2 t^2 + \\dots c_n t^n$$"
   ]
  },
  {
   "cell_type": "markdown",
   "metadata": {},
   "source": [
    "# Code Example: The Simple Example From Notes"
   ]
  },
  {
   "cell_type": "markdown",
   "metadata": {},
   "source": [
    "In the notes, a graph of $Y = 0.5 X^2 + X + 2 + \\text{Gaussian Noise}$ was generated."
   ]
  },
  {
   "cell_type": "code",
   "execution_count": 1,
   "metadata": {},
   "outputs": [
    {
     "data": {
      "image/png": "[encoded data removed]",
      "text/plain": [
       "<Figure size 432x288 with 1 Axes>"
      ]
     },
     "metadata": {
      "needs_background": "light"
     },
     "output_type": "display_data"
    }
   ],
   "source": [
    "import numpy as np\n",
    "import numpy.random as rnd\n",
    "%matplotlib inline\n",
    "import matplotlib as mpl\n",
    "import matplotlib.pyplot as plt\n",
    "mpl.rc('axes', labelsize=14)\n",
    "mpl.rc('xtick', labelsize=12)\n",
    "mpl.rc('ytick', labelsize=12)\n",
    "np.random.seed(42)\n",
    "m = 100\n",
    "X = 6 * np.random.rand(m, 1) - 3 #randomly spaced\n",
    "y = 0.5 * X**2 + X + 2 + np.random.randn(m, 1) #generator\n",
    "plt.plot(X, y, \"b.\")\n",
    "plt.xlabel(\"$x_1$\", fontsize=18)\n",
    "plt.ylabel(\"$y$\", rotation=0, fontsize=18)\n",
    "plt.axis([-3, 3, 0, 10])\n",
    "plt.show()"
   ]
  },
  {
   "cell_type": "markdown",
   "metadata": {},
   "source": [
    "# Polynomial Regression\n",
    "\n",
    "With polynomial regression, we're still trying to find $x$ to minimize\n",
    "$$ \\|A\\mathbf{x} - b\\|^2$$\n",
    "where $\\mathbf{x} = \\begin{bmatrix}\n",
    "c_0 \\\\\n",
    "c_1 \\\\\n",
    "\\vdots \\\\\n",
    "c_n\n",
    "\\end{bmatrix}$\n",
    "\n",
    "In polynomial regression, rather than fitting a line $y = c_0 + c_1 t$ with 2 variables, we fit a polynomial $ y = c_0 + c_1 t + c_2 t^2 + \\dots c_n t^n$ with $n$ variables.\n",
    "\n",
    "So then when we're minimizing $||A\\mathbf{x} - b||^2$, $A = \\begin{bmatrix} 1 & t_0 & t_0^2 \\\\\n",
    "1 & t_1 & t_1^2 \\\\\n",
    "1 & t_2 & t_2^2 \\\\\n",
    "\\vdots & \\vdots & \\vdots \\\\\n",
    "1 & t_m & t_m^2\\end{bmatrix}$, $\\mathbf{x} = \\begin{bmatrix}\n",
    "c_0 \\\\\n",
    "c_1\\\\\n",
    "c_2\n",
    "\\end{bmatrix}$\n",
    "\n",
    "and $b = y$\n",
    "### Steps of Polynomial Regression (Solving the Normal Equation)\n",
    "\n",
    "1. Construct $A$: \n",
    "\n",
    "$A = \\begin{bmatrix} 1 & t_0 & t_0^2 & \\dots & t_0^n \\\\\n",
    "1 & t_1 & t_1^2 & \\dots & t_1^n \\\\\n",
    "1 & t_2 & t_2^2 & \\dots & t_2^n \\\\\n",
    "\\vdots & \\vdots & \\vdots & \\vdots \\\\\n",
    "1 & t_n & t_n^2 & \\dots & t_m^n \\end{bmatrix}$\n",
    "\n",
    "2. Solve $x = (A^T A)^{-1} A^T b$\n",
    "\n",
    "$x$ is a $(n+1)$ length vector containing the coefficients for the model $y = c_0 + c_1 t + \\dots + c_n t^n$.\n",
    "\n",
    "In terms of coding, it's much more efficient to use scikit-learn's packages for polynomial regression.\n",
    "\n",
    "### Steps of Evaluating Polynomial Regression Model\n",
    "\n",
    "To evaluate your model, you must transform your data. Say you have a point $t$ and you want to predict $y$ for that point. Then construct the matrix $\\begin{bmatrix} 1 & t & t^2\\end{bmatrix}$ and compute $\\begin{bmatrix} 1 & t & t^2\\end{bmatrix}\\mathbf{x} = y$\n",
    "\n",
    "## How to Perform Polynomial Regression"
   ]
  },
  {
   "cell_type": "code",
   "execution_count": 2,
   "metadata": {
    "scrolled": true
   },
   "outputs": [
    {
     "data": {
      "text/plain": [
       "LinearRegression(copy_X=True, fit_intercept=True, n_jobs=None, normalize=False)"
      ]
     },
     "execution_count": 2,
     "metadata": {},
     "output_type": "execute_result"
    }
   ],
   "source": [
    "# Fitting Polynomial Regression to the dataset\n",
    "from sklearn.linear_model import LinearRegression\n",
    "from sklearn.preprocessing import PolynomialFeatures\n",
    "\n",
    "poly = PolynomialFeatures(degree = 2)\n",
    "X_poly = poly.fit_transform(X) # X_poly will be the matrix A\n",
    " \n",
    "lin = LinearRegression()\n",
    "lin.fit(X_poly, y) # will obtain the coefficients of the model"
   ]
  },
  {
   "cell_type": "markdown",
   "metadata": {},
   "source": [
    "## Polynomial Regression: Mechanics\n",
    "\n",
    "The \"PolynomialFeatures\" function:\n",
    "\n",
    "\"Generate a new feature matrix consisting of all polynomial combinations of the features with degree less than or equal to the specified degree.\"\n",
    "\n",
    "The PolynomialFeatures will generate polynomial features of a specified degree for a dataset. Our data has a single input, $t$, so poly.fit_transform will generate a matrix\n",
    "$A = \\begin{bmatrix} 1 & t_0 & t_0^2 & \\dots & t_0^n \\\\\n",
    "1 & t_1 & t_1^2 & \\dots & t_1^n \\\\\n",
    "1 & t_2 & t_2^2 & \\dots & t_2^n \\\\\n",
    "\\vdots & \\vdots & \\vdots & \\vdots \\\\\n",
    "1 & t_n & t_n^2 & \\dots & t_m^n \\end{bmatrix}$\n"
   ]
  },
  {
   "cell_type": "code",
   "execution_count": 3,
   "metadata": {},
   "outputs": [
    {
     "name": "stdout",
     "output_type": "stream",
     "text": [
      "[[ 1.         -0.75275929  0.56664654]\n",
      " [ 1.          2.70428584  7.3131619 ]\n",
      " [ 1.          1.39196365  1.93756281]\n",
      " [ 1.          0.59195091  0.35040587]]\n",
      "[[ 1.         -0.75275929  0.56664654]\n",
      " [ 1.          2.70428584  7.3131619 ]\n",
      " [ 1.          1.39196365  1.93756281]\n",
      " [ 1.          0.59195091  0.35040587]]\n",
      "0.0\n"
     ]
    }
   ],
   "source": [
    "poly = PolynomialFeatures(degree = 2)\n",
    "X_poly = poly.fit_transform(X) # generates the matrix A, which is in X_poly\n",
    "print(X_poly[0:4])\n",
    "\n",
    "## Compare this to constructing A manually:\n",
    "A = np.c_[np.ones((len(X), 1)), X, np.square(X)]\n",
    "print(A[0:4])\n",
    "print(np.linalg.norm(X_poly - A))"
   ]
  },
  {
   "cell_type": "markdown",
   "metadata": {},
   "source": [
    "The \"LinearRegression\" fucntion:\n",
    "\n",
    "```python\n",
    "lin = Linear.Regression()\n",
    "```\n",
    "Sets up the linear regression object.\n",
    "```python\n",
    "lin.fit(X_poly, y)\n",
    "```\n",
    "Takes in $X_{\\text{poly}}$ as your matrix $A$, and $y$ as your matrix $b$ to minimize $\\|Ax - b\\|^2$.\n",
    "```python\n",
    "lin.predict(X_new_poly)\n",
    "```\n",
    "Given a matrix $A_{\\text{new}}$, predict the output of the model: This is done by computing $A_{\\text{\\new}} \\mathbf{x}$. The intercept of the model is stored in ```lin.intercept_```, while the coefficients are stored in ```lin.coefs_```\n",
    "\n"
   ]
  },
  {
   "cell_type": "markdown",
   "metadata": {},
   "source": [
    "## Plotting the Polynomial Regression Plot"
   ]
  },
  {
   "cell_type": "code",
   "execution_count": null,
   "metadata": {},
   "outputs": [],
   "source": []
  },
  {
   "cell_type": "code",
   "execution_count": 4,
   "metadata": {
    "scrolled": true
   },
   "outputs": [
    {
     "data": {
      "image/png": "[encoded data removed]",
      "text/plain": [
       "<Figure size 432x288 with 1 Axes>"
      ]
     },
     "metadata": {
      "needs_background": "light"
     },
     "output_type": "display_data"
    }
   ],
   "source": [
    "X_new=np.linspace(-3, 3, 100).reshape(100, 1) # 100 equally spaced points from -3 to 3\n",
    "X_new_poly = poly.transform(X_new) # be a 100 x 3 matrix: multiply by 3x1 vector of coefficients to get prediction\n",
    "y_new = lin.predict(X_new_poly)\n",
    "\n",
    "# Visualising the Linear Regression results\n",
    "plt.scatter(X, y, color = 'blue') # plot the data points\n",
    " \n",
    "plt.plot(X_new, lin.predict(X_new_poly), color = 'red') # plot the line\n",
    "plt.title('Polynomial Regression degree 2')\n",
    "plt.xlabel('Temperature')\n",
    "plt.ylabel('Pressure')\n",
    " \n",
    "plt.show()"
   ]
  },
  {
   "cell_type": "code",
   "execution_count": 5,
   "metadata": {},
   "outputs": [
    {
     "data": {
      "text/plain": [
       "array([[0.        , 0.93366893, 0.56456263]])"
      ]
     },
     "execution_count": 5,
     "metadata": {},
     "output_type": "execute_result"
    }
   ],
   "source": [
    "lin.coef_"
   ]
  },
  {
   "cell_type": "markdown",
   "metadata": {},
   "source": [
    "$ y = 1.78 + .93t + .56t^2$"
   ]
  },
  {
   "cell_type": "code",
   "execution_count": 6,
   "metadata": {},
   "outputs": [
    {
     "name": "stdout",
     "output_type": "stream",
     "text": [
      "[[4.06140272]\n",
      " [3.9147669 ]\n",
      " [3.77227847]\n",
      " [3.63393742]]\n",
      "[4.06140272 3.9147669  3.77227847 3.63393742]\n"
     ]
    }
   ],
   "source": [
    "# lin.predict is the same as performing matrix multiplication\n",
    "yMult = np.dot(X_new_poly, [lin.intercept_, lin.coef_[0][1], lin.coef_[0][2]])\n",
    "print(y_new[0:4]) # prediction from calling lin.predict\n",
    "print(yMult[0:4]) # prediction from multiplying the coefficients directly"
   ]
  },
  {
   "cell_type": "markdown",
   "metadata": {},
   "source": [
    "# Fitting with an n-degree Polynomial and the Pipeline Function\n",
    "\n",
    "For an $n$-degree polynomial, you'd essentially do the same thing as before, just changing the degree of ```PolynomialFeatures``` to $n$.\n",
    "\n",
    "The problem with the previous approach is that inference is rather tedious:\n",
    "\n",
    "### Previous Approach\n",
    "\n",
    "To train the model:\n",
    "```python\n",
    "poly = PolynomialFeatures(degree = 2)\n",
    "X_poly = poly.fit_transform(X) # generates the matrix A, which is in X_poly\n",
    "\n",
    "lin = LinearRegression()\n",
    "lin.fit(X_poly, y)\n",
    "```\n",
    "\n",
    "To perform inference on new data, we must transform it:\n",
    "```python\n",
    "X_new_poly = poly.transform(X_new)\n",
    "y_new = lin.predict(X_new_poly)\n",
    "```\n",
    "\n",
    "### Pipeline Approach\n",
    "\n",
    "To train the model:\n",
    "```python\n",
    "polybig_features = PolynomialFeatures(degree=degree,\n",
    "include_bias=False)\n",
    "std_scaler = StandardScaler() # This is a new step, just to normalize the data\n",
    "lin_reg = LinearRegression()\n",
    "polynomial_regression = Pipeline([\n",
    "(\"poly_features\", polybig_features),\n",
    "(\"std_scaler\", std_scaler),\n",
    "(\"lin_reg\", lin_reg),\n",
    "])\n",
    "\n",
    "polynomial_regression.fit(X, y)\n",
    "```\n",
    "\n",
    "To perform inference on new data:\n",
    "```\n",
    "y_newbig = polynomial_regression.predict(X_new)\n",
    "```"
   ]
  },
  {
   "cell_type": "markdown",
   "metadata": {},
   "source": [
    "$X_{new}$ is an $m \\times 1$ vector of new input data points"
   ]
  },
  {
   "cell_type": "code",
   "execution_count": 7,
   "metadata": {},
   "outputs": [
    {
     "data": {
      "image/png": "[encoded data removed]",
      "text/plain": [
       "<Figure size 432x288 with 1 Axes>"
      ]
     },
     "metadata": {
      "needs_background": "light"
     },
     "output_type": "display_data"
    }
   ],
   "source": [
    "from sklearn.linear_model import LinearRegression\n",
    "from sklearn.preprocessing import PolynomialFeatures, StandardScaler\n",
    "from sklearn.pipeline import Pipeline\n",
    "\n",
    "degree = 50\n",
    "polybig_features = PolynomialFeatures(degree=degree,\n",
    "include_bias=False)\n",
    "std_scaler = StandardScaler()\n",
    "lin_reg = LinearRegression()\n",
    "polynomial_regression = Pipeline([\n",
    "(\"poly_features\", polybig_features),\n",
    "(\"std_scaler\", std_scaler),\n",
    "(\"lin_reg\", lin_reg),\n",
    "])\n",
    "polynomial_regression.fit(X, y) # we have the coefficients of the quadratic polynomial now\n",
    "y_newbig = polynomial_regression.predict(X_new) # predict on new data\n",
    "plt.plot(X_new, y_newbig, 'b', label=str(degree), linewidth=2)\n",
    "\n",
    "plt.plot(X, y, \"b.\", linewidth=3)\n",
    "plt.legend(loc=\"upper left\")\n",
    "plt.xlabel(\"$x_1$\", fontsize=18)\n",
    "plt.ylabel(\"$y$\", rotation=0, fontsize=18)\n",
    "plt.axis([-3, 3, 0, 10])\n",
    "plt.show()"
   ]
  },
  {
   "cell_type": "code",
   "execution_count": 8,
   "metadata": {},
   "outputs": [
    {
     "name": "stdout",
     "output_type": "stream",
     "text": [
      "[[-0.75275929  0.56664654 -0.42654845]\n",
      " [ 2.70428584  7.3131619  19.77688015]\n",
      " [ 1.39196365  1.93756281  2.697017  ]\n",
      " [ 0.59195091  0.35040587  0.20742307]]\n"
     ]
    },
    {
     "data": {
      "text/plain": [
       "array([[-0.32311215, -0.98092625,  0.06194131],\n",
       "       [ 1.62343393,  1.54544437,  1.99736325],\n",
       "       [ 0.88450935, -0.46755862,  0.3611686 ],\n",
       "       [ 0.43404902, -1.06190199,  0.1226737 ],\n",
       "       [-1.06136481,  0.40198854, -0.73938477],\n",
       "       [-1.0614463 ,  0.40221225, -0.73956195],\n",
       "       [-1.39222838,  1.43957464, -1.68296318],\n",
       "       [ 1.33783032,  0.61447228,  1.11875827],\n",
       "       [ 0.44234815, -1.05528623,  0.12419524],\n",
       "       [ 0.80369344, -0.60947232,  0.28920452],\n",
       "       [-1.51891535,  1.9053293 , -2.17722675],\n",
       "       [ 1.68828413,  1.7836779 ,  2.24988206],\n",
       "       [ 1.22386509,  0.29676894,  0.86304988],\n",
       "       [-0.87109182, -0.07758752, -0.38974274],\n",
       "       [-0.97418076,  0.17162867, -0.56370054],\n",
       "       [-0.96884443,  0.15811205, -0.5538234 ],\n",
       "       [-0.5606064 , -0.67651434, -0.05242161],\n",
       "       [ 0.18437843, -1.18485642,  0.10311721],\n",
       "       [-0.12917552, -1.13068194,  0.0962812 ],\n",
       "       [-0.60456985, -0.60554837, -0.08548099],\n",
       "       [ 0.478625  , -1.02445769,  0.13175975],\n",
       "       [-1.11719211,  0.55892687, -0.86668451],\n",
       "       [-0.6014769 , -0.61069033, -0.08301483],\n",
       "       [-0.35074163, -0.95236048,  0.05341817],\n",
       "       [-0.04767177, -1.1671025 ,  0.10104901],\n",
       "       [ 1.06417941, -0.09677707,  0.58269477],\n",
       "       [-0.91388034,  0.02280568, -0.45770766],\n",
       "       [ 0.14883094, -1.19038713,  0.10286293],\n",
       "       [ 0.41295459, -1.07798534,  0.11913473],\n",
       "       [-1.43152996,  1.58000736, -1.82773612],\n",
       "       [ 0.46407071, -1.03719954,  0.12854116],\n",
       "       [-1.01235951,  0.27029566, -0.63727084],\n",
       "       [-1.36868776,  1.35720643, -1.59981611],\n",
       "       [ 1.61725561,  1.52326607,  1.97439522],\n",
       "       [ 1.67383195,  1.72972613,  2.19177652],\n",
       "       [ 1.14263051,  0.0890387 ,  0.70972994],\n",
       "       [-0.55935124, -0.67847339, -0.05153949],\n",
       "       [-1.25848264,  0.98900986, -1.24474629],\n",
       "       [ 0.72315394, -0.73555129,  0.23219506],\n",
       "       [-0.1014474 , -1.14483364,  0.09836775],\n",
       "       [-1.17616417,  0.73270179, -1.01444051],\n",
       "       [ 0.08444702, -1.19280503,  0.10280093],\n",
       "       [-1.47227984,  1.72946809, -1.98589339],\n",
       "       [ 1.48358882,  1.06552043,  1.52184283],\n",
       "       [-0.71419604, -0.40870209, -0.18762869],\n",
       "       [ 0.6498064 , -0.83704002,  0.19162986],\n",
       "       [-0.53537371, -0.71518279, -0.03532377],\n",
       "       [ 0.16853911, -1.18768951,  0.10297048],\n",
       "       [ 0.25854728, -1.16370525,  0.10491208],\n",
       "       [-0.96394594,  0.14576365, -0.54484299],\n",
       "       [ 1.68718539,  1.77955885,  2.24542716],\n",
       "       [ 1.03024969, -0.17263778,  0.53375788],\n",
       "       [ 1.58554395,  1.41084981,  1.85942329],\n",
       "       [ 1.43462551,  0.90840612,  1.37638264],\n",
       "       [ 0.43148649, -1.06391187,  0.12221891],\n",
       "       [ 1.52600067,  1.20618966,  1.65645379],\n",
       "       [-1.28949503,  1.0897218 , -1.33910488],\n",
       "       [-0.92634974,  0.05287603, -0.47862821],\n",
       "       [-1.43566216,  1.59498456, -1.843397  ],\n",
       "       [-0.48936243, -0.7818221 , -0.00746661],\n",
       "       [-0.27535116, -1.02605282,  0.07425657],\n",
       "       [-0.67173278, -0.48831824, -0.14455333],\n",
       "       [ 1.21134768,  0.26374389,  0.83791288],\n",
       "       [-0.38320303, -0.91649509,  0.04198163],\n",
       "       [-0.63934921, -0.5461727 , -0.11473029],\n",
       "       [ 0.24498572, -1.16854348,  0.10441378],\n",
       "       [-1.11235977,  0.54505142, -0.85519045],\n",
       "       [ 1.1216832 ,  0.0380011 ,  0.67385399],\n",
       "       [-1.33659618,  1.24702725, -1.49068163],\n",
       "       [ 1.74563949,  2.0026571 ,  2.49110227],\n",
       "       [ 1.02049269, -0.1939492 ,  0.52032871],\n",
       "       [-0.91711719,  0.03057614, -0.46308922],\n",
       "       [-1.56980206,  2.10308317, -2.39895273],\n",
       "       [ 1.16649579,  0.14844903,  0.75239893],\n",
       "       [ 0.7995879 , -0.61626991,  0.28595757],\n",
       "       [ 0.87441884, -0.4861206 ,  0.35131765],\n",
       "       [ 1.0172007 , -0.20108889,  0.5158615 ],\n",
       "       [-1.33830562,  1.25283489, -1.49637384],\n",
       "       [-0.37741785, -0.92306919,  0.04413689],\n",
       "       [-1.1970061 ,  0.79608219, -1.07004602],\n",
       "       [ 1.32744945,  0.58426323,  1.09339652],\n",
       "       [ 0.51729156, -0.98817567,  0.14158914],\n",
       "       [-0.47055254, -0.80762482,  0.00274558],\n",
       "       [-1.37373253,  1.37474778, -1.61741242],\n",
       "       [-0.53783573, -0.71147602, -0.03693381],\n",
       "       [-0.48985909, -0.78112948, -0.00774527],\n",
       "       [ 0.87644253, -0.4824172 ,  0.35327286],\n",
       "       [ 0.56546531, -0.93803158,  0.15666208],\n",
       "       [ 1.40890033,  0.8281281 ,  1.30410817],\n",
       "       [ 0.00687228, -1.18271121,  0.1023594 ],\n",
       "       [-1.18442094,  0.75768792, -1.03625403],\n",
       "       [ 0.82116723, -0.58009545,  0.30345345],\n",
       "       [ 0.98177718, -0.27629578,  0.4697917 ],\n",
       "       [ 0.30776014, -1.14249913,  0.10756428],\n",
       "       [ 1.01617648, -0.20330499,  0.51447817],\n",
       "       [ 0.07978039, -1.19259969,  0.10279831],\n",
       "       [ 0.17754189, -1.18615193,  0.10304634],\n",
       "       [-0.14405399, -1.12233962,  0.09493132],\n",
       "       [-1.50258203,  1.84315223, -2.10894161],\n",
       "       [-1.22395773,  0.8795636 , -1.14464732]])"
      ]
     },
     "execution_count": 8,
     "metadata": {},
     "output_type": "execute_result"
    }
   ],
   "source": [
    "poly = PolynomialFeatures(degree = 3, include_bias = False) # removes the intercept term\n",
    "X_poly = poly.fit_transform(X) # generates the matrix A, which is in X_poly\n",
    "print(X_poly[0:4])\n",
    "std_scaler.fit(X_poly) # getting mean and standard deviation of each column of X_poly\n",
    "std_scaler.transform(X_poly) # standardize each column of X_poly"
   ]
  },
  {
   "cell_type": "markdown",
   "metadata": {},
   "source": [
    "Feature: each column of the $A$ matrix, or $X_{poly}$"
   ]
  },
  {
   "cell_type": "markdown",
   "metadata": {},
   "source": [
    "### StandardScaler:\n",
    "\n",
    "**Standardizes** the data by setting the mean and variance of each **feature** equal to 0 and 1 respectively. This is generally important with machine learning methods; if one of the features has much higher variance than other features, it will have too large an impact in the prediction."
   ]
  },
  {
   "cell_type": "code",
   "execution_count": 9,
   "metadata": {},
   "outputs": [
    {
     "data": {
      "text/plain": [
       "array([[-0.75275929,  0.56664654, -0.42654845],\n",
       "       [ 2.70428584,  7.3131619 , 19.77688015],\n",
       "       [ 1.39196365,  1.93756281,  2.697017  ],\n",
       "       [ 0.59195091,  0.35040587,  0.20742307]])"
      ]
     },
     "execution_count": 9,
     "metadata": {},
     "output_type": "execute_result"
    }
   ],
   "source": [
    "X_poly[0:4]"
   ]
  },
  {
   "cell_type": "code",
   "execution_count": 10,
   "metadata": {},
   "outputs": [
    {
     "data": {
      "text/plain": [
       "array([-0.98092625,  1.54544437, -0.46755862, -1.06190199,  0.40198854,\n",
       "        0.40221225,  1.43957464,  0.61447228, -1.05528623, -0.60947232,\n",
       "        1.9053293 ,  1.7836779 ,  0.29676894, -0.07758752,  0.17162867,\n",
       "        0.15811205, -0.67651434, -1.18485642, -1.13068194, -0.60554837,\n",
       "       -1.02445769,  0.55892687, -0.61069033, -0.95236048, -1.1671025 ,\n",
       "       -0.09677707,  0.02280568, -1.19038713, -1.07798534,  1.58000736,\n",
       "       -1.03719954,  0.27029566,  1.35720643,  1.52326607,  1.72972613,\n",
       "        0.0890387 , -0.67847339,  0.98900986, -0.73555129, -1.14483364,\n",
       "        0.73270179, -1.19280503,  1.72946809,  1.06552043, -0.40870209,\n",
       "       -0.83704002, -0.71518279, -1.18768951, -1.16370525,  0.14576365,\n",
       "        1.77955885, -0.17263778,  1.41084981,  0.90840612, -1.06391187,\n",
       "        1.20618966,  1.0897218 ,  0.05287603,  1.59498456, -0.7818221 ,\n",
       "       -1.02605282, -0.48831824,  0.26374389, -0.91649509, -0.5461727 ,\n",
       "       -1.16854348,  0.54505142,  0.0380011 ,  1.24702725,  2.0026571 ,\n",
       "       -0.1939492 ,  0.03057614,  2.10308317,  0.14844903, -0.61626991,\n",
       "       -0.4861206 , -0.20108889,  1.25283489, -0.92306919,  0.79608219,\n",
       "        0.58426323, -0.98817567, -0.80762482,  1.37474778, -0.71147602,\n",
       "       -0.78112948, -0.4824172 , -0.93803158,  0.8281281 , -1.18271121,\n",
       "        0.75768792, -0.58009545, -0.27629578, -1.14249913, -0.20330499,\n",
       "       -1.19259969, -1.18615193, -1.12233962,  1.84315223,  0.8795636 ])"
      ]
     },
     "execution_count": 10,
     "metadata": {},
     "output_type": "execute_result"
    }
   ],
   "source": [
    "# StandardScaler applies this to every column of X_poly\n",
    "(X_poly[:,1] - np.mean(X_poly[:,1])) / np.std(X_poly[:,1])"
   ]
  },
  {
   "cell_type": "markdown",
   "metadata": {},
   "source": [
    "### Pipeline:\n",
    "```Pipeline``` simplifies training and prediction, since it'll automate data transformations.\n",
    "   "
   ]
  },
  {
   "cell_type": "markdown",
   "metadata": {},
   "source": [
    "# Loading Data\n",
    "\n",
    "Oftentimes you'll have to load data from a text file to store in an array.\n",
    "\n",
    "To load the COVID data:\n",
    "\n",
    "```python\n",
    "data = np.loadtxt(\"CaCovidInfMarch24toMidJuly.txt\")\n",
    "```\n",
    "This will store the contents of the TXT in a text file."
   ]
  },
  {
   "cell_type": "code",
   "execution_count": 11,
   "metadata": {},
   "outputs": [
    {
     "name": "stdout",
     "output_type": "stream",
     "text": [
      "[  1   2   3   4   5   6   7   8   9  10  11  12  13  14  15  16  17  18\n",
      "  19  20  21  22  23  24  25  26  27  28  29  30  31  32  33  34  35  36\n",
      "  37  38  39  40  41  42  43  44  45  46  47  48  49  50  51  52  53  54\n",
      "  55  56  57  58  59  60  61  62  63  64  65  66  67  68  69  70  71  72\n",
      "  73  74  75  76  77  78  79  80  81  82  83  84  85  86  87  88  89  90\n",
      "  91  92  93  94  95  96  97  98  99 100 101 102 103 104 105 106 107 108\n",
      " 109 110 111 112 113 114 115 116 117 118 119 120]\n"
     ]
    }
   ],
   "source": [
    "data = np.loadtxt(\"CaCovidInfMarch24toMidJuly.txt\")\n",
    "Xcovid = np.arange(1, len(data) + 1) \n",
    "print(Xcovid)"
   ]
  },
  {
   "cell_type": "markdown",
   "metadata": {},
   "source": [
    "# Training/Validation Data Split\n",
    "\n",
    "**Training Data**: Data that you input into your model to learn parameters.\n",
    "\n",
    "**Validation Data**: Data used to evaluate your model while learning the parameters.\n",
    "\n",
    "**Test Data**: The data you're trying to evaluate your model on. You don't use this to tune model parameters.\n",
    "\n",
    "Usually you'll want to form a training-validation data split so you can evaluate the performance of your model.\n",
    "\n",
    "## Forming the Split:\n",
    "\n",
    "Depending on the context, there may be a specific way you should form the data split. For example, in the Homework, you simply want to let the first 90 days be training data, last 30 days be validation data.\n",
    "\n",
    "```python\n",
    "X_train = X[0:90]\n",
    "X_valid = X[90:120]\n",
    "y_train = data[0:90]\n",
    "y_valid = data[90:120]\n",
    "```\n",
    "\n",
    "If instead the data needs to be **randomly split** into training and validation sets:\n",
    "```python\n",
    "from sklearn.model_selection import train_test_split\n",
    "X_train, X_valid, y_train, y_valid = train_test_split(X, data, test_size=0.33, random_state=42)\n",
    "```\n",
    "This will randomly put 33\\% of the entries into the validation set."
   ]
  },
  {
   "cell_type": "code",
   "execution_count": 12,
   "metadata": {},
   "outputs": [
    {
     "name": "stdout",
     "output_type": "stream",
     "text": [
      "[ 27  66 109  53  70  20  10  49  87  34   7   8  78  25  81 105 112  40\n",
      " 110 120  89  80  82  47  39  48  63  28 113  12  77  95  42   6  31  61\n",
      " 108  92  69  99]\n",
      "40\n"
     ]
    }
   ],
   "source": [
    "from sklearn.model_selection import train_test_split\n",
    "X_train, X_valid, y_train, y_valid = train_test_split(Xcovid, data, test_size=0.33, random_state=44)\n",
    "print(X_valid)\n",
    "print(len(X_valid))"
   ]
  },
  {
   "cell_type": "markdown",
   "metadata": {},
   "source": [
    "# Overfitting / Underfitting\n",
    "\n",
    "You can fit a polynomial of whatever degree to the model. However, if your model has **too many parameters**, it will **overfit** to the data; it will fit exactly to the data while being much worse at predicting new data. If it has too few, it will **underfit** to the data.\n",
    "\n",
    "![overfitting](https://upload.wikimedia.org/wikipedia/commons/6/68/Overfitted_Data.png)\n"
   ]
  },
  {
   "cell_type": "code",
   "execution_count": 13,
   "metadata": {},
   "outputs": [],
   "source": [
    "from sklearn.metrics import mean_squared_error\n",
    "from sklearn.model_selection import train_test_split\n",
    "def plot_learning_curves(model, X, y):\n",
    "    X_train, X_val, y_train, y_val = train_test_split(X, y, test_size=0.2, random_state=10)\n",
    "    train_errors, val_errors = [], []\n",
    "    for m in range(1, len(X_train)):\n",
    "        model.fit(X_train[:m], y_train[:m])\n",
    "        y_train_predict = model.predict(X_train[:m])\n",
    "        y_val_predict = model.predict(X_val)\n",
    "        train_errors.append(mean_squared_error(y_train[:m], y_train_predict))\n",
    "        val_errors.append(mean_squared_error(y_val, y_val_predict))\n",
    "    plt.plot(np.sqrt(train_errors), \"r-+\", linewidth=2, label=\"train\")\n",
    "    plt.plot(np.sqrt(val_errors), \"b-\", linewidth=3, label=\"val\")\n",
    "    plt.legend(loc=\"upper right\", fontsize=14)\n",
    "    plt.xlabel(\"Training set size\", fontsize=14)\n",
    "    plt.ylabel(\"RMSE\", fontsize=14)"
   ]
  },
  {
   "cell_type": "code",
   "execution_count": 14,
   "metadata": {
    "scrolled": true
   },
   "outputs": [
    {
     "data": {
      "image/png": "[encoded data removed]",
      "text/plain": [
       "<Figure size 432x288 with 1 Axes>"
      ]
     },
     "metadata": {
      "needs_background": "light"
     },
     "output_type": "display_data"
    }
   ],
   "source": [
    "#run linear regression\n",
    "lin_reg = LinearRegression()\n",
    "plot_learning_curves(lin_reg, X, y)\n",
    "plt.axis([0, 80, 0, 3])\n",
    "plt.show()"
   ]
  },
  {
   "cell_type": "code",
   "execution_count": 15,
   "metadata": {
    "scrolled": true
   },
   "outputs": [
    {
     "data": {
      "text/plain": [
       "Text(0.5, 1.0, 'Training vs validation with degree 2 polynomial')"
      ]
     },
     "execution_count": 15,
     "metadata": {},
     "output_type": "execute_result"
    },
    {
     "data": {
      "image/png": "[encoded data removed]",
      "text/plain": [
       "<Figure size 432x288 with 1 Axes>"
      ]
     },
     "metadata": {
      "needs_background": "light"
     },
     "output_type": "display_data"
    }
   ],
   "source": [
    "degree = 2\n",
    "polybig_features = PolynomialFeatures(degree=degree,\n",
    "include_bias=False)\n",
    "polynomial_regression = Pipeline([\n",
    "(\"poly_features\", polybig_features),\n",
    "(\"std_scaler\", StandardScaler()),\n",
    "(\"lin_reg\", LinearRegression()),\n",
    "])\n",
    "plot_learning_curves(polynomial_regression, X, y)\n",
    "plt.axis([0, 80, 0, 2])\n",
    "plt.title(\"Training vs validation with degree {} polynomial\".format(degree))"
   ]
  },
  {
   "cell_type": "code",
   "execution_count": 16,
   "metadata": {},
   "outputs": [
    {
     "data": {
      "text/plain": [
       "Text(0.5, 1.0, 'Training vs validation with degree 5 polynomial')"
      ]
     },
     "execution_count": 16,
     "metadata": {},
     "output_type": "execute_result"
    },
    {
     "data": {
      "image/png": "[encoded data removed]",
      "text/plain": [
       "<Figure size 432x288 with 1 Axes>"
      ]
     },
     "metadata": {
      "needs_background": "light"
     },
     "output_type": "display_data"
    }
   ],
   "source": [
    "degree = 5\n",
    "polybig_features = PolynomialFeatures(degree=degree,\n",
    "include_bias=False)\n",
    "polynomial_regression = Pipeline([\n",
    "(\"poly_features\", polybig_features),\n",
    "(\"std_scaler\", StandardScaler()),\n",
    "(\"lin_reg\", LinearRegression()),\n",
    "])\n",
    "plot_learning_curves(polynomial_regression, X, y)\n",
    "plt.axis([0, 80, 0, 2])\n",
    "plt.title(\"Training vs validation with degree {} polynomial\".format(degree))"
   ]
  },
  {
   "cell_type": "markdown",
   "metadata": {},
   "source": [
    "This is an example of **overfitting**: The training set MSE is low, but the validation set MSE is extremely high.\n",
    "\n",
    "The linear model **underfits**, the degree 43 model **overfits**, while the degree 2 model is effective."
   ]
  },
  {
   "cell_type": "markdown",
   "metadata": {},
   "source": [
    "### How to fix overfitting/underfitting:\n",
    "\n",
    "To fix **overfitting**: You can increase the number of data points in the training set.\n",
    "\n",
    "To fix **underfitting**: out of luck, your model isn't sufficiently complex enough to model the data set"
   ]
  },
  {
   "cell_type": "code",
   "execution_count": 17,
   "metadata": {},
   "outputs": [],
   "source": [
    "# Consider 1000 points instead:\n",
    "m2 = 1000\n",
    "X2 = 6 * np.random.rand(m2, 1) - 3 #randomly spaced\n",
    "y2 = 0.5 * X2**2 + X2 + 2 + np.random.randn(m2, 1) #generator"
   ]
  },
  {
   "cell_type": "code",
   "execution_count": 18,
   "metadata": {},
   "outputs": [
    {
     "data": {
      "text/plain": [
       "Text(0.5, 1.0, 'Training vs validation with degree 4 polynomial')"
      ]
     },
     "execution_count": 18,
     "metadata": {},
     "output_type": "execute_result"
    },
    {
     "data": {
      "image/png": "[encoded data removed]",
      "text/plain": [
       "<Figure size 432x288 with 1 Axes>"
      ]
     },
     "metadata": {
      "needs_background": "light"
     },
     "output_type": "display_data"
    }
   ],
   "source": [
    "degree = 4\n",
    "polybig_features = PolynomialFeatures(degree=degree,\n",
    "include_bias=False)\n",
    "polynomial_regression = Pipeline([\n",
    "(\"poly_features\", polybig_features),\n",
    "(\"std_scaler\", StandardScaler()),\n",
    "(\"lin_reg\", LinearRegression()),\n",
    "])\n",
    "plot_learning_curves(polynomial_regression, X2, y2)\n",
    "plt.axis([0, 80, 0, 2])\n",
    "plt.title(\"Training vs validation with degree {} polynomial\".format(degree))"
   ]
  },
  {
   "cell_type": "markdown",
   "metadata": {},
   "source": [
    "If there's a large gap between training error and validation error, that means your model is **overfitting** to the training data."
   ]
  },
  {
   "cell_type": "markdown",
   "metadata": {},
   "source": [
    "### (Root) Mean-squared Error\n",
    "\n",
    "We assume a root mean-squared error loss function:\n",
    "$$RMSE = \\sqrt{\\frac{1}{m} \\sum_{i=1}^m |y_i - \\hat{y}_i|^2}$$\n",
    "\n",
    "where $\\hat{y}_i$ is the prediction from our model.\n",
    "\n",
    "This graph plots the RMSE of the training set and validation set as the model trains the data.\n",
    "\n",
    "To evaluate RMSE on the training set:\n",
    "```python\n",
    "np.sqrt(mean_squared_error(y_train, model.predict(X_train)))\n",
    "```\n",
    "\n",
    "To evaluate RMSE on the validation set:\n",
    "```python\n",
    "np.sqrt(mean_squared_error(y_valid, model.predict(X_val)))\n",
    "```\n",
    "\n",
    "Validation error should always be slightly higher than training error since you're minimizing error on the training set, not the foreign validation set."
   ]
  }
 ],
 "metadata": {
  "kernelspec": {
   "display_name": "Python 3",
   "language": "python",
   "name": "python3"
  },
  "language_info": {
   "codemirror_mode": {
    "name": "ipython",
    "version": 3
   },
   "file_extension": ".py",
   "mimetype": "text/x-python",
   "name": "python",
   "nbconvert_exporter": "python",
   "pygments_lexer": "ipython3",
   "version": "3.7.3"
  }
 },
 "nbformat": 4,
 "nbformat_minor": 2
}
