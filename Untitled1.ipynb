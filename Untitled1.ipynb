{
 "cells": [
  {
   "cell_type": "code",
   "execution_count": 130,
   "id": "df8b1b9e",
   "metadata": {},
   "outputs": [],
   "source": [
    "a,b = 1,100   # parameters for Rosenbrock function\n",
    "f = lambda x,y: (a-x)**2+b*(y-x**2)**2\n",
    "Df = lambda x,y: np.array([2*(x-a)-4*b*x*(y-x**2),\n",
    "                           2*b*(y-x**2)])\n",
    "\n",
    "x0,y0 = 1.2,1.2    # initial point for all methods"
   ]
  },
  {
   "cell_type": "code",
   "execution_count": 131,
   "id": "689d1c55",
   "metadata": {},
   "outputs": [],
   "source": [
    "import numpy as np\n",
    "from numpy.linalg import norm, solve, multi_dot\n",
    "import matplotlib.pyplot as plt\n",
    "from scipy.optimize import minimize_scalar"
   ]
  },
  {
   "cell_type": "code",
   "execution_count": 132,
   "id": "7c7fc9f5",
   "metadata": {},
   "outputs": [],
   "source": [
    "def PR_beta(Dfk,Dfk1, pk): #doesn't use pk, just including the parameter since other beta methods use pk\n",
    "    return ((Dfk1-Dfk)@Dfk1) / (Dfk@Dfk)"
   ]
  },
  {
   "cell_type": "code",
   "execution_count": 133,
   "id": "997c5b15",
   "metadata": {},
   "outputs": [],
   "source": [
    "def FR_beta(Dfk,Dfk1, pk): #doesn't use pk\n",
    "    return (Dfk1@Dfk1) / (Dfk@Dfk)"
   ]
  },
  {
   "cell_type": "code",
   "execution_count": 134,
   "id": "37236978",
   "metadata": {},
   "outputs": [],
   "source": [
    "def nonlinear_exact_line_search_CG(x0, y0, f, Df, beta, restart=False, restart_itr=2 , tol=1e-8, max_steps=10000):\n",
    "    x,y = x0,y0\n",
    "    path = [[x,y]]\n",
    "    i=0 # iteration count\n",
    "    dx = Df(x,y)          # current gradient\n",
    "    pk = -dx\n",
    "    while np.linalg.norm(dx)>tol and i<max_steps:    \n",
    "        def subproblem1D(alpha):                  # exact line search\n",
    "            return f(x + alpha*pk[0], y + alpha*pk[1])\n",
    "        \n",
    "        res = minimize_scalar(subproblem1D)\n",
    "        alpha= res.x      \n",
    "        xnew,ynew = x + alpha*pk[0], y + alpha*pk[1]\n",
    "        \n",
    "        dx1 = Df(xnew,ynew)      # Df_{k+1}\n",
    "        bk = beta(dx,dx1,pk)  # beta_k\n",
    "        if restart and i%restart_itr == 0:\n",
    "            bk=0\n",
    "        pk = -dx1 + bk*pk\n",
    "        path.append([xnew,ynew])\n",
    "        x,y = xnew,ynew\n",
    "        dx = dx1\n",
    "        i += 1\n",
    "    return np.array(path), i, x, y"
   ]
  },
  {
   "cell_type": "code",
   "execution_count": 135,
   "id": "c065a754",
   "metadata": {},
   "outputs": [],
   "source": [
    "def plot_path(path, func, title, window=[0,3,0,3], numContours=50, skip=1):\n",
    "    '''Plots path defined in (N,2) array \"path\" on a contour plot of \"func\" in window \"window\"'''\n",
    "    plt.figure(figsize=(10,10))\n",
    "    X = np.linspace(window[0],window[1],300)\n",
    "    Y = np.linspace(window[2],window[3],300)\n",
    "    Xmesh, Ymesh = np.meshgrid(X,Y)\n",
    "    Z = func(Xmesh,Ymesh)\n",
    "    CS = plt.contour(Xmesh, Ymesh, Z, numContours, cmap='jet')\n",
    "    plt.clabel(CS,inline_spacing=0,fmt='%d')\n",
    "    plt.axis(window)\n",
    "    plt.xlabel('x')\n",
    "    plt.ylabel('y')\n",
    "    plt.title(title)\n",
    "\n",
    "    for i in range(path.shape[0]-1): # iterate through steps\n",
    "        if i%skip==0:\n",
    "            # only plot arrows every \"skip\" iterations\n",
    "            plt.arrow(path[i,0],path[i,1],path[i+1,0]-path[i,0],path[i+1,1]-path[i,1],\n",
    "                      color='k',length_includes_head=True)\n",
    "    plt.show()"
   ]
  },
  {
   "cell_type": "code",
   "execution_count": 136,
   "id": "ceed8ef0",
   "metadata": {},
   "outputs": [],
   "source": [
    "def approx_convergence_rate1(path):\n",
    "    '''Given a path defined by an iteration and a known minimizer, approximates convergence rate'''\n",
    "    p=np.log(np.linalg.norm(np.array(path[-1])-np.array(path[-2])\n",
    "                           )/(np.linalg.norm(np.array(path[-2])-np.array(path[-3])))\n",
    "            )/(np.log(np.linalg.norm(np.array(path[-2])-np.array(path[-3])\n",
    "                                     )/(np.linalg.norm(np.array(path[-3])\n",
    "                                                       -np.array(path[-4])))))\n",
    "    return p"
   ]
  },
  {
   "cell_type": "code",
   "execution_count": 204,
   "id": "b9cfa01d",
   "metadata": {},
   "outputs": [],
   "source": [
    "def approx_convergence_rate2(path, minimizer, numToAvg=10,showPlot=True):\n",
    "    '''Given a path defined by an iteration and a known minimizer, approximates convergence rate'''\n",
    "    path=list(path)\n",
    "    path1=path[1:-1]\n",
    "    path2=path[0:-2]\n",
    "    path1=np.array(path1)\n",
    "    path2=np.array(path2)\n",
    "    err = np.linalg.norm(path1-path2,axis=1) # ||x_k-x*||=e_k\n",
    "    \n",
    "    # if converged in very few steps, return infinite order\n",
    "    if len(err)<=3:\n",
    "        return np.inf\n",
    "    \n",
    "    pp = np.zeros(len(err)-3)\n",
    "    for i in range(len(err)-3):\n",
    "        pp[i] = np.log(err[i+2]/err[i+1])/np.log(err[i+1]/err[i])\n",
    "    \n",
    "    if numToAvg>len(pp):\n",
    "        # if not enough iterations to average, just average all\n",
    "        p=np.mean(pp)\n",
    "    else:\n",
    "        # return mean of last few iterations\n",
    "        p=np.mean(pp[-numToAvg:])\n",
    "        \n",
    "    # plot\n",
    "    if showPlot:\n",
    "        plt.plot(pp)\n",
    "        plt.plot(pp*0+p)\n",
    "        plt.xlabel('k')\n",
    "        plt.ylabel('p')\n",
    "        plt.title(f'p={p}')\n",
    "        plt.show()\n",
    "        \n",
    "    return p"
   ]
  },
  {
   "cell_type": "code",
   "execution_count": 205,
   "id": "c207e3b1",
   "metadata": {},
   "outputs": [],
   "source": [
    "def approx_convergence_rate(path, minimizer, numToAvg=3, showPlot=True):\n",
    "    '''Given a path defined by an iteration and a known minimizer, approximates convergence rate'''\n",
    "    err = np.linalg.norm(path-np.array(minimizer),axis=1) # ||x_k-x*||=e_k\n",
    "    \n",
    "    # if converged in very few steps, return infinite order\n",
    "    if len(err)<=3:\n",
    "        return np.inf\n",
    "    \n",
    "    pp = np.zeros(len(err)-3)\n",
    "    for i in range(len(err)-3):\n",
    "        pp[i] = np.log(err[i+2]/err[i+1])/np.log(err[i+1]/err[i])\n",
    "    \n",
    "    if numToAvg>len(pp):\n",
    "        # if not enough iterations to average, just average all\n",
    "        p=np.mean(pp)\n",
    "    else:\n",
    "        # return mean of last few iterations\n",
    "        p=np.mean(pp[-numToAvg:])\n",
    "        \n",
    "    # plot\n",
    "    if showPlot:\n",
    "        plt.plot(pp)\n",
    "        plt.plot(pp*0+p)\n",
    "        plt.xlabel('k')\n",
    "        plt.ylabel('p')\n",
    "        plt.title(f'p={p}')\n",
    "        plt.show()\n",
    "        \n",
    "    return p"
   ]
  },
  {
   "cell_type": "code",
   "execution_count": 206,
   "id": "f2925714",
   "metadata": {},
   "outputs": [],
   "source": [
    "def linear_convergent_check(path,minimizer):\n",
    "    con=(np.linalg.norm(path[-1]-minimizer))/(np.linalg.norm(path[-2]-minimizer))\n",
    "    return con"
   ]
  },
  {
   "cell_type": "markdown",
   "id": "147d4619",
   "metadata": {},
   "source": [
    "## A with initial point (1.2,1.2), study convergence with no restart"
   ]
  },
  {
   "cell_type": "code",
   "execution_count": 207,
   "id": "123d99f0",
   "metadata": {},
   "outputs": [],
   "source": [
    "x0,y0 = 1.2,1.2    # initial point for all methods"
   ]
  },
  {
   "cell_type": "code",
   "execution_count": 208,
   "id": "9a4f0a26",
   "metadata": {},
   "outputs": [
    {
     "name": "stdout",
     "output_type": "stream",
     "text": [
      "After 10 iterations, approximate minimum is 1.1088426099012847e-28 at (1.0000000000000095, 1.0000000000000195)\n"
     ]
    }
   ],
   "source": [
    "path_PR, i, x, y = nonlinear_exact_line_search_CG(x0, y0, f, Df, PR_beta, False)\n",
    "print(f'After {i} iterations, approximate minimum is {f(x,y)} at {x,y}')"
   ]
  },
  {
   "cell_type": "code",
   "execution_count": 209,
   "id": "21ea1501",
   "metadata": {},
   "outputs": [
    {
     "name": "stdout",
     "output_type": "stream",
     "text": [
      "After 30 iterations, approximate minimum is 3.7186327915733286e-17 at (1.0000000060888288, 1.0000000122111974)\n"
     ]
    }
   ],
   "source": [
    "path_FR, i, x, y=nonlinear_exact_line_search_CG(x0, y0, f, Df, FR_beta, False)\n",
    "print(f'After {i} iterations, approximate minimum is {f(x,y)} at {x,y}')"
   ]
  },
  {
   "cell_type": "code",
   "execution_count": 210,
   "id": "b04d84fb",
   "metadata": {},
   "outputs": [
    {
     "data": {
      "image/png": "[encoded data removed]",
      "text/plain": [
       "<Figure size 432x288 with 1 Axes>"
      ]
     },
     "metadata": {
      "needs_background": "light"
     },
     "output_type": "display_data"
    },
    {
     "data": {
      "text/plain": [
       "2.2043103619834614"
      ]
     },
     "execution_count": 210,
     "metadata": {},
     "output_type": "execute_result"
    }
   ],
   "source": [
    "approx_convergence_rate(path_PR, [1,1], numToAvg=3,showPlot=True)"
   ]
  },
  {
   "cell_type": "code",
   "execution_count": 211,
   "id": "1c67f692",
   "metadata": {},
   "outputs": [
    {
     "data": {
      "text/plain": [
       "2.039313748875837"
      ]
     },
     "execution_count": 211,
     "metadata": {},
     "output_type": "execute_result"
    }
   ],
   "source": [
    "approx_convergence_rate1(path_PR)"
   ]
  },
  {
   "cell_type": "code",
   "execution_count": 216,
   "id": "ecbe857a",
   "metadata": {},
   "outputs": [
    {
     "data": {
      "image/png": "[encoded data removed]",
      "text/plain": [
       "<Figure size 432x288 with 1 Axes>"
      ]
     },
     "metadata": {
      "needs_background": "light"
     },
     "output_type": "display_data"
    },
    {
     "data": {
      "text/plain": [
       "38.348558514579246"
      ]
     },
     "execution_count": 216,
     "metadata": {},
     "output_type": "execute_result"
    }
   ],
   "source": [
    "approx_convergence_rate(path_FR, (1,1), numToAvg=5,showPlot=True)"
   ]
  },
  {
   "cell_type": "code",
   "execution_count": 217,
   "id": "66e2d402",
   "metadata": {},
   "outputs": [
    {
     "data": {
      "text/plain": [
       "1.8162934057305442"
      ]
     },
     "execution_count": 217,
     "metadata": {},
     "output_type": "execute_result"
    }
   ],
   "source": [
    "approx_convergence_rate1(path_FR)"
   ]
  },
  {
   "cell_type": "markdown",
   "id": "68be03bf",
   "metadata": {},
   "source": [
    "From above analysis, we can see that PR method is superlinear with 2.04 convergence rate, and FR method is also superlinear with 1.82 convergence rate, when norm of gradient is very low. "
   ]
  },
  {
   "cell_type": "code",
   "execution_count": 218,
   "id": "6cb822ef",
   "metadata": {},
   "outputs": [
    {
     "name": "stdout",
     "output_type": "stream",
     "text": [
      "After 12 iterations, approximate minimum is 2.820299792639095e-20 at (1.0000000000018956, 0.9999999999869985)\n"
     ]
    }
   ],
   "source": [
    "path_PR, i, x, y = nonlinear_exact_line_search_CG(x0, y0, f, Df, PR_beta, True,3)\n",
    "print(f'After {i} iterations, approximate minimum is {f(x,y)} at {x,y}')"
   ]
  },
  {
   "cell_type": "code",
   "execution_count": 219,
   "id": "63191c26",
   "metadata": {},
   "outputs": [
    {
     "name": "stdout",
     "output_type": "stream",
     "text": [
      "After 10 iterations, approximate minimum is 6.296760414157414e-21 at (1.000000000079289, 1.0000000001588945)\n"
     ]
    }
   ],
   "source": [
    "path_FR, i, x, y = nonlinear_exact_line_search_CG(x0, y0, f, Df, FR_beta, True,3)\n",
    "print(f'After {i} iterations, approximate minimum is {f(x,y)} at {x,y}')"
   ]
  },
  {
   "cell_type": "code",
   "execution_count": 220,
   "id": "d331419d",
   "metadata": {},
   "outputs": [
    {
     "data": {
      "text/plain": [
       "-0.9353759255910976"
      ]
     },
     "execution_count": 220,
     "metadata": {},
     "output_type": "execute_result"
    }
   ],
   "source": [
    "approx_convergence_rate1(path_PR)"
   ]
  },
  {
   "cell_type": "code",
   "execution_count": 222,
   "id": "dada6cb9",
   "metadata": {},
   "outputs": [
    {
     "data": {
      "image/png": "[encoded data removed]",
      "text/plain": [
       "<Figure size 432x288 with 1 Axes>"
      ]
     },
     "metadata": {
      "needs_background": "light"
     },
     "output_type": "display_data"
    },
    {
     "data": {
      "text/plain": [
       "3667.6417982174244"
      ]
     },
     "execution_count": 222,
     "metadata": {},
     "output_type": "execute_result"
    }
   ],
   "source": [
    "approx_convergence_rate(path_PR, (1,1), numToAvg=5,showPlot=True)"
   ]
  },
  {
   "cell_type": "code",
   "execution_count": 223,
   "id": "a4d3fe21",
   "metadata": {},
   "outputs": [
    {
     "data": {
      "text/plain": [
       "-1.6720674367636008"
      ]
     },
     "execution_count": 223,
     "metadata": {},
     "output_type": "execute_result"
    }
   ],
   "source": [
    "approx_convergence_rate1(path_FR)"
   ]
  },
  {
   "cell_type": "code",
   "execution_count": 226,
   "id": "f9b6f42a",
   "metadata": {},
   "outputs": [
    {
     "data": {
      "image/png": "[encoded data removed]",
      "text/plain": [
       "<Figure size 432x288 with 1 Axes>"
      ]
     },
     "metadata": {
      "needs_background": "light"
     },
     "output_type": "display_data"
    },
    {
     "data": {
      "text/plain": [
       "6009.554105714768"
      ]
     },
     "execution_count": 226,
     "metadata": {},
     "output_type": "execute_result"
    }
   ],
   "source": [
    "approx_convergence_rate(path_FR, (1,1), numToAvg=5,showPlot=True)"
   ]
  },
  {
   "cell_type": "code",
   "execution_count": 227,
   "id": "c3ea6727",
   "metadata": {},
   "outputs": [],
   "source": [
    "x0=-1.2\n",
    "y0=1"
   ]
  },
  {
   "cell_type": "code",
   "execution_count": 228,
   "id": "a918ba91",
   "metadata": {},
   "outputs": [
    {
     "name": "stdout",
     "output_type": "stream",
     "text": [
      "After 18 iterations, approximate minimum is 4.6340944995991903e-20 at (0.999999999954214, 0.9999999999294623)\n"
     ]
    }
   ],
   "source": [
    "path_PR, i, x, y = nonlinear_exact_line_search_CG(x0, y0, f, Df, PR_beta, False,3)\n",
    "print(f'After {i} iterations, approximate minimum is {f(x,y)} at {x,y}')"
   ]
  },
  {
   "cell_type": "code",
   "execution_count": 229,
   "id": "059fd755",
   "metadata": {},
   "outputs": [
    {
     "name": "stdout",
     "output_type": "stream",
     "text": [
      "After 217 iterations, approximate minimum is 1.7028073158123337e-17 at (1.0000000041264765, 1.0000000082513254)\n"
     ]
    }
   ],
   "source": [
    "path_FR, i, x, y = nonlinear_exact_line_search_CG(x0, y0, f, Df, FR_beta, False,3)\n",
    "print(f'After {i} iterations, approximate minimum is {f(x,y)} at {x,y}')"
   ]
  },
  {
   "cell_type": "code",
   "execution_count": 230,
   "id": "6d26873a",
   "metadata": {},
   "outputs": [
    {
     "data": {
      "text/plain": [
       "0.30703079300148184"
      ]
     },
     "execution_count": 230,
     "metadata": {},
     "output_type": "execute_result"
    }
   ],
   "source": [
    "approx_convergence_rate1(path_PR)"
   ]
  },
  {
   "cell_type": "code",
   "execution_count": 231,
   "id": "e7816b30",
   "metadata": {},
   "outputs": [
    {
     "data": {
      "text/plain": [
       "3.0089644629520566e-05"
      ]
     },
     "execution_count": 231,
     "metadata": {},
     "output_type": "execute_result"
    }
   ],
   "source": [
    "linear_convergent_check(path_PR,(1,1))"
   ]
  },
  {
   "cell_type": "code",
   "execution_count": 232,
   "id": "98a77fbf",
   "metadata": {},
   "outputs": [
    {
     "data": {
      "image/png": "[encoded data removed]",
      "text/plain": [
       "<Figure size 432x288 with 1 Axes>"
      ]
     },
     "metadata": {
      "needs_background": "light"
     },
     "output_type": "display_data"
    },
    {
     "data": {
      "text/plain": [
       "-26.153980209299714"
      ]
     },
     "execution_count": 232,
     "metadata": {},
     "output_type": "execute_result"
    }
   ],
   "source": [
    "approx_convergence_rate(path_PR, (1,1), numToAvg=5,showPlot=True)"
   ]
  },
  {
   "cell_type": "code",
   "execution_count": 233,
   "id": "9cfcd819",
   "metadata": {},
   "outputs": [
    {
     "data": {
      "text/plain": [
       "0.6833668354302425"
      ]
     },
     "execution_count": 233,
     "metadata": {},
     "output_type": "execute_result"
    }
   ],
   "source": [
    "approx_convergence_rate1(path_FR)"
   ]
  },
  {
   "cell_type": "code",
   "execution_count": 234,
   "id": "8cf35e5e",
   "metadata": {},
   "outputs": [
    {
     "data": {
      "text/plain": [
       "0.9950671144094179"
      ]
     },
     "execution_count": 234,
     "metadata": {},
     "output_type": "execute_result"
    }
   ],
   "source": [
    "linear_convergent_check(path_FR,(1,1))"
   ]
  },
  {
   "cell_type": "code",
   "execution_count": 235,
   "id": "6c7ccd4d",
   "metadata": {},
   "outputs": [
    {
     "data": {
      "image/png": "[encoded data removed]",
      "text/plain": [
       "<Figure size 432x288 with 1 Axes>"
      ]
     },
     "metadata": {
      "needs_background": "light"
     },
     "output_type": "display_data"
    },
    {
     "data": {
      "text/plain": [
       "1.5235731292279164"
      ]
     },
     "execution_count": 235,
     "metadata": {},
     "output_type": "execute_result"
    }
   ],
   "source": [
    "approx_convergence_rate(path_FR, (1,1), numToAvg=5,showPlot=True)"
   ]
  },
  {
   "cell_type": "code",
   "execution_count": 236,
   "id": "e49b53f0",
   "metadata": {},
   "outputs": [
    {
     "name": "stdout",
     "output_type": "stream",
     "text": [
      "After 27 iterations, approximate minimum is 6.113486633150115e-25 at (0.9999999999999374, 0.9999999999999527)\n"
     ]
    }
   ],
   "source": [
    "path_PR, i, x, y = nonlinear_exact_line_search_CG(x0, y0, f, Df, PR_beta, True,3)\n",
    "print(f'After {i} iterations, approximate minimum is {f(x,y)} at {x,y}')"
   ]
  },
  {
   "cell_type": "code",
   "execution_count": 237,
   "id": "1f27dd4f",
   "metadata": {},
   "outputs": [
    {
     "name": "stdout",
     "output_type": "stream",
     "text": [
      "After 19 iterations, approximate minimum is 3.2868744030716063e-17 at (1.0000000057258882, 1.0000000114805772)\n"
     ]
    }
   ],
   "source": [
    "path_FR, i, x, y = nonlinear_exact_line_search_CG(x0, y0, f, Df, FR_beta, True,3)\n",
    "print(f'After {i} iterations, approximate minimum is {f(x,y)} at {x,y}')"
   ]
  },
  {
   "cell_type": "code",
   "execution_count": 238,
   "id": "88578434",
   "metadata": {},
   "outputs": [
    {
     "data": {
      "text/plain": [
       "-0.8560935802301486"
      ]
     },
     "execution_count": 238,
     "metadata": {},
     "output_type": "execute_result"
    }
   ],
   "source": [
    "approx_convergence_rate1(path_PR)"
   ]
  },
  {
   "cell_type": "code",
   "execution_count": 243,
   "id": "10b8f6e1",
   "metadata": {},
   "outputs": [
    {
     "data": {
      "image/png": "[encoded data removed]",
      "text/plain": [
       "<Figure size 432x288 with 1 Axes>"
      ]
     },
     "metadata": {
      "needs_background": "light"
     },
     "output_type": "display_data"
    },
    {
     "data": {
      "text/plain": [
       "2380.2612179304197"
      ]
     },
     "execution_count": 243,
     "metadata": {},
     "output_type": "execute_result"
    }
   ],
   "source": [
    "approx_convergence_rate(path_PR, (1,1), numToAvg=10,showPlot=True)"
   ]
  },
  {
   "cell_type": "code",
   "execution_count": 242,
   "id": "b19a1223",
   "metadata": {},
   "outputs": [
    {
     "data": {
      "text/plain": [
       "-46.827373803631566"
      ]
     },
     "execution_count": 242,
     "metadata": {},
     "output_type": "execute_result"
    }
   ],
   "source": [
    "approx_convergence_rate1(path_FR)"
   ]
  },
  {
   "cell_type": "code",
   "execution_count": 241,
   "id": "d8a6ef49",
   "metadata": {},
   "outputs": [
    {
     "data": {
      "image/png": "[encoded data removed]",
      "text/plain": [
       "<Figure size 432x288 with 1 Axes>"
      ]
     },
     "metadata": {
      "needs_background": "light"
     },
     "output_type": "display_data"
    },
    {
     "data": {
      "text/plain": [
       "192.17022332443955"
      ]
     },
     "execution_count": 241,
     "metadata": {},
     "output_type": "execute_result"
    }
   ],
   "source": [
    "approx_convergence_rate(path_FR, (1,1), numToAvg=5,showPlot=True)"
   ]
  },
  {
   "cell_type": "code",
   "execution_count": null,
   "id": "7c72aa85",
   "metadata": {},
   "outputs": [],
   "source": []
  }
 ],
 "metadata": {
  "kernelspec": {
   "display_name": "Python 3",
   "language": "python",
   "name": "python3"
  },
  "language_info": {
   "codemirror_mode": {
    "name": "ipython",
    "version": 3
   },
   "file_extension": ".py",
   "mimetype": "text/x-python",
   "name": "python",
   "nbconvert_exporter": "python",
   "pygments_lexer": "ipython3",
   "version": "3.6.13"
  }
 },
 "nbformat": 4,
 "nbformat_minor": 5
}
