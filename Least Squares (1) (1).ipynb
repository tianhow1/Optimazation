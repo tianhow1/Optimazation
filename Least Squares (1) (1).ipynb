{
 "cells": [
  {
   "cell_type": "markdown",
   "metadata": {},
   "source": [
    "# Least Squares Overview"
   ]
  },
  {
   "cell_type": "markdown",
   "metadata": {},
   "source": [
    "## What is a least squares problem?\n",
    "\n",
    "Given a data points $(t_j, y_j)$, fit a model $\\phi(x;t_j)$ to match the data points as closely as possible.\n",
    "\n",
    "![Least Squares Regression](https://i.imgur.com/pfWN159.png)\n",
    "\n",
    "* Objective function $f$ has the form\n",
    "\n",
    "\n",
    "$$ f(x) = \\sum_{j=1}^m r_j^2(x)$$\n",
    "\n",
    "also written as \n",
    "\n",
    "$$ f(x) = \\sum_{j=1}^m (\\overline{y}_j - y_j)^2$$\n",
    "\n",
    "Where $r_j$ is the **residual**: the difference between the predicted $(\\overline{y}_j)$ and actual value $y_j$, and $x$ is the parameters for the model.\n",
    "\n",
    "Your goal is to fit a function $f$ to a set of points.\n",
    "\n",
    "A common example is **least squares regression**, in which $\\overline{y}_j = \\phi(x;t_j) = x_1 + t_j x_2$: your model is a line, the arguments are the slope and intercept of the line.\n",
    "\n",
    "![Error](https://i.imgur.com/m2GQldd.png)"
   ]
  },
  {
   "cell_type": "markdown",
   "metadata": {},
   "source": [
    "## Linear Least Squares Problems\n",
    "\n",
    "* Many models in data-fitting problems are linear functions of $x$. In this case, the objective function $f$ has the form\n",
    "\n",
    "$$ f(x) = \\frac{1}{2} \\| Ax - b\\|^2$$\n",
    "\n",
    "$ \\nabla f(x) = A^T (A x - b)$, $\\nabla^2 f(x) = A^T A$.\n",
    "\n",
    "$A$ is $m \\times n$ matrix, where $m$ is the number of data points, and $n$ is the dimension of x.\n",
    "\n",
    "$x$ is $n \\times 1$, and $b$ is $m \\times 1$: a list of the actual data points.\n",
    "\n",
    "### Minimizing $f$\n",
    "\n",
    "* Just set $\\nabla f(x) = 0$: so\n",
    "$$\n",
    "\\begin{align}\n",
    "0 &= A^T A x - A^T b \\\\\n",
    "A^T A x &= A^T b \\\\\n",
    "x &= (A^T A)^{-1} A^T b\n",
    "\\end{align}\n",
    "$$\n",
    "\n",
    "The **normal equations** are\n",
    "$$ A^T A x = A^T b$$\n",
    "\n",
    "If $x^*$ is a minimizer for $f(x)$, it satisfies the normal equations.\n",
    "\n",
    "If $b$ is in the range of $A$, then $Ax = b$, and $f(x) = 0$. If $b$ isn't in the range of $A$ (this is usually the case), then the system is **overdetermined**: it has more equations than unknowns, so it has no solution. In this case, $x^*$, the solution to the normal equation, minimizes the distance from the range to $b$.\n",
    "\n",
    "\n",
    "![title](https://i.imgur.com/v2zQXnJ.png)\n",
    "\n",
    "### 2-D case:\n",
    "\n",
    "We're usually working in 2D, so basically: $A$ is an $m \\times 2$ matrix, $x$ is a $2 \\times 1$ vector representing the intercept and slope of the line, and $b$ is an $m \\times 1$ vector, where $m$ is the number of data points."
   ]
  },
  {
   "cell_type": "markdown",
   "metadata": {},
   "source": [
    "#### Note on the notation:\n",
    "\n",
    "Oftentimes with data we'll label input data as $X$ and the output as $y$. Here I think it's still customary to do that but if we're minimizing $Ax = b$ it's important to understand that $x$ here is not the data, but rather the coefficients of the line fitting to the data; the data is contained in the matrix $A$. So $t$ will represent the x-axis here, $y$ will represent the y-axis."
   ]
  },
  {
   "cell_type": "markdown",
   "metadata": {},
   "source": [
    "Example Problem:\n",
    "\n",
    "Using the same data as in the notes:\n",
    "$$ Y = 4 + 3 t + \\text{Gaussian noise}$$"
   ]
  },
  {
   "cell_type": "code",
   "execution_count": 1,
   "metadata": {},
   "outputs": [
    {
     "data": {
      "text/plain": [
       "<Figure size 640x480 with 1 Axes>"
      ]
     },
     "metadata": {},
     "output_type": "display_data"
    }
   ],
   "source": [
    "import numpy as np\n",
    "import matplotlib as mpl\n",
    "import matplotlib.pyplot as plt\n",
    "t=2*np.random.rand(100,1) # unif. distributed on [0,2]\n",
    "y=4+3*t+np.random.randn(100,1)\n",
    "plt.plot(t, y, \"b.\")\n",
    "plt.xlabel(\"time\", fontsize=18)\n",
    "plt.ylabel(\"sales\", fontsize=18)\n",
    "plt.axis([0, 2, 0, 15])\n",
    "plt.show()\n"
   ]
  },
  {
   "cell_type": "markdown",
   "metadata": {},
   "source": [
    "In the context of a least squares problem:\n",
    "\n",
    "$b$ is just a 100 x 1 vector containing the data points $y$.\n",
    "\n",
    "What is $Ax$? It's a 100 x 1 vector containing the predictions for each point $t_j$.\n",
    "\n",
    "Ax = $\\begin{bmatrix}\n",
    "x_1 + a_{12} x_2 \\\\\n",
    "x_1 + a_{22} x_2 \\\\\n",
    "x_1 + a_{32} x_2 \\\\\n",
    "\\vdots\n",
    "\\end{bmatrix}$\n",
    "\n",
    "**What is A?**\n",
    "\n",
    "$\n",
    "\\begin{bmatrix}\n",
    "1 & a_{12}\\\\\n",
    "1 & a_{22}\\\\\n",
    "1 & a_{32} \\\\\n",
    "\\vdots\n",
    "\\end{bmatrix}\n",
    "$\n",
    "where $a_{12},a_{22},a_{32}... = t_1,t_2,t_3...$"
   ]
  },
  {
   "cell_type": "markdown",
   "metadata": {},
   "source": [
    "Using the method of least squares:"
   ]
  },
  {
   "cell_type": "code",
   "execution_count": 2,
   "metadata": {},
   "outputs": [
    {
     "data": {
      "text/plain": [
       "array([[4.0934674 ],\n",
       "       [2.90229548]])"
      ]
     },
     "execution_count": 2,
     "metadata": {},
     "output_type": "execute_result"
    }
   ],
   "source": [
    "A = np.c_[np.ones((100, 1)), t]\n",
    " # add x0 = 1 to each instance\n",
    "x_best = np.linalg.inv(A.T.dot(A)).dot(A.T).dot(y)\n",
    "# solve normal equation\n",
    "x_best"
   ]
  },
  {
   "cell_type": "markdown",
   "metadata": {},
   "source": [
    "**How do we predict a new point?**\n",
    "\n",
    "Say you want to predict the value at $t = 0$. Then compute\n",
    "$\\begin{bmatrix}\n",
    "1 & 0\n",
    "\\end{bmatrix} x.\n",
    "$\n",
    "\n"
   ]
  },
  {
   "cell_type": "code",
   "execution_count": 3,
   "metadata": {
    "scrolled": true
   },
   "outputs": [
    {
     "data": {
      "text/plain": [
       "array([[4.0934674 ],\n",
       "       [9.89805836]])"
      ]
     },
     "execution_count": 3,
     "metadata": {},
     "output_type": "execute_result"
    }
   ],
   "source": [
    "\n",
    "t_new = np.array([[0], [2]])\n",
    "t_new_b = np.c_[np.ones((2, 1)), t_new] # add x0 = 1 to each instance\n",
    "y_predict = t_new_b.dot(x_best)\n",
    "y_predict"
   ]
  },
  {
   "cell_type": "markdown",
   "metadata": {},
   "source": [
    "**How do we plot the linear prediction?**"
   ]
  },
  {
   "cell_type": "code",
   "execution_count": 4,
   "metadata": {
    "scrolled": true
   },
   "outputs": [
    {
     "data": {
      "image/png": "[encoded data removed]",
      "text/plain": [
       "<Figure size 432x288 with 1 Axes>"
      ]
     },
     "metadata": {
      "needs_background": "light"
     },
     "output_type": "display_data"
    }
   ],
   "source": [
    "plt.plot(t_new, y_predict, \"r-\") # plot a line connecting (0, 3.8) and (2, 10.2). The \"-\" setting turns this into a line plot\n",
    "plt.plot(t, y, \"b.\") # plot the data points\n",
    "plt.axis([0, 2, 0, 15])\n",
    "plt.show()"
   ]
  },
  {
   "cell_type": "markdown",
   "metadata": {},
   "source": [
    "## Alternative: Scikit-learn LinearRegression"
   ]
  },
  {
   "cell_type": "code",
   "execution_count": 5,
   "metadata": {},
   "outputs": [
    {
     "data": {
      "text/plain": [
       "(array([4.0934674]), array([[2.90229548]]))"
      ]
     },
     "execution_count": 5,
     "metadata": {},
     "output_type": "execute_result"
    }
   ],
   "source": [
    "from sklearn.linear_model import LinearRegression\n",
    "lin_reg = LinearRegression()\n",
    "lin_reg.fit(t, y) \n",
    "lin_reg.intercept_, lin_reg.coef_\n"
   ]
  },
  {
   "cell_type": "code",
   "execution_count": 6,
   "metadata": {},
   "outputs": [
    {
     "data": {
      "image/png": "[encoded data removed]",
      "text/plain": [
       "<Figure size 432x288 with 1 Axes>"
      ]
     },
     "metadata": {
      "needs_background": "light"
     },
     "output_type": "display_data"
    }
   ],
   "source": [
    "plt.plot(t_new, y_predict, \"r-\") # plot a line connecting (0, 3.8) and (2, 10.2). The \"-\" setting turns this into a line plot\n",
    "plt.plot(t, lin_reg.intercept_ + lin_reg.coef_ * t, \"g\") # plot a line connecting (0, 3.8) and (2, 10.2). The \"-\" setting turns this into a line plot\n",
    "#plt.plot(t, y, \"b.\") # plot the data points\n",
    "plt.axis([0, 2, 0, 15])\n",
    "plt.show()"
   ]
  },
  {
   "cell_type": "markdown",
   "metadata": {},
   "source": [
    "#### Two ways to plot a line:\n",
    "\n",
    "Option 1. Build an array with $[(t_0,y_0), (t_1, y_1)]$ and plot with the x-axis vector being $(t_0, t_1)$ and the y-axis vector being the array.\n",
    "\n",
    "Option 2: Run plot with $t, x_1 + x_0 * t$."
   ]
  },
  {
   "cell_type": "markdown",
   "metadata": {},
   "source": [
    "### Gradient Descent\n",
    "\n",
    "Find the minimizer of $f(x) = \\|A x - b\\|^2$ using Gradient Descent:\n",
    "\n",
    "$\\nabla f = A^T (A x - b)$\n"
   ]
  },
  {
   "cell_type": "code",
   "execution_count": 7,
   "metadata": {},
   "outputs": [
    {
     "name": "stdout",
     "output_type": "stream",
     "text": [
      "Found the minimizer at [[4.0934674 ]\n",
      " [2.90229549]] with 607 iterations successfully, gradient's norm is 9.878272629724366e-08.\n"
     ]
    }
   ],
   "source": [
    "\"\"\"\n",
    "@description: fixed step length steepest decent method\n",
    "@parameters :\n",
    " @objFunc : objective function\n",
    " @gradObjFunc: gradient of objective function\n",
    " @alpha : the fixed step length, a.k.a. learning rate\n",
    " @x0 : starting point\n",
    " @tol : tolerace for stopping criteria\n",
    " @maxIter : maximum iteration for stopping criteria\n",
    "\"\"\"\n",
    "def fixed_step_steepest_descent_method(gradObjFunc, alpha, x0, tol,\n",
    "maxIter):\n",
    "  path = [x0]\n",
    "  k = 0\n",
    "  xk = x0\n",
    "  pk = -gradObjFunc(x0)\n",
    "  while np.linalg.norm(pk) > tol and k <= maxIter:\n",
    "    xk = xk + alpha * pk # alpha is fixed: alpha = 0.01\n",
    "    pk = -gradObjFunc(xk)\n",
    "    k = k + 1\n",
    "    path.append(xk)\n",
    "\n",
    "  path = np.array(path) # convert to array\n",
    "\n",
    "  if np.linalg.norm(pk) <= tol:\n",
    "     print(\"Found the minimizer at {x} with {iter} iterations successfully, \\\n",
    "gradient's norm is {nrm}.\".format(x=xk,iter=k,nrm=np.linalg.norm(pk)))\n",
    "  else:\n",
    "     print(\"Unable to locate minimizer within maximum iterations, last \\\n",
    "position is at {x}, gradient's norm is {nrm}\".format(x=xk,nrm=np.linalg.norm(pk)))\n",
    "\n",
    "  return xk, k, path\n",
    "\n",
    "f = lambda theta: np.linalg.norm(A @ theta - y)**2\n",
    "Df = lambda theta: A.T.dot(A.dot(theta) - y)\n",
    "D2f = lambda theta: A.T.dot(A)\n",
    "x0 = np.random.randn(2,1)\n",
    "coeffs, k, path = fixed_step_steepest_descent_method(Df, 0.002, x0, 1e-7, 10000)"
   ]
  },
  {
   "cell_type": "code",
   "execution_count": 8,
   "metadata": {
    "scrolled": true
   },
   "outputs": [
    {
     "data": {
      "image/png": "[encoded data removed]",
      "text/plain": [
       "<Figure size 432x288 with 1 Axes>"
      ]
     },
     "metadata": {
      "needs_background": "light"
     },
     "output_type": "display_data"
    }
   ],
   "source": [
    "#plt.plot(t_new, y_predict, \"r-\") # plot a line connecting (0, 3.8) and (2, 10.2). The \"-\" setting turns this into a line plot\n",
    "plt.plot(t, coeffs[0]+ coeffs[1] * t, \"g\") # plot a line connecting (0, 3.8) and (2, 10.2). The \"-\" setting turns this into a line plot\n",
    "plt.plot(t, y, \"b.\") # plot the data points\n",
    "plt.axis([0, 2, 0, 15])\n",
    "plt.show()"
   ]
  },
  {
   "cell_type": "markdown",
   "metadata": {},
   "source": [
    "Newton's Method"
   ]
  },
  {
   "cell_type": "code",
   "execution_count": 9,
   "metadata": {
    "scrolled": false
   },
   "outputs": [
    {
     "name": "stdout",
     "output_type": "stream",
     "text": [
      "Initial x=[[0.8484677 ]\n",
      " [1.64511937]]\n",
      "After 1 iterations, approximate minimum is 115.4441148313218 at [[4.0934674 ]\n",
      " [2.90229548]]\n"
     ]
    }
   ],
   "source": [
    "x = np.random.randn(2,1)  # initial point\n",
    "path = [x]\n",
    "print(f'Initial x={x}')\n",
    "alpha = 1             # step size is 1 in Newton's method\n",
    "tol = 1e-8            # stop when gradient is smaller than this amount\n",
    "max_steps = 1000      # Maximum number of steps to run the iteration\n",
    "i=0                   # iteration count\n",
    "dx = Df(x)            # current gradient\n",
    "while np.linalg.norm(dx)>tol and i<max_steps:\n",
    "    pk = np.linalg.solve(D2f(x),dx)  # faster to solve a system than manually invert: \n",
    "    xnew = x - pk\n",
    "    path.append(xnew)\n",
    "    x = xnew\n",
    "    dx = Df(x)\n",
    "    i += 1\n",
    "\n",
    "path=np.array(path)\n",
    "print(f'After {i} iterations, approximate minimum is {f(x)} at {x}')"
   ]
  },
  {
   "cell_type": "markdown",
   "metadata": {},
   "source": [
    "## 3D Least Squares\n",
    "\n",
    "We probably wouldn't have to work with 3D, but this is just to illustrate how things work in higher dimensions:\n",
    "\n",
    "In 3D, the linear prediction is a line in 3D space:\n",
    "\n",
    "$\\overline{y} = x_1 + t_1 x_2 + t_2 x_3$"
   ]
  },
  {
   "cell_type": "markdown",
   "metadata": {},
   "source": [
    "## Summary and Important Facts about Least Squares and Gradient Descent\n",
    "\n",
    "A linear least squares problem is of the form\n",
    "\n",
    "$$ f(x) = \\frac{1}{2} \\|Ax - b\\|^2$$\n",
    "\n",
    "(the 1/2 is not important)\n",
    "\n",
    "* Minimizing $f(x)$ amounts to solving $x^* = (A^T A)^{-1} A^T b$. This requires **matrix inversion**, which is a very costly procedure if the dimension of x, $n$, is large  (it takes $O(N^3)$ flops to perform matrix inverses, or $O(N^2)$ if you're using scikit-learn ).\n",
    "\n",
    "* Method is linear in $m$, the number of data points, so it can handle very large datasets easily.\n",
    "\n",
    "* Inference is instant once parameters are learned; you simply need to compute $Ax$ for an input matrix $A$.\n",
    "\n",
    "### Gradient Descent\n",
    "\n",
    "You can use gradient descent to fit a (linear) model to the data.\n",
    "\n",
    "**Pros**:\n",
    "\n",
    "* Doesn't require matrix inversion!\n",
    "\n",
    "**Cons**:\n",
    "\n",
    "* The step size majorly impacts the speed of convergence, so a correct step size must be found.\n",
    "\n",
    "* Handles poorly for very large data sizes."
   ]
  },
  {
   "cell_type": "markdown",
   "metadata": {},
   "source": [
    "Consider $A$ an $m \\times n$ array: If you perform gradient descent, the steps can take a very long time if you're calculating the gradient on the entire array."
   ]
  },
  {
   "cell_type": "code",
   "execution_count": 24,
   "metadata": {},
   "outputs": [
    {
     "name": "stdout",
     "output_type": "stream",
     "text": [
      "0.07700419425964355\n"
     ]
    }
   ],
   "source": [
    "import time\n",
    "m = 100000\n",
    "n = 1000\n",
    "A2 = np.random.rand(m, n)\n",
    "b = np.random.rand(m, 1)\n",
    "theta = np.random.rand(n, 1)"
   ]
  },
  {
   "cell_type": "code",
   "execution_count": 25,
   "metadata": {},
   "outputs": [
    {
     "name": "stdout",
     "output_type": "stream",
     "text": [
      "0.07098841667175293\n"
     ]
    }
   ],
   "source": [
    "start = time.time()\n",
    "A2.T.dot(A2.dot(theta) - b)\n",
    "end = time.time() - start\n",
    "print(end)"
   ]
  }
 ],
 "metadata": {
  "kernelspec": {
   "display_name": "Python 3",
   "language": "python",
   "name": "python3"
  },
  "language_info": {
   "codemirror_mode": {
    "name": "ipython",
    "version": 3
   },
   "file_extension": ".py",
   "mimetype": "text/x-python",
   "name": "python",
   "nbconvert_exporter": "python",
   "pygments_lexer": "ipython3",
   "version": "3.6.13"
  }
 },
 "nbformat": 4,
 "nbformat_minor": 2
}
