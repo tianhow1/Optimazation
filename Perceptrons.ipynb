{
 "cells": [
  {
   "cell_type": "markdown",
   "metadata": {},
   "source": [
    "\n",
    "## Backpropagation\n",
    "\n",
    "**The goal**: Find the weights $\\mathbf{w}$ so to minimize the loss function.\n",
    "\n",
    "**How to find these weights?** At every step of training, we can propagate forward to calculate the output of the neural network, then use gradient descent to update the weights.\n",
    "\n",
    "### Example: 3 Layer Network\n",
    "\n",
    "![nn](https://i.imgur.com/xHDm17g.png)\n",
    "\n",
    "Consider $E(\\mathbf{w}) = \\frac{1}{2} \\sum_{s=1}^m (y_{ds} - y_s)^2$\n",
    "\n",
    "Where $y_{ds}$ is the desired output, and $y_s$ is the output of the model, with $1 \\le s \\le m$ ($m$ number of outputs). You can expand $y_s$. In a 3-layer neural network:\n",
    "\n",
    "$$ E(\\mathbf{w}) = \\sum_{p=1}^m \\left( y_{dp} - f_p^o \\left( \\sum_{q=1}^l w_{pq}^o z_q\\right)\\right)^2$$\n",
    "\n",
    "where $z_q = f_q^h\\left(\\sum_{i=1}^n w_{qi}^h x_{di}\\right)$\n",
    "\n",
    "With **backpropagation**, we can compute $\\frac{\\partial E}{\\partial w}$ for each $w$ in the network.\n",
    "\n",
    "**Step 1**: Compute $\\frac{\\partial E}{\\partial w_{kj}^o}$ for each pair $j,k$. This can be explicitly computed as\n",
    "\n",
    "$\\frac{\\partial E}{\\partial w_{kj}^o} = -(y_{ds}-  y_s) f_s^{o'}(\\sum_{q=1}^l w_{sq}^o z_{q})z_j$, where\n",
    "\n",
    "$\\delta_s = (y_{ds} - y_s) f_s^{o'}(\\sum_{q=1}^l w_{sq}^o z_q)$, so\n",
    "    \n",
    "$\\frac{\\partial E}{\\partial w_{kj}^o} = \\delta_s z_j$,   \n",
    "\n",
    "The point being: After updating your outputs, you can update the gradients of each of the weights directed towards the output layer.\n",
    "\n",
    "**Step 2**: Compute $\\frac{\\partial E}{\\partial w_{kj}^h}$ for each pair $j,k$. This gradient relies on the weights in the output layer.\n",
    "\n",
    "$$\\frac{\\partial E}{\\partial w_{kj}^h} = - (\\sum_{p=1}^m \\delta_p w_{pj}^o f_j^{h'}(v_j))x_{di} $$\n",
    "\n",
    "If there were more layers, you would apply the same formula to the weights on the previous layer.\n",
    "\n",
    "\n",
    "### The short version\n",
    "\n",
    "**Step 1**: Perform the **forward propagation**: Given inputs $\\mathbf{x_1},\\dots \\mathbf{x_m}$, compute the outputs $y_1$, $y_2, \\dots$.\n",
    "\n",
    "**Step 1**: Compute $\\delta_s$, which relies on the outputs of the model, use this to compute gradients for weights on the last layer.\n",
    "\n",
    "**Step 2**: Compute gradients for weights on the second-to-last layer, which relies on computations of $\\delta_s$ from the last layer.\n",
    "\n",
    "If there is more than one hidden layer:\n",
    "\n",
    "**Step 3**: Compute gradients for weights on the next layer, which relies on values calculated from the second-to-last layer.\n",
    "\n",
    "**Step 4**: After all that's done, perform gradient descent on the weights:\n",
    "\n",
    "$$ w_{kj}^{h(k+1)} = w_{kj}^{h(k)} - \\eta \\frac{\\partial E}{\\partial w_{kj}^h}$$"
   ]
  },
  {
   "cell_type": "markdown",
   "metadata": {},
   "source": [
    "# Example: Perceptron"
   ]
  },
  {
   "cell_type": "markdown",
   "metadata": {},
   "source": [
    "A **perceptron** is a binary classifier which will categorize the input data as $0$ or 1.\n",
    "\n",
    "Mechanically, it's a neural network with an **input layer** and an **output layer**, with a step function as the activation function.\n",
    "![Perceptron](https://i.imgur.com/RHfrnA1.png)\n",
    "\n",
    "## Goal with this Problem:\n",
    "\n",
    "We have a dataset of flowers which we want to classify as iris or not. The combination of flower petal length and width are highly correlated with whether a flower is an iris, so we can use a perceptron to train a model which can categorize these flowers appropriately.\n",
    "\n",
    "![model](https://i.imgur.com/uzW9O3A.png)\n",
    "\n",
    "As a neural network: This is a neural network with 2 neurons in the input layer and 1 neuron in the output layer."
   ]
  },
  {
   "cell_type": "code",
   "execution_count": 7,
   "metadata": {},
   "outputs": [],
   "source": [
    "# Common imports\n",
    "import numpy as np\n",
    "import os\n",
    "# to make this notebook's output stable across runs\n",
    "# def reset_graph(seed=42):\n",
    "#     tf.reset_default_graph()\n",
    "#     tf.set_random_seed(seed)\n",
    "#     np.random.seed(seed)\n",
    "# To plot figures\n",
    "%matplotlib inline\n",
    "import matplotlib\n",
    "import matplotlib.pyplot as plt"
   ]
  },
  {
   "cell_type": "markdown",
   "metadata": {},
   "source": [
    "# Training"
   ]
  },
  {
   "cell_type": "markdown",
   "metadata": {},
   "source": [
    "To train the data:\n",
    "```python\n",
    "per_clf = Perceptron(max_iter=100, tol=-np.infty, random_state=42)\n",
    "per_clf.fit(X, y)\n",
    "```\n",
    "To predict on new data:\n",
    "```python\n",
    "y_pred = per_clf.predict(Xnew)\n",
    "```\n",
    "For a model with 2 inputs, perceptron is $y = f(w_0 + w_1 x_1 + w_2 x_2)$, where $f$ is the step function:\n",
    "\n",
    "If $w_0 + w_1 x_1 + w_2 x_2 \\ge 0$, then $y = 1$.\n",
    "\n",
    "If $w_0 + w_1 x_1 + w_2 x_2 < 0$ then $y = 0$.\n",
    "\n",
    "So the perceptron divides the region of predicted iris vs non-predicted iris with a line: $x_2 = - \\frac{w_1}{w_2}x_1 - \\frac{w_0}{w_2}$\n",
    "\n",
    "The perceptron stores $w_0$ in the perceptron object's ```intercept_``` property, and it stores $w_1, w_2$ in ```coef_```.\n"
   ]
  },
  {
   "cell_type": "code",
   "execution_count": 2,
   "metadata": {},
   "outputs": [
    {
     "data": {
      "text/plain": [
       "Perceptron(alpha=0.0001, class_weight=None, early_stopping=False, eta0=1.0,\n",
       "           fit_intercept=True, max_iter=100, n_iter_no_change=5, n_jobs=None,\n",
       "           penalty=None, random_state=42, shuffle=True, tol=-inf,\n",
       "           validation_fraction=0.1, verbose=0, warm_start=False)"
      ]
     },
     "execution_count": 2,
     "metadata": {},
     "output_type": "execute_result"
    }
   ],
   "source": [
    "import numpy as np\n",
    "from sklearn.datasets import load_iris\n",
    "from sklearn.linear_model import Perceptron\n",
    "iris = load_iris() # default dataset\n",
    "X = iris.data[:, (2, 3)] # petal length, petal width\n",
    "y = (iris.target == 0).astype(np.int)\n",
    "per_clf = Perceptron(max_iter=100, tol=-np.infty, random_state=42)\n",
    "per_clf.fit(X, y)\n"
   ]
  },
  {
   "cell_type": "code",
   "execution_count": 4,
   "metadata": {},
   "outputs": [
    {
     "data": {
      "text/plain": [
       "array([[5.1, 3.5, 1.4, 0.2],\n",
       "       [4.9, 3. , 1.4, 0.2],\n",
       "       [4.7, 3.2, 1.3, 0.2],\n",
       "       [4.6, 3.1, 1.5, 0.2]])"
      ]
     },
     "execution_count": 4,
     "metadata": {},
     "output_type": "execute_result"
    }
   ],
   "source": [
    "iris.data[0:4]"
   ]
  },
  {
   "cell_type": "markdown",
   "metadata": {},
   "source": [
    "Each of the columns of iris represents a feature of the plant. If you just use petal length and petal width as the input features, then we'll be able to plot it."
   ]
  },
  {
   "cell_type": "markdown",
   "metadata": {},
   "source": [
    "# Prediction"
   ]
  },
  {
   "cell_type": "code",
   "execution_count": 3,
   "metadata": {},
   "outputs": [
    {
     "name": "stdout",
     "output_type": "stream",
     "text": [
      "[1]\n"
     ]
    }
   ],
   "source": [
    "y_pred = per_clf.predict([[2, 0.5]])\n",
    "print(y_pred)"
   ]
  },
  {
   "cell_type": "code",
   "execution_count": 4,
   "metadata": {
    "scrolled": true
   },
   "outputs": [
    {
     "name": "stdout",
     "output_type": "stream",
     "text": [
      "w_0: [4.]\n",
      "w_1: -1.4, w_2: -2.2\n"
     ]
    }
   ],
   "source": [
    "print(\"w_0: {}\".format(per_clf.intercept_))\n",
    "print(\"w_1: {}, w_2: {}\".format(per_clf.coef_[0][0], per_clf.coef_[0][1]))"
   ]
  },
  {
   "cell_type": "code",
   "execution_count": 29,
   "metadata": {},
   "outputs": [
    {
     "data": {
      "text/plain": [
       "[array([1.81818182]), array([-1.36363636])]"
      ]
     },
     "execution_count": 29,
     "metadata": {},
     "output_type": "execute_result"
    }
   ],
   "source": [
    "[a * axes[0] + b, a * axes[1] + b]"
   ]
  },
  {
   "cell_type": "code",
   "execution_count": 30,
   "metadata": {
    "scrolled": true
   },
   "outputs": [
    {
     "data": {
      "image/png": "[encoded data removed]",
      "text/plain": [
       "<Figure size 720x288 with 1 Axes>"
      ]
     },
     "metadata": {
      "needs_background": "light"
     },
     "output_type": "display_data"
    }
   ],
   "source": [
    "a = -per_clf.coef_[0][0] / per_clf.coef_[0][1] # -w1 / w2, slope\n",
    "b = -per_clf.intercept_ / per_clf.coef_[0][1] # -w0/w2, y-intercept\n",
    "axes = [0, 5, 0, 2]\n",
    "x0, x1 = np.meshgrid(\n",
    " np.linspace(axes[0], axes[1], 500).reshape(-1, 1),\n",
    " np.linspace(axes[2], axes[3], 200).reshape(-1, 1),\n",
    " )\n",
    "X_new = np.c_[x0.ravel(), x1.ravel()]\n",
    "y_predict = per_clf.predict(X_new)\n",
    "zz = y_predict.reshape(x0.shape)\n",
    "plt.figure(figsize=(10, 4))\n",
    "plt.plot(X[y==0, 0], X[y==0, 1], \"bs\", label=\"Not Iris-Setosa\")\n",
    "plt.plot(X[y==1, 0], X[y==1, 1], \"yo\", label=\"Iris-Setosa\")\n",
    "# This plots a line from $(0,-w1/w2 * 0 - w0/w2) to (5, -w1/w2 * 5 - w0/w2)\n",
    "plt.plot([axes[0], axes[1]], [a * axes[0] + b, a * axes[1] + b], \"k-\",\n",
    "linewidth=3)\n",
    "from matplotlib.colors import ListedColormap\n",
    "custom_cmap = ListedColormap(['#9898ff', '#fafab0']) # yellow and blue\n",
    "plt.contourf(x0, x1, zz, cmap=custom_cmap)\n",
    "plt.xlabel(\"Petal length\", fontsize=14)\n",
    "plt.ylabel(\"Petal width\", fontsize=14)\n",
    "plt.legend(loc=\"lower right\", fontsize=14)\n",
    "plt.axis(axes)\n",
    "plt.show()"
   ]
  },
  {
   "cell_type": "markdown",
   "metadata": {},
   "source": [
    "### Explaining the Code"
   ]
  },
  {
   "cell_type": "markdown",
   "metadata": {},
   "source": [
    "We initialize the meshgrid: Here $x$ ranges from $0$ to $5$, and $y$ ranges from 0 to 2. This will result in a $200 \\times 500 meshgrid$, where $x0$ is a $200 \\times 500$ matrix containing the x-values of each point,\n",
    "\n",
    "$x1$ is a $200 \\times 500$ matrix containing the y-values of each point."
   ]
  },
  {
   "cell_type": "code",
   "execution_count": 23,
   "metadata": {},
   "outputs": [
    {
     "name": "stdout",
     "output_type": "stream",
     "text": [
      "x0: [[0.   1.25 2.5  3.75 5.  ]\n",
      " [0.   1.25 2.5  3.75 5.  ]]\n",
      "x1: [[0. 0. 0. 0. 0.]\n",
      " [2. 2. 2. 2. 2.]]\n",
      "Xnew: [[0.   0.  ]\n",
      " [1.25 0.  ]\n",
      " [2.5  0.  ]\n",
      " [3.75 0.  ]\n",
      " [5.   0.  ]\n",
      " [0.   2.  ]\n",
      " [1.25 2.  ]\n",
      " [2.5  2.  ]\n",
      " [3.75 2.  ]\n",
      " [5.   2.  ]]\n",
      "Predictions: [1 1 1 0 0 0 0 0 0 0]\n"
     ]
    }
   ],
   "source": [
    "axes = [0, 5, 0, 2]\n",
    "x0_, x1_ = np.meshgrid(\n",
    " np.linspace(axes[0], axes[1], 5).reshape(-1, 1),\n",
    " np.linspace(axes[2], axes[3], 2).reshape(-1, 1),\n",
    " )\n",
    "print(\"x0: {}\".format(x0_))\n",
    "print(\"x1: {}\".format(x1_))\n",
    "X_new1 = np.c_[x0_.ravel(), x1_.ravel()] # X_new1 forms the list of all the points to plot\n",
    "print(\"Xnew: {}\".format(X_new1))\n",
    "y_predict1 = per_clf.predict(X_new1)\n",
    "print(\"Predictions: {}\".format(y_predict1))"
   ]
  },
  {
   "cell_type": "markdown",
   "metadata": {},
   "source": [
    "## Plotting"
   ]
  },
  {
   "cell_type": "markdown",
   "metadata": {},
   "source": [
    "The perceptron generates a line which splits the data between iris and non-iris predictions. We have the formula of the line, so we can plot it like so:"
   ]
  },
  {
   "cell_type": "code",
   "execution_count": 31,
   "metadata": {},
   "outputs": [
    {
     "name": "stdout",
     "output_type": "stream",
     "text": [
      "[0, 5]\n",
      "[array([1.81818182]), array([-1.36363636])]\n"
     ]
    }
   ],
   "source": [
    "print([axes[0], axes[1]])\n",
    "print([a * axes[0] + b, a * axes[1] + b])"
   ]
  },
  {
   "cell_type": "markdown",
   "metadata": {},
   "source": [
    "## Indexing\n",
    "We're given which flowers are iris, and which ones aren't. To label them appropriately, we can index the points."
   ]
  },
  {
   "cell_type": "code",
   "execution_count": 5,
   "metadata": {},
   "outputs": [
    {
     "name": "stdout",
     "output_type": "stream",
     "text": [
      "[[1.4 0.2]\n",
      " [1.4 0.2]\n",
      " [1.3 0.2]\n",
      " [1.5 0.2]]\n",
      "[1 1 1 1]\n"
     ]
    }
   ],
   "source": [
    "print(X[0:4])\n",
    "print(y[0:4])"
   ]
  },
  {
   "cell_type": "markdown",
   "metadata": {},
   "source": [
    "```X[y==0]``` returns the data points for which $y = 0$.\n",
    "```X[y==0,0]``` returns the first element of each of these points.\n",
    "```\n",
    "plt.plot(X[y==0, 0], X[y==0, 1], \"bs\", label=\"Not Iris-Setosa\")\n",
    "```\n",
    "plots the not iris-setosa points as blue points."
   ]
  },
  {
   "cell_type": "code",
   "execution_count": 6,
   "metadata": {},
   "outputs": [
    {
     "name": "stdout",
     "output_type": "stream",
     "text": [
      "The data points which aren't iris: [[4.7 1.4]\n",
      " [4.5 1.5]\n",
      " [4.9 1.5]\n",
      " [4.  1.3]]\n",
      "The petal lengths which aren't iris: [4.7 4.5 4.9 4. ]\n"
     ]
    }
   ],
   "source": [
    "print(\"The data points which aren't iris: {}\".format(X[y==0][0:4]))\n",
    "print(\"The petal lengths which aren't iris: {}\".format(X[y==0,0][0:4]))"
   ]
  },
  {
   "cell_type": "code",
   "execution_count": null,
   "metadata": {},
   "outputs": [],
   "source": [
    "plt.plot([axes[0], axes[1]], [a * axes[0] + b, a * axes[1] + b], \"k-\",\n",
    "linewidth=3)"
   ]
  }
 ],
 "metadata": {
  "kernelspec": {
   "display_name": "Python 3",
   "language": "python",
   "name": "python3"
  },
  "language_info": {
   "codemirror_mode": {
    "name": "ipython",
    "version": 3
   },
   "file_extension": ".py",
   "mimetype": "text/x-python",
   "name": "python",
   "nbconvert_exporter": "python",
   "pygments_lexer": "ipython3",
   "version": "3.7.4"
  }
 },
 "nbformat": 4,
 "nbformat_minor": 2
}
