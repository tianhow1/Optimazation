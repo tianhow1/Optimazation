{
 "cells": [
  {
   "cell_type": "markdown",
   "metadata": {},
   "source": [
    "# Getting familiar with Jupyter Notebooks\n",
    "\n",
    "Through this file we will familiarize ourselves with Jupyter Notebooks, which we will use throughout the course."
   ]
  },
  {
   "cell_type": "markdown",
   "metadata": {},
   "source": [
    "----"
   ]
  },
  {
   "cell_type": "markdown",
   "metadata": {},
   "source": [
    "## Markdown vs. Code cells\n",
    "\n",
    "There are two main types of cells in a Jupyter notebook: Markdown cells and code cells. This cell is an example of a markdown cell while the following is a code cell."
   ]
  },
  {
   "cell_type": "code",
   "execution_count": null,
   "metadata": {},
   "outputs": [],
   "source": [
    "2+3"
   ]
  },
  {
   "cell_type": "markdown",
   "metadata": {},
   "source": [
    "Markdown cells can be edited by double clicking on them or pressing Enter while they are selected, and both markdown and code cells can be \"evaluated\" by using Shift+Enter, similar to Mathematica."
   ]
  },
  {
   "cell_type": "code",
   "execution_count": null,
   "metadata": {},
   "outputs": [],
   "source": [
    "This cell should be a *markdown* cell, not a code cell. To change it,\n",
    "select the cell by clicking in the left margin, and press **M** on your\n",
    "keyboard. Alternatively, you can select Markdown from the dropdown at\n",
    "the top of the notebook.\n",
    "\n",
    "Once you've converted it to a markdown cell, press `Shift+Enter` to evaluate it."
   ]
  },
  {
   "cell_type": "markdown",
   "metadata": {},
   "source": [
    "Note that clicking into the text field of either a code or markdown cell takes you into **Edit mode**, shown by a green border around the cell. In this mode, keyboard shortcuts like `M` above do not work. To use any keyboard shortcuts in a Jupyter notebook, press `Esc` or click into the left margin of a cell so that the border becomes blue, called **Command mode**. To return to Edit mode from Command mode, simply click back into the text field or press `Enter`."
   ]
  },
  {
   "cell_type": "markdown",
   "metadata": {},
   "source": [
    "# This cell should be a code cell, not a markdown cell.\n",
    "# To change it, select the cell and press \"Y\",\n",
    "# then Shift+Enter to evaluate it.\n",
    "# Note that these lines are inline comments, not evaluated as code\n",
    "\n",
    "print('hello world')"
   ]
  },
  {
   "cell_type": "markdown",
   "metadata": {},
   "source": [
    "Markdown is kind of a \"programming\" language all to itself. I have bookmarked the [markdown cheatsheet](https://github.com/adam-p/markdown-here/wiki/Markdown-Cheatsheet) to help me remember the syntax for doing various things, but basic ones you should know involve the \\# key for denoting headers (as above), asterisks (\\*) or underscores (\\_) for *italics*, and double asterisks (\\*\\*) for **bold**. Double click on this cell to see a few of these syntax examples in action."
   ]
  },
  {
   "cell_type": "markdown",
   "metadata": {},
   "source": [
    "You can also create\n",
    "* lists\n",
    "* of\n",
    "* items\n",
    "\n",
    "with asterisks, or you can\n",
    "1. number\n",
    "2. them\n",
    "\n",
    "with standard numbers."
   ]
  },
  {
   "cell_type": "markdown",
   "metadata": {},
   "source": [
    "You can also use the \\` key (left of number 1 key) for writing `inline code`, or to write entire blocks of code, use three of them \\`\\`\\`. You can even tell the interpreter which language you're typing so it will highlight the code correctly, e.g.\n",
    "\n",
    "**MATLAB** (unfortunately no highlighting):\n",
    "```matlab\n",
    "for i=1:10\n",
    "    disp(i)\n",
    "end\n",
    "u=[1, 3, 5, 7];\n",
    "v=[2; 4; 6; 8];\n",
    "u.*v\n",
    "```\n",
    "\n",
    "**Python** (nicely highlighted):\n",
    "```python\n",
    "for i in range(10):\n",
    "    print(i)\n",
    "    \n",
    "u=[1, 3, 5, 7]\n",
    "v=[2, 4, 6, 8]\n",
    "u*v\n",
    "```"
   ]
  },
  {
   "cell_type": "markdown",
   "metadata": {},
   "source": [
    "Another thing that will be useful for this class is this [LaTeX cheatsheet](http://joshua.smcvt.edu/undergradmath/) for writing mathematical formulas in cells like this. Invoke LaTeX formatting by surrounding code in `$ ... $` inline or `$$ ... $$` on a separate line.\n",
    "\n",
    "For example,\n",
    "\n",
    "`$$ \\nabla L = \\dfrac{\\eta}{\\sqrt{v_{k+1}+ \\epsilon}}\\mathbf{x}_k\\cdot\\langle w_1,w_4^3\\rangle\\ldots $$`\n",
    "\n",
    "produces\n",
    "\n",
    "$$\\nabla L = \\dfrac{\\eta}{\\sqrt{v_{k+1}+ \\epsilon}}\\mathbf{x}_k\\cdot\\langle w_1,w_4^3\\rangle\\ldots$$\n",
    "\n",
    "while the `$f(x)=\\int_a^x g(t)\\;dt$` produces the following inline formula: $f(x)=\\int_a^x g(t)\\;dt$"
   ]
  },
  {
   "cell_type": "markdown",
   "metadata": {},
   "source": [
    "---"
   ]
  },
  {
   "cell_type": "markdown",
   "metadata": {},
   "source": [
    "## Some keyboard shortcuts\n",
    "\n",
    "Most things you'll need to do in a notebook (add/delete cells, copy/paste, split/merge, etc.) are possible through the menus at the top of the page (File, Insert, Cell, etc.), but it is very useful to know several keyboard shortcuts like M/Y above to make completing assignments more efficient. Here we'll discuss some existing shortcuts and create one of our own.\n",
    "\n",
    "### Command mode"
   ]
  },
  {
   "cell_type": "markdown",
   "metadata": {},
   "source": [
    "Touch `A` to insert a new cell above this one. By default, all new cells are code cells.\n",
    "\n",
    "Then, touch `B` to insert a new code cell below."
   ]
  },
  {
   "cell_type": "markdown",
   "metadata": {},
   "source": [
    "Copy the next cell with `C` and then paste it with `V`, the cell will be pasted as a new cell below the current cell."
   ]
  },
  {
   "cell_type": "code",
   "execution_count": null,
   "metadata": {},
   "outputs": [],
   "source": [
    "print(\"copy me\")"
   ]
  },
  {
   "cell_type": "markdown",
   "metadata": {},
   "source": [
    "Delete one of the cells below by selecting it and pressing `D`+`D` (i.e., hit the `D` button twice)"
   ]
  },
  {
   "cell_type": "code",
   "execution_count": null,
   "metadata": {},
   "outputs": [],
   "source": [
    "print(\"delete me\")"
   ]
  },
  {
   "cell_type": "code",
   "execution_count": null,
   "metadata": {},
   "outputs": [],
   "source": [
    "print(\"delete me\")"
   ]
  },
  {
   "cell_type": "markdown",
   "metadata": {},
   "source": [
    "You can also cut a cell (copy and delete it at the same time) with `X`."
   ]
  },
  {
   "cell_type": "markdown",
   "metadata": {},
   "source": [
    "You can use `shift`+`Down/J` (select an additional cell below currently selected cells) or `shift`+`Up/K` (select an additional cell above currently selected cells) to select multiple cells, then type `shift`+`M` to merge the selected cells. Experiment with the following few cells."
   ]
  },
  {
   "cell_type": "code",
   "execution_count": null,
   "metadata": {},
   "outputs": [],
   "source": [
    "print(\"merge me with neighbors\")"
   ]
  },
  {
   "cell_type": "code",
   "execution_count": null,
   "metadata": {},
   "outputs": [],
   "source": [
    "print(\"merge me with neighbors\")"
   ]
  },
  {
   "cell_type": "code",
   "execution_count": null,
   "metadata": {},
   "outputs": [],
   "source": [
    "print(\"merge me with neighbors\")"
   ]
  },
  {
   "cell_type": "code",
   "execution_count": null,
   "metadata": {},
   "outputs": [],
   "source": [
    "print(\"merge me with neighbors\")"
   ]
  },
  {
   "cell_type": "code",
   "execution_count": null,
   "metadata": {},
   "outputs": [],
   "source": [
    "print(\"merge me with neighbors\")"
   ]
  },
  {
   "cell_type": "markdown",
   "metadata": {},
   "source": [
    "Use `Ctrl` + `Shift` + `-` (minus sign) to split the following cell between the two functions"
   ]
  },
  {
   "cell_type": "code",
   "execution_count": null,
   "metadata": {},
   "outputs": [],
   "source": [
    "def func1():\n",
    "    print(\"I'm func1. Separate me from func2\")\n",
    "\n",
    "def func2():\n",
    "    print(\"I'm func2. Separate me from func1\")"
   ]
  },
  {
   "cell_type": "markdown",
   "metadata": {},
   "source": [
    "Next we will create our own keyboard shorcut for clearing the output of a cell, choose `Help` then `Edit Keyboard Shortcut`, find the shortcut option for `clear cell output`, in the dialogue, enter `Ctrl-o` (lowercase or uppercase does not matter), and click the plus button."
   ]
  },
  {
   "cell_type": "code",
   "execution_count": null,
   "metadata": {
    "scrolled": true
   },
   "outputs": [],
   "source": [
    "print(\"Run this cell and try to clear the output using the shortcut you just defined\")"
   ]
  },
  {
   "cell_type": "markdown",
   "metadata": {},
   "source": [
    "---"
   ]
  },
  {
   "cell_type": "markdown",
   "metadata": {},
   "source": [
    "### Edit mode shortcuts\n",
    "\n",
    "There are also several keyboard shortcuts in Edit mode (e.g. typing code) that are very useful. One of the most useful is tab autocomplete. Run the next cell to import the `math` module (we'll discuss this later) and then put your cursor next to the `math.` in cell following it. Then, press `Tab` to see what code completions are available."
   ]
  },
  {
   "cell_type": "code",
   "execution_count": null,
   "metadata": {},
   "outputs": [],
   "source": [
    "import math\n",
    "\n",
    "# math."
   ]
  },
  {
   "cell_type": "code",
   "execution_count": null,
   "metadata": {},
   "outputs": [],
   "source": [
    "math."
   ]
  },
  {
   "cell_type": "markdown",
   "metadata": {},
   "source": [
    "On my machine, tab autocomplete only works if I import the module inside the same cell. I'm not sure why this happens, but if this is also true of your machine, the following `dir` and `help` commands may also be useful to see which commands are available in a given module:"
   ]
  },
  {
   "cell_type": "code",
   "execution_count": null,
   "metadata": {},
   "outputs": [],
   "source": [
    "dir(math)"
   ]
  },
  {
   "cell_type": "code",
   "execution_count": null,
   "metadata": {
    "scrolled": false
   },
   "outputs": [],
   "source": [
    "help(math)"
   ]
  },
  {
   "cell_type": "markdown",
   "metadata": {},
   "source": [
    "If you know the name of a function but forgot how to use it, you can use `Shift`+`Tab` to get a tooltip with the function's documentation. Put your cursor between the `()` in the `math.isclose()` code below. Then press `Shift` + `Tab` to get the tooltip. Pressing it multiple times will cycle through several different tooltip formats."
   ]
  },
  {
   "cell_type": "code",
   "execution_count": null,
   "metadata": {},
   "outputs": [],
   "source": [
    "math.isclose()"
   ]
  },
  {
   "cell_type": "markdown",
   "metadata": {},
   "source": [
    "Sometimes when writing code, entire blocks of code may need to be commented out, e.g. for debugging. Instead of commenting lines one by one, select the entire text in the next cell and press `Cmd` + `/` on MacOS or `Ctrl` + `/` on Windows/Linux to comment/uncomment lines of code (the syntax for inline comments in Python is `#`)."
   ]
  },
  {
   "cell_type": "code",
   "execution_count": null,
   "metadata": {
    "scrolled": true
   },
   "outputs": [],
   "source": [
    "print(\"this big\")\n",
    "print(\"block of\")\n",
    "print(\"commands can\")\n",
    "print(\"be commented out\")\n",
    "print(\"all at once with\")\n",
    "print(\"Cmd + /\")"
   ]
  },
  {
   "cell_type": "markdown",
   "metadata": {},
   "source": [
    "When defining functions and loops in Python, indentation is important. Running the code cell below gives you an error. Select the following lines, press `Tab` to indent them and run again. You can also use `Shift`+`Tab` to unindent a line or group of lines at once."
   ]
  },
  {
   "cell_type": "code",
   "execution_count": null,
   "metadata": {},
   "outputs": [],
   "source": [
    "def my_func():\n",
    "x=1\n",
    "y=10\n",
    "return x+y"
   ]
  },
  {
   "cell_type": "code",
   "execution_count": null,
   "metadata": {},
   "outputs": [],
   "source": [
    "my_func()"
   ]
  },
  {
   "cell_type": "markdown",
   "metadata": {},
   "source": [
    "---"
   ]
  },
  {
   "cell_type": "markdown",
   "metadata": {},
   "source": [
    "**View all keyboard shortcuts:** Forget what that keyboard shortcut is? Type `H` in Command mode for a list of all available keyboard shortcuts.\n",
    "\n",
    "**Command Pallette:** Want quick access to all the available commands in Jupyter Notebooks? Open the command pallette with `Ctrl/Cmd` + `Shift` + `P` and you'll quickly be able to search all the commands! Try pulling out the command palette, enter `clear` first, then all the commands with the word `clear` in it will be auto-completed, try clearing all outputs from all cells in this notebook."
   ]
  }
 ],
 "metadata": {
  "kernelspec": {
   "display_name": "Python 3",
   "language": "python",
   "name": "python3"
  },
  "language_info": {
   "codemirror_mode": {
    "name": "ipython",
    "version": 3
   },
   "file_extension": ".py",
   "mimetype": "text/x-python",
   "name": "python",
   "nbconvert_exporter": "python",
   "pygments_lexer": "ipython3",
   "version": "3.6.13"
  }
 },
 "nbformat": 4,
 "nbformat_minor": 1
}
