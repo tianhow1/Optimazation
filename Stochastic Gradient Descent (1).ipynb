{
 "cells": [
  {
   "cell_type": "markdown",
   "metadata": {},
   "source": [
    "# Stochastic Gradient Descent"
   ]
  },
  {
   "cell_type": "markdown",
   "metadata": {},
   "source": [
    "The least squares objective function is \n",
    "$$ f(x) = \\sum_{j=1}^m r_j^2(x)$$\n",
    "Or in the linear case, it's represented as:\n",
    "$$ f(x) = \\|Ax - b\\|_2^2$$\n",
    "\n",
    "The **normalized least squares function** is\n",
    "\n",
    "$$ f(x) = \\frac{1}{m}\\|Ax - b\\|_2^2$$\n",
    "\n",
    "where your data points are $(t_1,y_1),\\dots, (t_m,y_m)$ in the 2-D case. When we use Stochastic/Batch gradient Descent, we use the normalized least squares function to establish a model which fits the data.\n",
    "\n",
    "So in the 2-D case,\n",
    "\n",
    "$A = \\begin{bmatrix}\n",
    "1 & t_1 \\\\\n",
    "1 & t_2 \\\\\n",
    "\\vdots \\\\\n",
    "1 & t_m\n",
    "\\end{bmatrix}$, $b = \\begin{bmatrix}\n",
    "y_1 \\\\\n",
    "y_2 \\\\\n",
    "\\vdots \\\\\n",
    "y_m\n",
    "\\end{bmatrix}$\n"
   ]
  },
  {
   "cell_type": "markdown",
   "metadata": {},
   "source": [
    "**What is the problem with Gradient Descent?**\n",
    "\n",
    "Gradient computation takes a long time because all the data points are used to calculate the gradient.\n",
    "\n",
    "$$ \\nabla f(x) = A^T (A x - b)$$\n",
    "\n",
    "At each step of the algorithm:\n",
    "\n",
    "1. Compute the gradient $\\nabla f(x)$\n",
    "2. $x_{k+1} = x_k - \\alpha \\nabla f(x)$\n",
    "\n",
    "\n",
    "\n",
    "This can be problematic if $A$ is a very large matrix, which can easily happen if you have a large number of data points.\n",
    "\n",
    "**How does Stochastic Gradient Descent (SGD) solve this problem?**\n",
    "\n",
    "In each step of Stochastic Gradient Descent, it samples a small portion of the data (minibatch) of size $k$. The gradient is approximated using each minibatch, $x_k$ is updated, and this is repeated until $m/k$ samples have been created.\n",
    "\n",
    "Use a \"minibatch\" of the data to approximate the gradient at each step.\n",
    "\n",
    "A minibatch is a subset of the data: If you have a minibatch of size 1, you sample 1 point from the data, $t_j$:\n",
    "\n",
    "$A_{mb} = \\begin{bmatrix}\n",
    "1 & t_j\n",
    "\\end{bmatrix}$, $b_{mb} = \\begin{bmatrix}\n",
    "y_j\n",
    "\\end{bmatrix}$\n",
    "Then you compute the updated gradient as\n",
    "$$\\nabla f(x) = 2 A_{mb}^T (A_{mb} x - b_{mb})$$\n",
    "\n",
    "Since the minibatch is of size 1 and we have $m$ points, you repeat this $m$ times per step:\n",
    "\n",
    "At each step of the algorithm:\n",
    "\n",
    "for $i = 1:m$:\n",
    "1. Sample a point $(t_j, y_j)$ randomly\n",
    "2. Compute the gradient $\\nabla f(x) = \\begin{bmatrix} 1 \\\\ t_j \\end{bmatrix} \\left(\\begin{bmatrix} 1 & t_j \\end{bmatrix} x - \\begin{bmatrix} y_1 \\end{bmatrix}\\right)$\n",
    "3. Update $x_{k+1} = x_k - \\alpha \\nabla f(x)$"
   ]
  },
  {
   "cell_type": "code",
   "execution_count": 1,
   "metadata": {},
   "outputs": [
    {
     "data": {
      "text/plain": [
       "array([[3.82069476],\n",
       "       [3.18472584]])"
      ]
     },
     "execution_count": 1,
     "metadata": {},
     "output_type": "execute_result"
    }
   ],
   "source": [
    "import numpy as np\n",
    "import matplotlib as mpl\n",
    "import matplotlib.pyplot as plt\n",
    "m = 100\n",
    "X=2*np.random.rand(m,1)\n",
    "y=4+3*X+np.random.randn(m,1)\n",
    "X_b = np.c_[np.ones((m, 1)), X] # add x0 = 1 to each instance\n",
    "theta_best = np.linalg.inv(X_b.T.dot(X_b)).dot(X_b.T).dot(y)\n",
    "theta_best\n"
   ]
  },
  {
   "cell_type": "code",
   "execution_count": 2,
   "metadata": {
    "scrolled": true
   },
   "outputs": [
    {
     "data": {
      "text/plain": [
       "array([[ 3.82069476],\n",
       "       [10.19014643]])"
      ]
     },
     "execution_count": 2,
     "metadata": {},
     "output_type": "execute_result"
    }
   ],
   "source": [
    "X_new = np.array([[0], [2]])\n",
    "X_new_b = np.c_[np.ones((2, 1)), X_new]\n",
    "# add x0 = 1 to each instance\n",
    "y_predict = X_new_b.dot(theta_best)\n",
    "y_predict"
   ]
  },
  {
   "cell_type": "markdown",
   "metadata": {},
   "source": [
    "Computing SGD:"
   ]
  },
  {
   "cell_type": "markdown",
   "metadata": {},
   "source": [
    "Here is the code for SGD with fixed step size:\n",
    "\n",
    "We have $m=100$ data points, so:\n",
    "\n",
    "For 50 epochs:\n",
    "\n",
    "Repeat the following 100 times:\n",
    "\n",
    "1. Select a random point $(t_j, y_j)$.\n",
    "\n",
    "2. Let $A = [1, t_j]$, $b = [y_j]$, and compute the gradient $\\nabla f$ using these values for $A$ and $b$.\n",
    "\n",
    "3. Update $x_k$.\n"
   ]
  },
  {
   "cell_type": "code",
   "execution_count": 3,
   "metadata": {},
   "outputs": [
    {
     "data": {
      "image/png": "[encoded data removed]",
      "text/plain": [
       "<Figure size 432x288 with 1 Axes>"
      ]
     },
     "metadata": {
      "needs_background": "light"
     },
     "output_type": "display_data"
    }
   ],
   "source": [
    "n_epochs = 50\n",
    "eta = 0.04\n",
    "theta = np.random.randn(2,1) # random initialization\n",
    "theta_path_sgd_nols = []\n",
    "for epoch in range(n_epochs):\n",
    "    for i in range(m):\n",
    "        if epoch == 0 and i < 20: # this just illustrates the different slopes of a single epoch\n",
    "            y_predict = X_new_b.dot(theta)\n",
    "            style = \"b-\" if i > 0 else \"r-\"\n",
    "            plt.plot(X_new, y_predict, style)\n",
    "        random_index = np.random.randint(m) # get a random data point\n",
    "        xi = X_b[random_index:random_index+1]   # A is now restricted to this single row\n",
    "        yi = y[random_index:random_index+1]  # b is restricted to this single row\n",
    "        gradients = 2 * xi.T.dot(xi.dot(theta) - yi) # perform steepest descent\n",
    "        theta = theta - eta * gradients\n",
    "        theta_path_sgd_nols.append(theta) \n",
    "    plt.xlabel(\"$x_1$\", fontsize=18)\n",
    "    plt.axis([0, 2, 0, 15])\n",
    "    plt.title(r\"$\\eta = {}$\".format(eta), fontsize=16) \n",
    "plt.plot(X, y, \"b.\")\n",
    "plt.plot(X_new, y_predict, \"g-\")\n",
    "plt.xlabel(\"$x_1$\", fontsize=18)\n",
    "plt.ylabel(\"$y$\", rotation=0, fontsize=18)\n",
    "plt.axis([0, 2, 0, 15])\n",
    "plt.show() "
   ]
  },
  {
   "cell_type": "markdown",
   "metadata": {},
   "source": [
    "Gradient Step"
   ]
  },
  {
   "cell_type": "code",
   "execution_count": 5,
   "metadata": {},
   "outputs": [
    {
     "data": {
      "image/png": "[encoded data removed]",
      "text/plain": [
       "<Figure size 432x288 with 1 Axes>"
      ]
     },
     "metadata": {
      "needs_background": "light"
     },
     "output_type": "display_data"
    }
   ],
   "source": [
    "def gradient_descent(X_b, y, X, n_iterations, eta=0.0004):\n",
    "    # n_iterations: total epochs\n",
    "    # eta: fixed learning rate (step size)\n",
    "    # X: for plotting purposes\n",
    "    theta_path_bgd = []\n",
    "    theta = np.random.randn(2,1) #random start\n",
    "    for iteration in range(n_iterations):\n",
    "        gradients = X_b.T.dot(X_b.dot(theta) - y)\n",
    "        theta = theta - eta * gradients\n",
    "        theta_path_bgd.append(theta)\n",
    "    plt.plot(X, y, \"b.\")\n",
    "    plt.plot(X, theta[0] + theta[1]*X)\n",
    "    plt.xlabel(\"$x_1$\", fontsize=18)\n",
    "    plt.ylabel(\"$y$\", rotation=0, fontsize=18)\n",
    "    plt.axis([0, 2, 0, 15])\n",
    "    plt.show() \n",
    "    return theta_path_bgd\n",
    "theta_path_bgd = gradient_descent(X_b, y, X, 500)"
   ]
  },
  {
   "cell_type": "markdown",
   "metadata": {},
   "source": [
    "### Variable Learning Schedule\n",
    "\n",
    "**Learning rate**: In gradient descent, we refer to the step size as the learning rate $\\eta$ (eta).\n",
    "\n",
    "**Problem**: Stochastic Gradient Descent can fail to settle down even when near the minimum.\n",
    "\n",
    "**Solution**: Variable learning schedule to keep the learning rate high at the start of SGD, decreasing it as time goes on.\n",
    "\n",
    "**Example learning schedule**:\n",
    "$$ \\eta = \\frac{200}{\\text{epoch}*m + i + 500}$$\n",
    "\n",
    "At the start of SGD, the learning rate will be $\\frac{200}{500}$.\n",
    "\n",
    "After the first epoch, it will be $\\frac{200}{600}$ since $m=100$.\n",
    "\n",
    "After 50 epochs, it will be $\\frac{200}{5100}=0.04$."
   ]
  },
  {
   "cell_type": "code",
   "execution_count": 6,
   "metadata": {
    "scrolled": true
   },
   "outputs": [
    {
     "data": {
      "image/png": "[encoded data removed]",
      "text/plain": [
       "<Figure size 432x288 with 1 Axes>"
      ]
     },
     "metadata": {
      "needs_background": "light"
     },
     "output_type": "display_data"
    },
    {
     "name": "stdout",
     "output_type": "stream",
     "text": [
      "Wall time: 191 ms\n"
     ]
    }
   ],
   "source": [
    "%%time\n",
    "def stochastic_gradient_descent_learning_schedule(X_b, y, X, n_iterations, t0=5, t1=50):\n",
    "    def learning_schedule(t): # decreasing learning rate\n",
    "        return t0 / (t + t1) # schedule function\n",
    "    theta = np.random.randn(2,1) # random initialization\n",
    "    theta_path_sgd = []\n",
    "    for epoch in range(n_epochs):\n",
    "        for i in range(m):\n",
    "            if epoch == 40 and i < 20:\n",
    "                y_predict = X_new_b.dot(theta)\n",
    "                style = \"b-\" if i > 0 else \"r-\"\n",
    "                plt.plot(X_new, y_predict, style)\n",
    "            random_index = np.random.randint(m) # get a random data point\n",
    "            xi = X_b[random_index:random_index+1]   # A is now restricted to this single row\n",
    "            yi = y[random_index:random_index+1]  # b is restricted to this single row\n",
    "            gradients = 2 * xi.T.dot(xi.dot(theta) - yi) # perform steepest descent\n",
    "            eta = learning_schedule(epoch * m + i) # eta is the step size (learning rate)\n",
    "            theta = theta - eta * gradients\n",
    "            theta_path_sgd.append(theta) \n",
    "        plt.xlabel(\"$x_1$\", fontsize=18)\n",
    "        plt.axis([0, 2, 0, 15])\n",
    "        plt.title(r\"$\\eta = {}$\".format(eta), fontsize=16) \n",
    "    plt.plot(X, y, \"b.\")\n",
    "    plt.xlabel(\"$x_1$\", fontsize=18)\n",
    "    plt.ylabel(\"$y$\", rotation=0, fontsize=18)\n",
    "    plt.axis([0, 2, 0, 15])\n",
    "    plt.show() \n",
    "    return theta_path_sgd\n",
    "theta_path_sgd=stochastic_gradient_descent_learning_schedule(X_b, y, X, 50)"
   ]
  },
  {
   "cell_type": "markdown",
   "metadata": {},
   "source": [
    "### Minibatch Stochastic Gradient Descent\n",
    "\n",
    "\n",
    "Stochastic Gradient Descent is basically Minibatch Gradient Descent with a minibatch size of 1.\n",
    "\n",
    "With Minibatch Gradient Descent, we partition the dataset into equally sized minibatches. During each epoch, we calculate the gradient of the minibatch and use it to update $x_k$.\n",
    "\n",
    "For example: Say we're performing Minibatch Gradient Descent with minibatch size of 5. Our first minibatch contains the indices $\\{1, 3, 5 ,6, 9\\}$. Then\n",
    "\n",
    "$$A_{mb} = \\begin{bmatrix}\n",
    "1 & t_1\\\\\n",
    "1 & t_3\\\\\n",
    "1 & t_5\\\\\n",
    "1 & t_6\\\\\n",
    "1 & t_9\\\\\n",
    "\\end{bmatrix}$$\n",
    "$$b_{mb} = \\begin{bmatrix}\n",
    "y_1\\\\\n",
    "y_3\\\\\n",
    "y_5\\\\\n",
    "y_6\\\\\n",
    "y_9\\\\\n",
    "\\end{bmatrix}$$\n",
    "\n",
    "\n",
    "Then you compute the updated gradient as\n",
    "$$\\nabla f(x) = \\frac{2}{5} A_{mb}^T (A_{mb} x - b_{mb})$$\n",
    "\n",
    "At each step of the algorithm, if we have minibatch size $k$ and data length $m$, we'll have $m/k$ minibatches.\n",
    "\n",
    "### One step of Minibatch:\n",
    "\n",
    "**Partition** the data into $m/k$ minibatches of size $k$.\n",
    "\n",
    "for each of the $m/k$ minibatches:\n",
    "1. Calculate $A_{mb}$, $b_{mb}$ based on the minibatch.\n",
    "2. Compute the gradient $\\nabla f(x) = \\frac{2}{\\frac{m}{k}}  A_{mb}^T (A_{mb} x - b_{mb})$\n",
    "3. Update $x_{k+1} = x_k - \\alpha \\nabla f(x)$\n",
    "\n",
    "\n",
    "### Note: (random sampling vs partitioning)\n",
    "\n",
    "In Stochastic Gradient Descent, we randomly sample a single data point in every epoch. In Minibatch Gradient Descent, we can either randomly sample the minibatches or partition the dataset into different minibatches; either is fine.\n",
    "\n"
   ]
  },
  {
   "cell_type": "markdown",
   "metadata": {},
   "source": [
    "### Code"
   ]
  },
  {
   "cell_type": "markdown",
   "metadata": {},
   "source": [
    "#### Shuffling Indices:\n",
    "\n",
    " With minibatch stochastic gradient descent, we can randomize the indices in each epoch:"
   ]
  },
  {
   "cell_type": "code",
   "execution_count": null,
   "metadata": {},
   "outputs": [],
   "source": [
    "shuffled_indices = np.random.permutation(m)\n",
    "X_b_shuffled = X_b[shuffled_indices]"
   ]
  },
  {
   "cell_type": "code",
   "execution_count": null,
   "metadata": {},
   "outputs": [],
   "source": [
    "shuffled_indices"
   ]
  },
  {
   "cell_type": "code",
   "execution_count": null,
   "metadata": {},
   "outputs": [],
   "source": [
    "%%time\n",
    "def minibatch_gradient_descent(X_b, y, n_iterations, minibatch_size, t0=200, t1=500):\n",
    "    theta_path_mgd = []\n",
    "    n_iterations = 50\n",
    "    minibatch_size = 20\n",
    "    np.random.seed(42)\n",
    "    m = len(X_b)\n",
    "    theta = np.random.randn(2,1) # random initialization\n",
    "    def learning_schedule(t): # Learning rate\n",
    "        return t0 / (t + t1)\n",
    "    t = 0\n",
    "    for epoch in range(n_iterations):\n",
    "        shuffled_indices = np.random.permutation(m)\n",
    "        X_b_shuffled = X_b[shuffled_indices]\n",
    "        # shuffle/randomize indices towards iid samples\n",
    "        # to improve settling down towards convergence\n",
    "        y_shuffled = y[shuffled_indices]\n",
    "        for i in range(0, m, minibatch_size):\n",
    "            t += 1\n",
    "            xi = X_b_shuffled[i:i+minibatch_size]\n",
    "            yi = y_shuffled[i:i+minibatch_size]\n",
    "            gradients = 2/minibatch_size * xi.T.dot(xi.dot(theta) - yi)\n",
    "            eta = learning_schedule(t)\n",
    "            theta = theta - eta * gradients\n",
    "            theta_path_mgd.append(theta)\n",
    "    return theta_path_mgd\n",
    "theta_path_mgd = minibatch_gradient_descent(X_b, y, 50, 20)"
   ]
  },
  {
   "cell_type": "markdown",
   "metadata": {},
   "source": [
    "## Plotting"
   ]
  },
  {
   "cell_type": "code",
   "execution_count": null,
   "metadata": {},
   "outputs": [],
   "source": [
    "theta_path_bgd = np.array(theta_path_bgd)\n",
    "theta_path_sgd = np.array(theta_path_sgd)\n",
    "theta_path_sgd_nols = np.array(theta_path_sgd_nols) # No learning rate scheduler\n",
    "theta_path_mgd = np.array(theta_path_mgd)"
   ]
  },
  {
   "cell_type": "code",
   "execution_count": null,
   "metadata": {},
   "outputs": [],
   "source": [
    "# Comparing the convergence rates\n",
    "\n",
    "theta_diff_bgd = theta_path_bgd - theta_best\n",
    "theta_diff_sgd = theta_path_sgd - theta_best\n",
    "theta_diff_sgd_nols = theta_path_sgd_nols - theta_best\n",
    "theta_diff_mgd = theta_path_mgd - theta_best\n",
    "\n",
    "#plt.plot(np.linalg.norm(theta_diff_bgd, axis=1))\n",
    "plt.plot(np.linalg.norm(theta_diff_mgd, axis=1))"
   ]
  },
  {
   "cell_type": "code",
   "execution_count": null,
   "metadata": {},
   "outputs": [],
   "source": [
    "plt.plot(np.linalg.norm(theta_diff_sgd, axis=1), 'g')\n",
    "plt.plot(np.linalg.norm(theta_diff_sgd_nols, axis=1), 'r')\n",
    "plt.title(\"Comparing SGD with learning rate scheduler (green) vs no learning rate scheduler (red)\" )"
   ]
  },
  {
   "cell_type": "code",
   "execution_count": null,
   "metadata": {},
   "outputs": [],
   "source": [
    "plt.figure(figsize=(7,4))\n",
    "plt.plot(theta_path_sgd[:, 0], theta_path_sgd[:, 1], \"r-s\", linewidth=1,\n",
    "label=\"Stochastic\")\n",
    "plt.plot(theta_path_mgd[:, 0], theta_path_mgd[:, 1], \"g-+\",\n",
    "linewidth=2, label=\"Mini-batch\")\n",
    "plt.plot(theta_path_bgd[:, 0], theta_path_bgd[:, 1], \"b-o\",\n",
    "linewidth=3, label=\"Batch\")\n",
    "plt.legend(loc=\"upper left\", fontsize=16)\n",
    "plt.xlabel(r\"$\\theta_0$\", fontsize=20)\n",
    "plt.ylabel(r\"$\\theta_1$ \", fontsize=20, rotation=0)\n",
    "plt.axis([2, 5, 1, 3.9])\n",
    "plt.show()"
   ]
  },
  {
   "cell_type": "markdown",
   "metadata": {},
   "source": [
    "## In Summary\n",
    "\n",
    "## Batch Gradient Descent\n",
    "\n",
    "At each step, compute the gradient using the entire dataset.\n",
    "$$\\nabla f(x) = 2 A^T (A x - b)$$\n",
    "$$x_{k+1} = x_k - \\eta \\nabla f(x_k)$$\n",
    "\n",
    "### Problems:\n",
    "\n",
    "* Memory consumption is too high - it's too computationally expensive to compute the gradient of an absurdly large matrix.\n",
    "\n",
    "## Stochastic Gradient Descent\n",
    "\n",
    "At each step, randomly select a point and calculate the gradient using that point.\n",
    "\n",
    "$A_{mb} = \\begin{bmatrix}\n",
    "1 & t_j\n",
    "\\end{bmatrix}$, $b_{mb} = \\begin{bmatrix}\n",
    "y_j\n",
    "\\end{bmatrix}$\n",
    "Then you compute the updated gradient as\n",
    "$$\\nabla f(x) = 2 A_{mb}^T (A_{mb} x - b_{mb})$$\n",
    "\n",
    "### Benefits:\n",
    "* Much less memory consumption than Batch Gradient Descent\n",
    "\n",
    "### Problems:\n",
    "\n",
    "* Naturally high level of oscillation; will continue to oscillate heavily even when close to the minimizer\n",
    "\n",
    "## Batch Gradient Descent\n",
    "\n",
    "At each step, randomly select a minibatch of the data and calculate the gradient using the data points within that minibatch.\n",
    "\n",
    "$$A_{mb} = \\begin{bmatrix}\n",
    "1 & t_1\\\\\n",
    "1 & t_3\\\\\n",
    "1 & t_5\\\\\n",
    "1 & t_6\\\\\n",
    "1 & t_9\\\\\n",
    "\\end{bmatrix}$$\n",
    "$$b_{mb} = \\begin{bmatrix}\n",
    "y_1\\\\\n",
    "y_3\\\\\n",
    "y_5\\\\\n",
    "y_6\\\\\n",
    "y_9\\\\\n",
    "\\end{bmatrix}$$\n",
    "$$\\nabla f(x) = 2 A_{mb}^T (A_{mb} x - b_{mb})$$\n",
    "### Benefits:\n",
    "* Stabilizes the Stochastic Gradient Descent path to reduce oscillation\n",
    "\n",
    "### Variable Learning Schedule\n",
    "\n",
    "Establishing a variable learning schedule can help stochastic gradient method / minibatch gradient method settle down once it approaches a minimum.\n",
    "\n",
    "Something like\n",
    "$$ \\eta = \\frac{200}{t + 500}$$\n",
    "where $t$ is number of iterations"
   ]
  }
 ],
 "metadata": {
  "kernelspec": {
   "display_name": "Python 3",
   "language": "python",
   "name": "python3"
  },
  "language_info": {
   "codemirror_mode": {
    "name": "ipython",
    "version": 3
   },
   "file_extension": ".py",
   "mimetype": "text/x-python",
   "name": "python",
   "nbconvert_exporter": "python",
   "pygments_lexer": "ipython3",
   "version": "3.6.13"
  }
 },
 "nbformat": 4,
 "nbformat_minor": 2
}
