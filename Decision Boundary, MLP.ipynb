{
 "cells": [
  {
   "cell_type": "markdown",
   "metadata": {},
   "source": [
    "# Perceptron Model\n",
    "\n",
    "A perception is a **linear classifier** that separates data into two classes by a line.\n",
    "\n",
    "$$y = f(\\mathbf{w}^T \\mathbf{x} + b)$$\n",
    "\n",
    "$\\mathbf{x}$ are your inputs, $\\mathbf{w}$ are the weights of each of the nodes, $y$ is the output.\n",
    "\n",
    "![img](https://i.imgur.com/E3TugXA.png)\n",
    "\n",
    "Where $f$ is the step function\n",
    "$f(z) = 0$ if $z < 0$, $f(z) = 1$ if $z \\ge 0$.\n",
    "\n",
    "**Linearly separable data**: Data points of two or more classes that\n",
    "can be separated by **hyper-planes**.\n",
    "![img2](https://upload.wikimedia.org/wikipedia/commons/a/af/Linearly_separable_red-blue_cropped_.svg)\n",
    "\n",
    "*    **Hyper-plane**: A **subspace** whose dimension is 1 less than the space you're working with. So in 2D, a hyperplane is a **line**, in 3D it's a plane.\n",
    "\n",
    "*    **Subspace**: Space whose points are closed addition and scalar multiplication.\n",
    "\n",
    "**Linearly non-separable data**: Data points of 2 or more classes that can't be separated by hyper-planes.\n",
    "\n",
    "![img](https://online.stat.psu.edu/onlinecourses/sites/stat508/files/lesson11/not_seperable_01.png)\n",
    "\n",
    "**Decision Boundary**: The region in which the classifier is ambiguous. This is a characteristic of the **model**, not the data. For a perceptron, this decision boundary is a line. So if we're working with linearly separable data, we can form a perfect classifier for the data, whereas if we're working with linearly non-separable data, a perceptron model can't be a perfect fit to the data.\n"
   ]
  },
  {
   "cell_type": "markdown",
   "metadata": {},
   "source": [
    "# Multi-layer Perceptron\n",
    "\n"
   ]
  },
  {
   "cell_type": "markdown",
   "metadata": {},
   "source": [
    "A perception with additional layers.\n",
    "![ex](https://i.imgur.com/06NEf5s.png)\n",
    "\n",
    "$$y = f (f(w_1 x_1 + w_2 x_2 + b_1) + f(w_1 x_1 + w_2 x_2 + b_2) – b_3)$$\n",
    "\n",
    "## Activation Function\n",
    "\n",
    "For an MLP, the activation functions for the hidden and output layers don't need to be the heaviside step function. You can use  other options such as a sigmoid function, and we still call it a multi-layer perceptron.\n",
    "\n",
    "\n",
    "## What will the decision boundary look like?\n",
    "\n",
    "The decision boundary can be **nonlinear** for a multilayer perceptron.\n",
    "\n",
    "By adding more layers, we can have a more complex decision boundary and a model with more parameters, allowing it to fit to linearly nonseparable datasets."
   ]
  },
  {
   "cell_type": "markdown",
   "metadata": {},
   "source": [
    "Sigmoid activation function: $f(z) = 1 / (1 + e^{-z})$"
   ]
  },
  {
   "cell_type": "code",
   "execution_count": 2,
   "metadata": {},
   "outputs": [],
   "source": [
    "import numpy as np\n",
    "import matplotlib.pyplot as plt\n",
    "def heaviside(z):\n",
    "    return (z >= 0).astype(z.dtype)\n",
    "\n",
    "def sigmoid(z):\n",
    "    return 1 / (1 + np.exp(-z))\n",
    "\n",
    "def mlp_xor(x1, x2, activation=heaviside):\n",
    "    return activation(-activation(x1 + x2 - 1.5) + activation(x1 + x2 -\n",
    "0.5) - 0.5)"
   ]
  },
  {
   "cell_type": "code",
   "execution_count": 3,
   "metadata": {},
   "outputs": [
    {
     "data": {
      "image/png": "[encoded data removed]",
      "text/plain": [
       "<Figure size 720x288 with 2 Axes>"
      ]
     },
     "metadata": {
      "needs_background": "light"
     },
     "output_type": "display_data"
    }
   ],
   "source": [
    "x1s = np.linspace(-0.2, 1.2, 100)\n",
    "x2s = np.linspace(-0.2, 1.2, 100)\n",
    "x1, x2 = np.meshgrid(x1s, x2s)\n",
    "z1 = mlp_xor(x1, x2, activation=heaviside)\n",
    "z2 = mlp_xor(x1, x2, activation=sigmoid)\n",
    "plt.figure(figsize=(10,4))\n",
    "plt.subplot(121)\n",
    "plt.contourf(x1, x2, z1)\n",
    "plt.plot([0, 1], [0, 1], \"gs\", markersize=20)\n",
    "plt.plot([0, 1], [1, 0], \"y^\", markersize=20)\n",
    "plt.title(\"Activation function: heaviside\", fontsize=14)\n",
    "plt.grid(True)\n",
    "plt.subplot(122)\n",
    "plt.contourf(x1, x2, z2)\n",
    "plt.plot([0, 1], [0, 1], \"gs\", markersize=20)\n",
    "plt.plot([0, 1], [1, 0], \"y^\", markersize=20)\n",
    "plt.title(\"Activation function: sigmoid\", fontsize=14)\n",
    "plt.grid(True)"
   ]
  },
  {
   "cell_type": "markdown",
   "metadata": {},
   "source": [
    "Output of stpe function activation function is 0 or 1:"
   ]
  },
  {
   "cell_type": "code",
   "execution_count": 10,
   "metadata": {},
   "outputs": [
    {
     "data": {
      "text/plain": [
       "array([[0.4155525 , 0.41586968, 0.416187  , 0.41650443, 0.41682188,\n",
       "        0.41713932, 0.41745666, 0.41777386, 0.41809084, 0.41840753,\n",
       "        0.41872388, 0.41903982, 0.41935528, 0.41967019, 0.41998448,\n",
       "        0.42029807, 0.42061091, 0.42092292, 0.42123402, 0.42154415,\n",
       "        0.42185323, 0.42216118, 0.42246793, 0.4227734 , 0.42307753,\n",
       "        0.42338022, 0.42368141, 0.42398102, 0.42427896, 0.42457517,\n",
       "        0.42486956, 0.42516205, 0.42545257, 0.42574103, 0.42602736,\n",
       "        0.42631147, 0.42659329, 0.42687273, 0.42714972, 0.42742417,\n",
       "        0.427696  , 0.42796514, 0.42823151, 0.42849502, 0.4287556 ,\n",
       "        0.42901317, 0.42926764, 0.42951895, 0.42976701, 0.43001174,\n",
       "        0.43025307, 0.43049092, 0.43072522, 0.43095588, 0.43118284,\n",
       "        0.43140603, 0.43162536, 0.43184077, 0.43205218, 0.43225953,\n",
       "        0.43246275, 0.43266176, 0.4328565 , 0.43304691, 0.43323291,\n",
       "        0.43341445, 0.43359147, 0.43376389, 0.43393166, 0.43409473,\n",
       "        0.43425303, 0.43440651, 0.43455512, 0.4346988 , 0.4348375 ,\n",
       "        0.43497117, 0.43509976, 0.43522324, 0.43534154, 0.43545464,\n",
       "        0.43556248, 0.43566504, 0.43576227, 0.43585413, 0.4359406 ,\n",
       "        0.43602164, 0.43609723, 0.43616732, 0.43623191, 0.43629096,\n",
       "        0.43634445, 0.43639237, 0.43643469, 0.4364714 , 0.43650248,\n",
       "        0.43652793, 0.43654773, 0.43656188, 0.43657038, 0.43657321],\n",
       "       [0.41586968, 0.416187  , 0.41650443, 0.41682188, 0.41713932,\n",
       "        0.41745666, 0.41777386, 0.41809084, 0.41840753, 0.41872388,\n",
       "        0.41903982, 0.41935528, 0.41967019, 0.41998448, 0.42029807,\n",
       "        0.42061091, 0.42092292, 0.42123402, 0.42154415, 0.42185323,\n",
       "        0.42216118, 0.42246793, 0.4227734 , 0.42307753, 0.42338022,\n",
       "        0.42368141, 0.42398102, 0.42427896, 0.42457517, 0.42486956,\n",
       "        0.42516205, 0.42545257, 0.42574103, 0.42602736, 0.42631147,\n",
       "        0.42659329, 0.42687273, 0.42714972, 0.42742417, 0.427696  ,\n",
       "        0.42796514, 0.42823151, 0.42849502, 0.4287556 , 0.42901317,\n",
       "        0.42926764, 0.42951895, 0.42976701, 0.43001174, 0.43025307,\n",
       "        0.43049092, 0.43072522, 0.43095588, 0.43118284, 0.43140603,\n",
       "        0.43162536, 0.43184077, 0.43205218, 0.43225953, 0.43246275,\n",
       "        0.43266176, 0.4328565 , 0.43304691, 0.43323291, 0.43341445,\n",
       "        0.43359147, 0.43376389, 0.43393166, 0.43409473, 0.43425303,\n",
       "        0.43440651, 0.43455512, 0.4346988 , 0.4348375 , 0.43497117,\n",
       "        0.43509976, 0.43522324, 0.43534154, 0.43545464, 0.43556248,\n",
       "        0.43566504, 0.43576227, 0.43585413, 0.4359406 , 0.43602164,\n",
       "        0.43609723, 0.43616732, 0.43623191, 0.43629096, 0.43634445,\n",
       "        0.43639237, 0.43643469, 0.4364714 , 0.43650248, 0.43652793,\n",
       "        0.43654773, 0.43656188, 0.43657038, 0.43657321, 0.43657038],\n",
       "       [0.416187  , 0.41650443, 0.41682188, 0.41713932, 0.41745666,\n",
       "        0.41777386, 0.41809084, 0.41840753, 0.41872388, 0.41903982,\n",
       "        0.41935528, 0.41967019, 0.41998448, 0.42029807, 0.42061091,\n",
       "        0.42092292, 0.42123402, 0.42154415, 0.42185323, 0.42216118,\n",
       "        0.42246793, 0.4227734 , 0.42307753, 0.42338022, 0.42368141,\n",
       "        0.42398102, 0.42427896, 0.42457517, 0.42486956, 0.42516205,\n",
       "        0.42545257, 0.42574103, 0.42602736, 0.42631147, 0.42659329,\n",
       "        0.42687273, 0.42714972, 0.42742417, 0.427696  , 0.42796514,\n",
       "        0.42823151, 0.42849502, 0.4287556 , 0.42901317, 0.42926764,\n",
       "        0.42951895, 0.42976701, 0.43001174, 0.43025307, 0.43049092,\n",
       "        0.43072522, 0.43095588, 0.43118284, 0.43140603, 0.43162536,\n",
       "        0.43184077, 0.43205218, 0.43225953, 0.43246275, 0.43266176,\n",
       "        0.4328565 , 0.43304691, 0.43323291, 0.43341445, 0.43359147,\n",
       "        0.43376389, 0.43393166, 0.43409473, 0.43425303, 0.43440651,\n",
       "        0.43455512, 0.4346988 , 0.4348375 , 0.43497117, 0.43509976,\n",
       "        0.43522324, 0.43534154, 0.43545464, 0.43556248, 0.43566504,\n",
       "        0.43576227, 0.43585413, 0.4359406 , 0.43602164, 0.43609723,\n",
       "        0.43616732, 0.43623191, 0.43629096, 0.43634445, 0.43639237,\n",
       "        0.43643469, 0.4364714 , 0.43650248, 0.43652793, 0.43654773,\n",
       "        0.43656188, 0.43657038, 0.43657321, 0.43657038, 0.43656188],\n",
       "       [0.41650443, 0.41682188, 0.41713932, 0.41745666, 0.41777386,\n",
       "        0.41809084, 0.41840753, 0.41872388, 0.41903982, 0.41935528,\n",
       "        0.41967019, 0.41998448, 0.42029807, 0.42061091, 0.42092292,\n",
       "        0.42123402, 0.42154415, 0.42185323, 0.42216118, 0.42246793,\n",
       "        0.4227734 , 0.42307753, 0.42338022, 0.42368141, 0.42398102,\n",
       "        0.42427896, 0.42457517, 0.42486956, 0.42516205, 0.42545257,\n",
       "        0.42574103, 0.42602736, 0.42631147, 0.42659329, 0.42687273,\n",
       "        0.42714972, 0.42742417, 0.427696  , 0.42796514, 0.42823151,\n",
       "        0.42849502, 0.4287556 , 0.42901317, 0.42926764, 0.42951895,\n",
       "        0.42976701, 0.43001174, 0.43025307, 0.43049092, 0.43072522,\n",
       "        0.43095588, 0.43118284, 0.43140603, 0.43162536, 0.43184077,\n",
       "        0.43205218, 0.43225953, 0.43246275, 0.43266176, 0.4328565 ,\n",
       "        0.43304691, 0.43323291, 0.43341445, 0.43359147, 0.43376389,\n",
       "        0.43393166, 0.43409473, 0.43425303, 0.43440651, 0.43455512,\n",
       "        0.4346988 , 0.4348375 , 0.43497117, 0.43509976, 0.43522324,\n",
       "        0.43534154, 0.43545464, 0.43556248, 0.43566504, 0.43576227,\n",
       "        0.43585413, 0.4359406 , 0.43602164, 0.43609723, 0.43616732,\n",
       "        0.43623191, 0.43629096, 0.43634445, 0.43639237, 0.43643469,\n",
       "        0.4364714 , 0.43650248, 0.43652793, 0.43654773, 0.43656188,\n",
       "        0.43657038, 0.43657321, 0.43657038, 0.43656188, 0.43654773]])"
      ]
     },
     "execution_count": 10,
     "metadata": {},
     "output_type": "execute_result"
    }
   ],
   "source": [
    "z2[0:4]\n",
    "# if output of sigmoid function is less than 1/2,  then it belongs to class 0\n",
    "# if output of sigmoind function is > 1/2, it belongs to class 1"
   ]
  },
  {
   "cell_type": "markdown",
   "metadata": {},
   "source": [
    "# Overview of Datasets We've Covered"
   ]
  },
  {
   "cell_type": "markdown",
   "metadata": {},
   "source": [
    "## Iris Dataset\n",
    "\n",
    "A dataset consisting of 3 different types of iris flowers: Setosa, Versicolour, and Virginica, with their petal length and sepal length. When considering Iris-Setosa vs non-Iris-Setosa, the dataset is **linearly separable**."
   ]
  },
  {
   "cell_type": "code",
   "execution_count": 5,
   "metadata": {},
   "outputs": [
    {
     "data": {
      "text/plain": [
       "Text(0.5, 1.0, 'Iris dataset')"
      ]
     },
     "execution_count": 5,
     "metadata": {},
     "output_type": "execute_result"
    },
    {
     "data": {
      "image/png": "[encoded data removed]",
      "text/plain": [
       "<Figure size 432x288 with 1 Axes>"
      ]
     },
     "metadata": {
      "needs_background": "light"
     },
     "output_type": "display_data"
    }
   ],
   "source": [
    "from sklearn.datasets import load_iris\n",
    "iris = load_iris() # default dataset\n",
    "X = iris.data[:, (2, 3)] # petal length, petal width\n",
    "y = iris.target\n",
    "plt.plot(X[y==0, 0], X[y==0, 1], \"yo\", label=\"Iris-Setosa\")\n",
    "plt.plot(X[y==1, 0], X[y==1, 1], \"bo\", label=\"Iris-Versicolour\")\n",
    "plt.plot(X[y==2, 0], X[y==2, 1], \"ro\", label=\"Iris-Virginica\")\n",
    "plt.xlabel(\"Petal length\", fontsize=14)\n",
    "plt.ylabel(\"Petal width\", fontsize=14)\n",
    "plt.title(\"Iris dataset\")"
   ]
  },
  {
   "cell_type": "markdown",
   "metadata": {},
   "source": [
    "# Moons Dataset\n",
    "\n",
    "A dataset featuring two interleaving half-circles. This dataset is *not* linearly separable."
   ]
  },
  {
   "cell_type": "code",
   "execution_count": 6,
   "metadata": {},
   "outputs": [
    {
     "data": {
      "image/png": "[encoded data removed]",
      "text/plain": [
       "<Figure size 432x288 with 1 Axes>"
      ]
     },
     "metadata": {
      "needs_background": "light"
     },
     "output_type": "display_data"
    }
   ],
   "source": [
    "from sklearn.datasets import make_moons\n",
    "\n",
    "m = 1000\n",
    "X_moons, y_moons = make_moons(m, noise=0.1, random_state=42)\n",
    "\n",
    "#plot\n",
    "import matplotlib\n",
    "import matplotlib.pyplot as plt\n",
    "plt.rcParams['axes.labelsize'] = 14\n",
    "plt.rcParams['xtick.labelsize'] = 12\n",
    "plt.rcParams['ytick.labelsize'] = 12\n",
    "plt.plot(X_moons[y_moons == 1, 0], X_moons[y_moons == 1, 1], 'go',\n",
    "label=\"Positive\")\n",
    "plt.plot(X_moons[y_moons == 0, 0], X_moons[y_moons == 0, 1], 'r^',\n",
    "label=\"Negative\")\n",
    "plt.legend()\n",
    "plt.show()"
   ]
  },
  {
   "cell_type": "markdown",
   "metadata": {},
   "source": [
    "# XOR dataset\n",
    "\n",
    "A dataset from the XOR operator: This is a simple dataset that is **not** linearly separable.\n",
    "\n",
    "| x | y | Class |\n",
    "| --- | --- | --- |\n",
    "| 0 | 0 | 0 |\n",
    "| 1 | 0 | 1 |\n",
    "| 0 | 1 | 1 |\n",
    "| 1 | 1 | 0 |"
   ]
  },
  {
   "cell_type": "code",
   "execution_count": 7,
   "metadata": {
    "scrolled": false
   },
   "outputs": [
    {
     "data": {
      "text/plain": [
       "[<matplotlib.lines.Line2D at 0x1e952cb5b00>]"
      ]
     },
     "execution_count": 7,
     "metadata": {},
     "output_type": "execute_result"
    },
    {
     "data": {
      "image/png": "[encoded data removed]",
      "text/plain": [
       "<Figure size 432x288 with 1 Axes>"
      ]
     },
     "metadata": {
      "needs_background": "light"
     },
     "output_type": "display_data"
    }
   ],
   "source": [
    "plt.plot([0, 1], [0, 1], \"gs\", markersize=20)\n",
    "plt.plot([0, 1], [1, 0], \"y^\", markersize=20)"
   ]
  },
  {
   "cell_type": "markdown",
   "metadata": {},
   "source": [
    "# Logistic Regression"
   ]
  },
  {
   "cell_type": "markdown",
   "metadata": {},
   "source": [
    "Will probably cover this in more detail on Thursday, but the idea is:\n",
    "\n",
    "**Logistic Regression is Perceptron, except the activation function is the sigmoid function**.\n",
    "\n",
    "### Perceptron\n",
    "\n",
    "$$y = \\text{heaviside}(\\mathbf{w}^T \\mathbf{x} + b)$$\n",
    "\n",
    "### Logistic Regression\n",
    "\n",
    "$$y = \\text{sigmoid}(\\mathbf{w}^T \\mathbf{x} + b)$$\n",
    "\n",
    "\n",
    "The **decision boundary** is still a **hyperplane** (line in 2D):\n",
    "$$\\{x \\colon \\text{sigmoid}(\\mathbf{w}^T \\mathbf{x} + b) = 1/2\\}$$"
   ]
  },
  {
   "cell_type": "code",
   "execution_count": 12,
   "metadata": {
    "scrolled": true
   },
   "outputs": [
    {
     "name": "stdout",
     "output_type": "stream",
     "text": [
      "[[ 1.         -0.7805163   0.4411743 ]\n",
      " [ 1.          0.61370557 -0.24236929]\n",
      " [ 1.          0.16853385  0.15669452]\n",
      " [ 1.          0.28271921  0.84638678]\n",
      " [ 1.         -0.61487864  0.78298668]]\n",
      "[[0]\n",
      " [1]\n",
      " [1]\n",
      " [0]\n",
      " [0]]\n",
      "Epoch: 0 \tLoss: 0.8769182\n",
      "Epoch: 100 \tLoss: 0.35170197\n"
     ]
    }
   ],
   "source": [
    "#add an extra bias feature (x0=1) to every instance: add a column of 1’s on\n",
    "#the left of input matrix 𝐗\n",
    "X_moons_with_bias = np.c_[np.ones((m, 1)), X_moons]\n",
    "X_moons_with_bias[:5] #display\n",
    "\n",
    "#reshape y_train into a column vector\n",
    "y_moons_column_vector = y_moons.reshape(-1, 1)\n",
    "# data split\n",
    "test_ratio = 0.2\n",
    "test_size = int(m * test_ratio)\n",
    "X_train = X_moons_with_bias[:-test_size]\n",
    "X_test = X_moons_with_bias[-test_size:]\n",
    "y_train = y_moons_column_vector[:-test_size]\n",
    "y_test = y_moons_column_vector[-test_size:]\n",
    "\n",
    "# random batch function\n",
    "def random_batch(X_train, y_train, batch_size):\n",
    "    rnd_indices = np.random.randint(0, len(X_train), batch_size)\n",
    "    X_batch = X_train[rnd_indices]\n",
    "    y_batch = y_train[rnd_indices]\n",
    "    return X_batch, y_batch\n",
    "\n",
    "\n",
    "#display a batch of size 5\n",
    "X_batch, y_batch = random_batch(X_train, y_train, 5)\n",
    "print(X_batch)\n",
    "\n",
    "#display y_batch\n",
    "print(y_batch)\n",
    "\n",
    "#define model (1) and initialize\n",
    "import tensorflow as tf\n",
    "import numpy as np\n",
    "n_inputs = 2\n",
    "tf.compat.v1.disable_eager_execution()\n",
    "\n",
    "\n",
    "X = tf.compat.v1.placeholder(tf.float32, shape=(None, n_inputs + 1), name=\"X\")\n",
    "y = tf.compat.v1.placeholder(tf.float32, shape=(None, 1), name=\"y\")\n",
    "theta = tf.Variable(tf.random.uniform([n_inputs + 1, 1], -1.0, 1.0, seed=42),\n",
    "name=\"theta\")\n",
    "logits = tf.matmul(X, theta, name=\"logits\")\n",
    "y_proba = tf.sigmoid(logits)\n",
    "\n",
    "\n",
    "loss = tf.compat.v1.losses.log_loss(y, y_proba)\n",
    "learning_rate = 0.01\n",
    "optimizer = tf.compat.v1.train.GradientDescentOptimizer(learning_rate=learning_rate)\n",
    "training_op = optimizer.minimize(loss)\n",
    "init = tf.compat.v1.global_variables_initializer()\n",
    "\n",
    "n_epochs = 200\n",
    "batch_size = 50\n",
    "n_batches = int(np.ceil(m / batch_size))\n",
    "\n",
    "axes = [-1.25, 2.25, -.75, 1.25]\n",
    "x0, x1 = np.meshgrid(\n",
    " np.linspace(axes[0], axes[1], 400).reshape(-1, 1),\n",
    " np.linspace(axes[2], axes[3], 200).reshape(-1, 1),\n",
    " )\n",
    "X_new = np.c_[np.ones((80000, 1)),x0.ravel(), x1.ravel()]\n",
    "\n",
    "with tf.compat.v1.Session() as sess:\n",
    "    sess.run(init)\n",
    "    for epoch in range(n_epochs):\n",
    "        for batch_index in range(n_batches):\n",
    "            X_batch, y_batch = random_batch(X_train, y_train, batch_size)\n",
    "            sess.run(training_op, feed_dict={X: X_batch, y: y_batch})\n",
    "            loss_val = loss.eval({X: X_test, y: y_test})\n",
    "        if epoch % 100 == 0:\n",
    "            print(\"Epoch:\", epoch, \"\\tLoss:\", loss_val)\n",
    "            y_proba_val = y_proba.eval(feed_dict={X: X_test, y: y_test})\n",
    "    y_proba_val = y_proba.eval(feed_dict={X: X_test})\n",
    "    y_proba_val2 = y_proba.eval(feed_dict={X: X_new})"
   ]
  },
  {
   "cell_type": "code",
   "execution_count": 13,
   "metadata": {},
   "outputs": [
    {
     "name": "stdout",
     "output_type": "stream",
     "text": [
      "0.845\n"
     ]
    }
   ],
   "source": [
    "y_pred = np.round(y_proba_val) # round probability to 0 or 1\n",
    "x=tf.compat.v1.placeholder(tf.int32,None)\n",
    "y=tf.compat.v1.placeholder(tf.int32,None)\n",
    "acc, acc_op=tf.compat.v1.metrics.accuracy(labels= x,predictions=y)\n",
    "sess=tf.compat.v1.Session()\n",
    "sess.run(tf.compat.v1.global_variables_initializer())\n",
    "sess.run(tf.compat.v1.local_variables_initializer())\n",
    "val=sess.run([acc,acc_op], feed_dict={x: y_pred, y: y_test})\n",
    "val_acc=sess.run(acc)\n",
    "print(val_acc)\n"
   ]
  },
  {
   "cell_type": "code",
   "execution_count": 14,
   "metadata": {},
   "outputs": [
    {
     "data": {
      "text/plain": [
       "0.8469387755102041"
      ]
     },
     "execution_count": 14,
     "metadata": {},
     "output_type": "execute_result"
    }
   ],
   "source": [
    "#alternatively use sklearn metrics\n",
    "y_pred = (y_proba_val >= 0.5) #logical output: true/false\n",
    "from sklearn.metrics import precision_score\n",
    "precision_score(y_test, y_pred)\n"
   ]
  },
  {
   "cell_type": "code",
   "execution_count": null,
   "metadata": {},
   "outputs": [],
   "source": [
    "X_test"
   ]
  },
  {
   "cell_type": "code",
   "execution_count": 15,
   "metadata": {
    "scrolled": true
   },
   "outputs": [
    {
     "data": {
      "image/png": "[encoded data removed]",
      "text/plain": [
       "<Figure size 432x288 with 1 Axes>"
      ]
     },
     "metadata": {
      "needs_background": "light"
     },
     "output_type": "display_data"
    }
   ],
   "source": [
    "# plot prediction\n",
    "y_pred_idx = y_pred.reshape(-1) # 1D array rather than a column vector\n",
    "plt.plot(X_test[y_pred_idx, 1], X_test[y_pred_idx, 2], 'go', label=\"Positive\")\n",
    "plt.plot(X_test[~y_pred_idx, 1], X_test[~y_pred_idx, 2], 'r^',label=\"Negative\")\n",
    "from matplotlib.colors import ListedColormap\n",
    "custom_cmap = ListedColormap(['#9898ff', '#fafab0']) # yellow and blue\n",
    "y_predict = y_proba_val2.reshape(x0.shape)\n",
    "plt.contourf(x0, x1, y_predict, cmap=custom_cmap)\n",
    "plt.legend()\n",
    "plt.show()"
   ]
  },
  {
   "cell_type": "markdown",
   "metadata": {},
   "source": [
    "# Post-Midterm Review"
   ]
  },
  {
   "cell_type": "markdown",
   "metadata": {},
   "source": [
    "**Topics**\n",
    "\n",
    "* Nonlinear Conjugate Gradient Methods\n",
    "\n",
    "* Heavy Ball Method\n",
    "\n",
    "* Stochastic, Minibatch Gradient Descent\n",
    "\n",
    "* Least Squares\n",
    "\n",
    "* Neural Networks, Perceptron, Multilayer Perceptron\n",
    "\n",
    "\n",
    "\n"
   ]
  },
  {
   "cell_type": "markdown",
   "metadata": {},
   "source": [
    "## Conjugate Gradient Methods\n",
    "\n",
    "1. Determine $\\alpha_k$ and update $\\mathbf{x}_{k+1} = \\mathbf{x}_k + \\alpha_k\\mathbf{p}_k$.\n",
    "2. Set $\\mathbf{p}_{k+1} = -\\nabla f_{k+1} + \\beta_k\\mathbf{p}_k$\n",
    "\n",
    "For **linear** conjugate gradient method, we have an explicit formula for $\\alpha_k, \\beta_k$.\n",
    "\n",
    "For **nonlinear** conjugate gradient methods, we use backtracking / exact line search for $\\alpha_k$, while the choice of $\\beta_k$ depends on the nonlinear method chosen.\n",
    "\n",
    "For nonlinear conjugate gradient methods, we can **restart the direction** (set $\\beta_k = 0$ every few iterations) to restore the Q-conjugacy of the directions.\n",
    "\n",
    "* Conjugate gradients converge in $n$ steps for Quadratic functions $f(x) = 1/2 x^T Q x - b^T x$\n",
    "\n",
    "## Heavy Ball Method\n",
    "\n",
    "$$ \\begin{align*}\n",
    "    \\mathbf{p}_k &= -\\nabla f_k \\color{red}{- \\beta \\mathbf{p}_{k-1}} \\\\\n",
    "    \\mathbf{x}_{k+1} &= \\mathbf{x}_k + \\alpha\\mathbf{p}_k\n",
    "\\end{align*} $$\n",
    "\n",
    "$\\alpha$ is a fixed step size, $\\beta$ is a fixed momentum parameter.\n",
    "\n",
    "Heavy Ball is similar to the conjugate gradient method, except Conjugate Gradient Method will have an adaptive $\\alpha$ and $\\beta$.\n",
    "\n",
    "## Convergence of Steepest Descent / Heavy Ball\n",
    "\n",
    "A function is **strongly convex** if\n",
    "$$ f(\\mathbf{y}) \\ge f(\\mathbf{x} + \\nabla f(\\mathbf{x})^T(\\mathbf{y} - \\mathbf{x}) + \\frac{\\mu}{2} \\|\\mathbf{y} - \\mathbf{x}\\|^2$$\n",
    "\n",
    "A function is **strongly smoooth** if\n",
    "$$ f(\\mathbf{y}) \\le f(\\mathbf{x}) + \\nabla f(\\mathbf{x})^T (\\mathbf{y} - \\mathbf{x}) + \\frac{L}{2} \\| \\mathbf{y} - \\mathbf{x}\\|^2$$\n",
    "\n",
    "$\\kappa = L / \\mu$, where $L$ is the upper bound for eigenvalues of the Hessian, $\\mu$ is the lower bound for eigenvalues of the Hessian.\n",
    "\n",
    "For **Steepest Descent**:\n",
    "\n",
    "Optimal step length $\\alpha = \\frac{2}{L+\\mu}$\n",
    "\n",
    "$$\\|x_{k+1} - x^*\\| \\le \\frac{L - \\mu}{L + \\mu} \\|x_k - x^*\\|$$\n",
    "\n",
    "For **Heavy Ball**:\n",
    "\n",
    "Optimal $$\\alpha = \\frac{4}{(L^{1/2} + \\mu^{1/2})^2}$$\n",
    "\n",
    "Optimal $$\\beta = \\frac{(L^{1/2} - \\mu^{1/2})^2}{(L^{1/2} + \\mu^{1/2})^2}$$\n",
    "\n",
    "Then $$\\|x_{k+1}-x^* \\| \\le \\left(\\frac{L^{1/2} - \\mu^{1/2}}{L^{1/2} + \\mu^{1/2}}\\right) \\|x_k -x^* \\|$$\n",
    "\n",
    "## Least Squares\n",
    "\n",
    "**Goal**: Given dataset of inputs and outputs, minimize the sum of squared residuals.\n",
    "\n",
    "For **Linear Least Squares**, this can be formulated as the problem\n",
    "\n",
    "$$\\min_x \\|Ax - b\\|^2$$\n",
    "\n",
    "![Error](https://i.imgur.com/m2GQldd.png)\n",
    "\n",
    "The **normal equations**:\n",
    "$$ A^T Ax = A^T b$$\n",
    "\n",
    "**Solving the normal equations**:\n",
    "$$x = (A^T A)^{-1} A^T b$$\n",
    "\n",
    "We can solve a least squares problem either by solving the normal equation, or by performing Gradient descent to find $x$.\n",
    "\n",
    "Gradient Descent has the advantage of not having to invert a matrix.\n",
    "\n",
    "## Overfitting/Underfitting\n",
    "\n",
    "**Overfitting**: When your model fits too well to your training set, limiting its performance when predicting new data.\n",
    "\n",
    "**Underfitting**: When your model is too simplistic to fit well to the training set.\n",
    "\n",
    "![img](https://miro.medium.com/max/1400/1*_7OPgojau8hkiPUiHoGK_w.png)"
   ]
  },
  {
   "cell_type": "markdown",
   "metadata": {},
   "source": [
    "# Neural Networks\n",
    "\n",
    "Neural networks consist of interconnected **neurons**, with inputs to the neuron consisting of weighted outputs of other neurons.\n",
    "\n",
    "They're used to find a function which fits to arbitrary data points.\n",
    "\n",
    "This function using Gradient Descent: The loss function $E$ represents the difference between the predicted and actual values of the output. The gradients $\\frac{\\partial E}{\\partial w_{jk}$ are found then used to update each $w$ in Gradient Descent.\n",
    "\n",
    "The way this works in the algorithm is:\n",
    "\n",
    "1. Forward propagation of the network:\n",
    "![img](https://i.imgur.com/s2Pm2WW.png)\n",
    "\n",
    "Compute the outputs of each of the intermediate neurons to get the final outputs $y_1,\\dots y_n$.\n",
    "\n",
    "2. Compute the gradients of the weights in the outer layer.\n",
    "\n",
    "These gradients can be found using the outputs of all the neurons, so $\\frac{\\partial E}{\\partial w_{jk}^o}$ can be calculated.\n",
    "\n",
    "3. Compute the gradients of the weights in the hidden layer before the outer layer.\n",
    "\n",
    "These gradients can be founding using the gradients of the weights in the outer layer, so $\\frac{\\partial E}{\\partial w_{jk}^h}$ can be found.\n",
    "\n",
    "4. Continue like this until you've found all the gradients in the network.\n",
    "\n",
    "5. Update weights: $w_{jk} = w_{jk} - \\eta \\frac{\\partial E}{\\partial w_{jk}}$"
   ]
  },
  {
   "cell_type": "markdown",
   "metadata": {},
   "source": [
    "# Sample Questions\n",
    "\n",
    "1. True/False: The following decision boundary could be the decision boundary of a Perceptron.\n",
    "\n",
    "True/False: The following decision boundary could be the decision boundary of a Multi-Layer Perceptron.\n",
    "\n",
    "True/False: The following decision boundary could be the decision boundary of a logistic regression model.\n",
    "\n",
    "\n",
    "<div>\n",
    "<img src=\"https://i.stack.imgur.com/LZWS8.png\" width=\"300\">\n",
    "</div>\n",
    "\n",
    "2. True/False: The following data is linearly separable.\n",
    "\n",
    "![img](https://i.imgur.com/sSVTstp.png)\n",
    "\n",
    "3. Why do we introduce a **variable learning schedule** when performing Stochastic Gradient Descent?\n",
    "\n",
    "4. Given a strongly convex and strongly smooth function with smallest\n",
    "eigenvalue of the Hessian equal to U and largest eigenvalue equal to L, which\n",
    "of the following represents the optimal fixed value of $\\beta$ to use in the\n",
    "heavyball method? \n",
    "\n",
    "    a.) $\\beta = \\frac{(L - U)^2}{(L + U)^2}$\n",
    "\n",
    "    b.)  $\\beta = \\frac{(L^{1/2} - U^{1/2})^2}{(L^{1/2} + U^{1/2})^2}$\n",
    "\n",
    "    c.)  $\\beta = \\frac{(L - U)}{(L + U)}$\n",
    "\n",
    "    d.)  $\\beta = \\frac{\\kappa - 1}{\\kappa + 1}$\n",
    "\n",
    "5.) We want to minimize $\\| Ax - b \\|^2$ given an $m \\times n$ matrix $A$, a $n \\times 1$ vector $x$, and a $m \\times 1$ matrix $b$. $m$ is the number of input data points, $n$ is the number of input features.\n",
    "\n",
    "If we want to minimize this by solving the normal equations $x^* = (A^T A)^{-1}A^T b$, which combination of dimensions $m,n$ would require the most computations?\n",
    "\n",
    "   a.) $m = 100, n = 125$\n",
    "\n",
    "   b.) $m = 25, n = 500$\n",
    "\n",
    "   c.) $m = 500, n = 25$\n",
    "\n",
    "   d.) $m = 50, n = 250$\n",
    "\n",
    "   \n",
    "   \n",
    "6.) Why would we want to use stochastic or minibatch gradient descent instead of batch gradient descent?\n",
    "  \n",
    "      a.) Stochastic gradient descent approaches the minimizer with less oscillation than batch gradient descent.\n",
    "\n",
    "      b.) Minibatch gradient descent updates the value of x fewer times per epoch.\n",
    "\n",
    "      c.) Batch gradient descent calculates the gradient using all of the data points, which is computationally expensive.\n",
    "\n",
    "      d.) Stochastic gradient descent always converges faster than Batch Gradient Descent."
   ]
  }
 ],
 "metadata": {
  "kernelspec": {
   "display_name": "Python 3",
   "language": "python",
   "name": "python3"
  },
  "language_info": {
   "codemirror_mode": {
    "name": "ipython",
    "version": 3
   },
   "file_extension": ".py",
   "mimetype": "text/x-python",
   "name": "python",
   "nbconvert_exporter": "python",
   "pygments_lexer": "ipython3",
   "version": "3.7.3"
  }
 },
 "nbformat": 4,
 "nbformat_minor": 2
}
